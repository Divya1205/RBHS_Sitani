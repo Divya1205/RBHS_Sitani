{
 "cells": [
  {
   "cell_type": "code",
   "execution_count": 1,
   "metadata": {},
   "outputs": [
    {
     "name": "stderr",
     "output_type": "stream",
     "text": [
      "/anaconda3/lib/python3.6/site-packages/sklearn/cross_validation.py:41: DeprecationWarning: This module was deprecated in version 0.18 in favor of the model_selection module into which all the refactored classes and functions are moved. Also note that the interface of the new CV iterators are different from that of this module. This module will be removed in 0.20.\n",
      "  \"This module will be removed in 0.20.\", DeprecationWarning)\n"
     ]
    }
   ],
   "source": [
    "import numpy as np  \n",
    "import matplotlib.pyplot as plt  \n",
    "\n",
    "import pandas as pd  \n",
    "\n",
    "import os\n",
    "from sklearn.neighbors import KNeighborsClassifier\n",
    "from sklearn.cross_validation import cross_val_score\n",
    "import matplotlib.pyplot as plt\n",
    "%matplotlib inline\n",
    "import matlab.engine"
   ]
  },
  {
   "cell_type": "code",
   "execution_count": 2,
   "metadata": {},
   "outputs": [
    {
     "name": "stdout",
     "output_type": "stream",
     "text": [
      "(250, 58)\n",
      "(63, 58)\n",
      "(250,)\n",
      "(63,)\n"
     ]
    }
   ],
   "source": [
    "X=pd.read_csv('train_whole.csv',header=None)\n",
    "y=pd.read_csv('label_whole.csv',header=None)\n",
    "\n",
    "X_train = pd.read_csv('train.csv',header=None)\n",
    "X_valid = pd.read_csv('valid.csv',header=None)\n",
    "\n",
    "y_train=pd.read_csv('label_train2.csv',header=None)\n",
    "y_valid=pd.read_csv('label_valid2.csv',header=None)\n",
    "\n",
    "X_test=pd.read_csv('test.csv',header=None)\n",
    "y_test=pd.read_csv('label_test2.csv',header=None)\n",
    "\n",
    "X_train=X_train.T#transpose\n",
    "X_valid=X_valid.T\n",
    "X=X.T\n",
    "X_test=X_test.T\n",
    "\n",
    "y_train=y_train.values.ravel()\n",
    "y_valid=y_valid.values.ravel()\n",
    "y=y.values.ravel()\n",
    "y_test=y_test.values.ravel()\n",
    "\n",
    "print(X_train.shape)\n",
    "print(X_valid.shape)\n",
    "print(y_train.shape)\n",
    "print(y_valid.shape)"
   ]
  },
  {
   "cell_type": "code",
   "execution_count": 3,
   "metadata": {},
   "outputs": [
    {
     "name": "stderr",
     "output_type": "stream",
     "text": [
      "/anaconda3/lib/python3.6/site-packages/sklearn/grid_search.py:42: DeprecationWarning: This module was deprecated in version 0.18 in favor of the model_selection module into which all the refactored classes and functions are moved. This module will be removed in 0.20.\n",
      "  DeprecationWarning)\n"
     ]
    }
   ],
   "source": [
    "from sklearn.grid_search import GridSearchCV"
   ]
  },
  {
   "cell_type": "code",
   "execution_count": 4,
   "metadata": {},
   "outputs": [],
   "source": [
    "# define the parameter values that should be searched\n",
    "k_range = list(range(1, 40))\n",
    "\n",
    "# Another parameter besides k that we might vary is the weights parameters\n",
    "# default options --> uniform (all points in the neighborhood are weighted equally)\n",
    "# another option --> distance (weights closer neighbors more heavily than further neighbors)\n",
    "\n",
    "# we create a list\n",
    "weight_options = ['uniform', 'distance']\n",
    "#weight_options = ['uniform']\n",
    "score=['accuracy','f1','precision','recall','roc_auc']\n"
   ]
  },
  {
   "cell_type": "code",
   "execution_count": 5,
   "metadata": {},
   "outputs": [
    {
     "name": "stdout",
     "output_type": "stream",
     "text": [
      "{'n_neighbors': [1, 2, 3, 4, 5, 6, 7, 8, 9, 10, 11, 12, 13, 14, 15, 16, 17, 18, 19, 20, 21, 22, 23, 24, 25, 26, 27, 28, 29, 30, 31, 32, 33, 34, 35, 36, 37, 38, 39], 'weights': ['uniform', 'distance']}\n"
     ]
    }
   ],
   "source": [
    "# create a parameter grid: map the parameter names to the values that should be searched\n",
    "# dictionary = dict(key=values, key=values)\n",
    "param_grid = dict(n_neighbors=k_range, weights=weight_options)\n",
    "print(param_grid)"
   ]
  },
  {
   "cell_type": "code",
   "execution_count": 6,
   "metadata": {},
   "outputs": [
    {
     "data": {
      "text/plain": [
       "GridSearchCV(cv=5, error_score='raise',\n",
       "       estimator=KNeighborsClassifier(algorithm='auto', leaf_size=30, metric='minkowski',\n",
       "           metric_params=None, n_jobs=1, n_neighbors=5, p=2,\n",
       "           weights='uniform'),\n",
       "       fit_params={}, iid=True, n_jobs=1,\n",
       "       param_grid={'n_neighbors': [1, 2, 3, 4, 5, 6, 7, 8, 9, 10, 11, 12, 13, 14, 15, 16, 17, 18, 19, 20, 21, 22, 23, 24, 25, 26, 27, 28, 29, 30, 31, 32, 33, 34, 35, 36, 37, 38, 39], 'weights': ['uniform', 'distance']},\n",
       "       pre_dispatch='2*n_jobs', refit=True, scoring='recall', verbose=0)"
      ]
     },
     "execution_count": 6,
     "metadata": {},
     "output_type": "execute_result"
    }
   ],
   "source": [
    "# instantiate and fit the grid\n",
    "# exhaustive grid-search because it's trying every combination\n",
    "# 10-fold cross-validation is being performed 30 x 2 = 60 times\n",
    "knn=KNeighborsClassifier(n_neighbors=5)\n",
    "grid = GridSearchCV(knn, param_grid, cv=5,scoring='recall')\n",
    "grid.fit(X, y)\n"
   ]
  },
  {
   "cell_type": "code",
   "execution_count": 7,
   "metadata": {},
   "outputs": [
    {
     "data": {
      "text/plain": [
       "([mean: 0.59351, std: 0.07007, params: {'n_neighbors': 1, 'weights': 'uniform'},\n",
       "  mean: 0.59351, std: 0.07007, params: {'n_neighbors': 1, 'weights': 'distance'},\n",
       "  mean: 0.38281, std: 0.09197, params: {'n_neighbors': 2, 'weights': 'uniform'},\n",
       "  mean: 0.59351, std: 0.07007, params: {'n_neighbors': 2, 'weights': 'distance'},\n",
       "  mean: 0.66839, std: 0.08879, params: {'n_neighbors': 3, 'weights': 'uniform'},\n",
       "  mean: 0.68346, std: 0.08253, params: {'n_neighbors': 3, 'weights': 'distance'},\n",
       "  mean: 0.50340, std: 0.09977, params: {'n_neighbors': 4, 'weights': 'uniform'},\n",
       "  mean: 0.66888, std: 0.07773, params: {'n_neighbors': 4, 'weights': 'distance'},\n",
       "  mean: 0.62349, std: 0.08957, params: {'n_neighbors': 5, 'weights': 'uniform'},\n",
       "  mean: 0.66126, std: 0.07002, params: {'n_neighbors': 5, 'weights': 'distance'},\n",
       "  mean: 0.48816, std: 0.12542, params: {'n_neighbors': 6, 'weights': 'uniform'},\n",
       "  mean: 0.64602, std: 0.08491, params: {'n_neighbors': 6, 'weights': 'distance'},\n",
       "  mean: 0.59351, std: 0.13434, params: {'n_neighbors': 7, 'weights': 'uniform'},\n",
       "  mean: 0.62382, std: 0.11585, params: {'n_neighbors': 7, 'weights': 'distance'},\n",
       "  mean: 0.48833, std: 0.13121, params: {'n_neighbors': 8, 'weights': 'uniform'},\n",
       "  mean: 0.62366, std: 0.09561, params: {'n_neighbors': 8, 'weights': 'distance'},\n",
       "  mean: 0.57877, std: 0.12007, params: {'n_neighbors': 9, 'weights': 'uniform'},\n",
       "  mean: 0.60146, std: 0.12953, params: {'n_neighbors': 9, 'weights': 'distance'},\n",
       "  mean: 0.48071, std: 0.11532, params: {'n_neighbors': 10, 'weights': 'uniform'},\n",
       "  mean: 0.60129, std: 0.12013, params: {'n_neighbors': 10, 'weights': 'distance'},\n",
       "  mean: 0.57131, std: 0.09653, params: {'n_neighbors': 11, 'weights': 'uniform'},\n",
       "  mean: 0.58638, std: 0.11188, params: {'n_neighbors': 11, 'weights': 'distance'},\n",
       "  mean: 0.48865, std: 0.08392, params: {'n_neighbors': 12, 'weights': 'uniform'},\n",
       "  mean: 0.55624, std: 0.06104, params: {'n_neighbors': 12, 'weights': 'distance'},\n",
       "  mean: 0.57909, std: 0.08582, params: {'n_neighbors': 13, 'weights': 'uniform'},\n",
       "  mean: 0.57893, std: 0.09383, params: {'n_neighbors': 13, 'weights': 'distance'},\n",
       "  mean: 0.51151, std: 0.08853, params: {'n_neighbors': 14, 'weights': 'uniform'},\n",
       "  mean: 0.55657, std: 0.07083, params: {'n_neighbors': 14, 'weights': 'distance'},\n",
       "  mean: 0.57893, std: 0.05897, params: {'n_neighbors': 15, 'weights': 'uniform'},\n",
       "  mean: 0.57877, std: 0.08850, params: {'n_neighbors': 15, 'weights': 'distance'},\n",
       "  mean: 0.53371, std: 0.06133, params: {'n_neighbors': 16, 'weights': 'uniform'},\n",
       "  mean: 0.58655, std: 0.06977, params: {'n_neighbors': 16, 'weights': 'distance'},\n",
       "  mean: 0.58671, std: 0.07525, params: {'n_neighbors': 17, 'weights': 'uniform'},\n",
       "  mean: 0.59417, std: 0.09129, params: {'n_neighbors': 17, 'weights': 'distance'},\n",
       "  mean: 0.52658, std: 0.08690, params: {'n_neighbors': 18, 'weights': 'uniform'},\n",
       "  mean: 0.59417, std: 0.06605, params: {'n_neighbors': 18, 'weights': 'distance'},\n",
       "  mean: 0.55640, std: 0.04841, params: {'n_neighbors': 19, 'weights': 'uniform'},\n",
       "  mean: 0.57148, std: 0.05467, params: {'n_neighbors': 19, 'weights': 'distance'},\n",
       "  mean: 0.51151, std: 0.06287, params: {'n_neighbors': 20, 'weights': 'uniform'},\n",
       "  mean: 0.56435, std: 0.06812, params: {'n_neighbors': 20, 'weights': 'distance'},\n",
       "  mean: 0.54911, std: 0.06312, params: {'n_neighbors': 21, 'weights': 'uniform'},\n",
       "  mean: 0.57180, std: 0.06023, params: {'n_neighbors': 21, 'weights': 'distance'},\n",
       "  mean: 0.48136, std: 0.07314, params: {'n_neighbors': 22, 'weights': 'uniform'},\n",
       "  mean: 0.56451, std: 0.08499, params: {'n_neighbors': 22, 'weights': 'distance'},\n",
       "  mean: 0.56418, std: 0.08441, params: {'n_neighbors': 23, 'weights': 'uniform'},\n",
       "  mean: 0.57164, std: 0.07404, params: {'n_neighbors': 23, 'weights': 'distance'},\n",
       "  mean: 0.48882, std: 0.07931, params: {'n_neighbors': 24, 'weights': 'uniform'},\n",
       "  mean: 0.54911, std: 0.06765, params: {'n_neighbors': 24, 'weights': 'distance'},\n",
       "  mean: 0.51896, std: 0.07805, params: {'n_neighbors': 25, 'weights': 'uniform'},\n",
       "  mean: 0.53404, std: 0.06241, params: {'n_neighbors': 25, 'weights': 'distance'},\n",
       "  mean: 0.47391, std: 0.09211, params: {'n_neighbors': 26, 'weights': 'uniform'},\n",
       "  mean: 0.53420, std: 0.06458, params: {'n_neighbors': 26, 'weights': 'distance'},\n",
       "  mean: 0.52691, std: 0.08453, params: {'n_neighbors': 27, 'weights': 'uniform'},\n",
       "  mean: 0.52691, std: 0.08453, params: {'n_neighbors': 27, 'weights': 'distance'},\n",
       "  mean: 0.46662, std: 0.10497, params: {'n_neighbors': 28, 'weights': 'uniform'},\n",
       "  mean: 0.53420, std: 0.06458, params: {'n_neighbors': 28, 'weights': 'distance'},\n",
       "  mean: 0.50422, std: 0.09129, params: {'n_neighbors': 29, 'weights': 'uniform'},\n",
       "  mean: 0.52675, std: 0.07566, params: {'n_neighbors': 29, 'weights': 'distance'},\n",
       "  mean: 0.45900, std: 0.09779, params: {'n_neighbors': 30, 'weights': 'uniform'},\n",
       "  mean: 0.53420, std: 0.07258, params: {'n_neighbors': 30, 'weights': 'distance'},\n",
       "  mean: 0.51167, std: 0.07337, params: {'n_neighbors': 31, 'weights': 'uniform'},\n",
       "  mean: 0.54944, std: 0.07239, params: {'n_neighbors': 31, 'weights': 'distance'},\n",
       "  mean: 0.46662, std: 0.08089, params: {'n_neighbors': 32, 'weights': 'uniform'},\n",
       "  mean: 0.56435, std: 0.05989, params: {'n_neighbors': 32, 'weights': 'distance'},\n",
       "  mean: 0.48169, std: 0.08096, params: {'n_neighbors': 33, 'weights': 'uniform'},\n",
       "  mean: 0.51946, std: 0.07999, params: {'n_neighbors': 33, 'weights': 'distance'},\n",
       "  mean: 0.44409, std: 0.09091, params: {'n_neighbors': 34, 'weights': 'uniform'},\n",
       "  mean: 0.51167, std: 0.06612, params: {'n_neighbors': 34, 'weights': 'distance'},\n",
       "  mean: 0.46678, std: 0.08631, params: {'n_neighbors': 35, 'weights': 'uniform'},\n",
       "  mean: 0.50455, std: 0.10342, params: {'n_neighbors': 35, 'weights': 'distance'},\n",
       "  mean: 0.43647, std: 0.08040, params: {'n_neighbors': 36, 'weights': 'uniform'},\n",
       "  mean: 0.51929, std: 0.06651, params: {'n_neighbors': 36, 'weights': 'distance'},\n",
       "  mean: 0.45154, std: 0.07116, params: {'n_neighbors': 37, 'weights': 'uniform'},\n",
       "  mean: 0.50455, std: 0.10342, params: {'n_neighbors': 37, 'weights': 'distance'},\n",
       "  mean: 0.44393, std: 0.07177, params: {'n_neighbors': 38, 'weights': 'uniform'},\n",
       "  mean: 0.46662, std: 0.08790, params: {'n_neighbors': 38, 'weights': 'distance'},\n",
       "  mean: 0.45154, std: 0.07116, params: {'n_neighbors': 39, 'weights': 'uniform'},\n",
       "  mean: 0.46678, std: 0.09314, params: {'n_neighbors': 39, 'weights': 'distance'}],\n",
       " {'n_neighbors': 3, 'weights': 'distance'},\n",
       " 0.6834603096583928)"
      ]
     },
     "execution_count": 7,
     "metadata": {},
     "output_type": "execute_result"
    }
   ],
   "source": [
    "# view the complete results\n",
    "grid.grid_scores_, grid.best_params_, grid.best_score_,\n",
    "#grid.grid_scores_(min(mean))"
   ]
  },
  {
   "cell_type": "code",
   "execution_count": 8,
   "metadata": {},
   "outputs": [
    {
     "name": "stdout",
     "output_type": "stream",
     "text": [
      "0.6834603096583928\n",
      "{'n_neighbors': 3, 'weights': 'distance'}\n"
     ]
    }
   ],
   "source": [
    "# train your model using all data and the best known parameters\n",
    "param1=grid.best_params_[\"n_neighbors\"]\n",
    "param2=grid.best_params_[\"weights\"]\n",
    "# instantiate model with best parameters\n",
    "\n",
    "knn = KNeighborsClassifier(n_neighbors=param1, weights=param2)\n",
    "\n",
    "# fit with X and y, not X_train and y_train\n",
    "# even if we use train/valid split, we should train on X and y before making predictions on new data\n",
    "# otherwise we throw away potential valuable data we can learn from\n",
    "knn.fit(X, y)\n",
    "\n",
    "\n",
    "print(grid.best_score_)\n",
    "print(grid.best_params_)\n",
    "#grid.best_params_[\"n_neighbors\"]\n",
    "# Best score did not improve for this model"
   ]
  },
  {
   "cell_type": "code",
   "execution_count": 9,
   "metadata": {},
   "outputs": [
    {
     "name": "stdout",
     "output_type": "stream",
     "text": [
      "0.6834603096583928\n",
      "{'n_neighbors': 3, 'weights': 'distance'}\n"
     ]
    }
   ],
   "source": [
    "# examine the best model\n",
    "print(grid.best_score_)\n",
    "print(grid.best_params_)\n",
    "#grid.best_params_[\"n_neighbors\"]\n",
    "# Best score did not improve for this model"
   ]
  },
  {
   "cell_type": "code",
   "execution_count": 10,
   "metadata": {},
   "outputs": [
    {
     "name": "stdout",
     "output_type": "stream",
     "text": [
      "Accuracy: 0.684\n",
      "Sensitivity: 0.683\n",
      "Prec: 0.628\n",
      "F1: 0.648\n",
      "AUC: 0.707\n"
     ]
    }
   ],
   "source": [
    "knn = KNeighborsClassifier(n_neighbors=param1, weights=param2)\n",
    "\n",
    "knn.fit(X, y)\n",
    "\n",
    "Acc=cross_val_score(knn, X, y, scoring='accuracy',\n",
    "          cv=5)\n",
    " \n",
    "print('Accuracy: %.3f' % Acc.mean() )\n",
    "\n",
    "Sen=cross_val_score(knn, X, y, scoring='recall',\n",
    "          cv=5)\n",
    "Sen.mean()  \n",
    "print('Sensitivity: %.3f' % Sen.mean() )\n",
    "Prec=cross_val_score(knn, X, y, scoring='precision',\n",
    "          cv=5)\n",
    "Prec.mean()  \n",
    "print('Prec: %.3f' % Prec.mean() )\n",
    "F1=cross_val_score(knn, X, y, scoring='f1',\n",
    "          cv=5)\n",
    "F1.mean()  \n",
    "print('F1: %.3f' % F1.mean() )\n",
    "AUC=cross_val_score(knn, X, y, scoring='roc_auc',\n",
    "          cv=5)\n",
    "AUC.mean()  \n",
    "print('AUC: %.3f' % AUC.mean() )\n"
   ]
  },
  {
   "cell_type": "code",
   "execution_count": 11,
   "metadata": {},
   "outputs": [
    {
     "name": "stdout",
     "output_type": "stream",
     "text": [
      "tp: 18.200\n",
      "\n",
      "\n",
      "tn: 24.600\n",
      "\n",
      "\n",
      "fp: 11.400\n",
      "\n",
      "\n",
      "fn: 8.400\n",
      "\n",
      "\n",
      "Specificity: 0.683\n",
      "MCC:0.364\n"
     ]
    }
   ],
   "source": [
    "from sklearn.model_selection import cross_validate\n",
    "from sklearn.metrics import confusion_matrix\n",
    "from sklearn.metrics import make_scorer\n",
    "import math\n",
    "\n",
    "def tn(y_true, y_pred): return confusion_matrix(y_true, y_pred)[0, 0]\n",
    "def fp(y_true, y_pred): return confusion_matrix(y_true, y_pred)[0, 1]\n",
    "def fn(y_true, y_pred): return confusion_matrix(y_true, y_pred)[1, 0]\n",
    "def tp(y_true, y_pred): return confusion_matrix(y_true, y_pred)[1, 1]\n",
    "\n",
    "scoring = {'tp': make_scorer(tp), 'tn': make_scorer(tn),\n",
    "           'fp': make_scorer(fp), 'fn': make_scorer(fn)}\n",
    "cv_results = cross_validate(knn.fit(X, y), X, y,\n",
    "                           scoring=scoring, cv=5)\n",
    "tp=cv_results['test_tp'].mean()\n",
    "fp=cv_results['test_fp'].mean()\n",
    "tn=cv_results['test_tn'].mean()\n",
    "fn=cv_results['test_fn'].mean()\n",
    "print('tp: %.3f' % tp)\n",
    "print('\\n')\n",
    "print('tn: %.3f' % tn)\n",
    "print('\\n')\n",
    "print('fp: %.3f' % fp)\n",
    "print('\\n')\n",
    "print('fn: %.3f' % fn)\n",
    "print('\\n')\n",
    "\n",
    "specificity=tn/(tn+fp)\n",
    "print('Specificity: %.3f' %specificity)\n",
    "\n",
    "MCC= (tp*tn-fp*fn)/(math.sqrt((tp+fp)*(tp+fn)*(tn+fp)*(tn+fn)))\n",
    "print('MCC:%.3f' %MCC)"
   ]
  },
  {
   "cell_type": "code",
   "execution_count": 12,
   "metadata": {},
   "outputs": [],
   "source": [
    "%matplotlib inline\n",
    "from sklearn.metrics import roc_auc_score\n",
    "from sklearn.metrics import roc_curve\n",
    "#knn.fit(X,y)\n",
    "knn = KNeighborsClassifier(n_neighbors=param1, weights=param2)\n",
    "\n",
    "\n",
    "\n",
    "knn.fit(X, y)\n",
    "y_test_pred = knn.predict(X_test) \n",
    "knn_roc_auc = roc_auc_score(y_test, y_test_pred)"
   ]
  },
  {
   "cell_type": "code",
   "execution_count": 13,
   "metadata": {},
   "outputs": [
    {
     "data": {
      "image/png": "[encoded data removed]",
      "text/plain": [
       "<Figure size 432x288 with 1 Axes>"
      ]
     },
     "metadata": {},
     "output_type": "display_data"
    }
   ],
   "source": [
    "\n",
    "\n",
    "# predict probabilities\n",
    "\n",
    "probs = knn.predict_proba(X_test)\n",
    "# keep probabilities for the positive outcome only\n",
    "probs = probs[:, 1]\n",
    "fpr, tpr, thresholds = roc_curve(y_test, probs)\n",
    "plt.figure()\n",
    "plt.plot(fpr, tpr, label='KNN(area = %0.2f)' % knn_roc_auc)\n",
    "plt.plot([0, 1], [0, 1],'r--')\n",
    "plt.xlim([0.0, 1.0])\n",
    "plt.ylim([0.0, 1.05])\n",
    "plt.ylabel('True Positive Rate(Sensitivity)')\n",
    "plt.xlabel('False Positive Rate(1-Specificity)')\n",
    "plt.title('Receiver operating characteristic')\n",
    "plt.legend(loc=\"lower right\")\n",
    "plt.savefig('KNN_ROC')\n",
    "plt.show()"
   ]
  },
  {
   "cell_type": "code",
   "execution_count": 14,
   "metadata": {},
   "outputs": [
    {
     "name": "stdout",
     "output_type": "stream",
     "text": [
      "Accuracy of KNN classifier: 0.59\n",
      "\n",
      "\n",
      "Confusion matrix : \n",
      "                    Class 1  Class 0\n",
      "Predicted Class 1       47       12\n",
      "Predicted Class 0       40       27\n",
      "\n",
      "\n",
      "\n",
      "\n",
      "[[47 12]\n",
      " [40 27]]\n",
      "Specificity : 0.5402298850574713\n",
      "\n",
      "\n",
      "Precision score: 0.40298507462686567\n",
      "\n",
      "\n",
      "Recall or Sensitivity: 0.6923076923076923\n",
      "\n",
      "\n",
      "F1 Score: 0.5094339622641508\n",
      "\n",
      "\n",
      "Matthews Correlation Coefficient: 0.21543768129298801\n",
      "\n",
      "\n",
      "AUC: 0.667\n",
      "\n",
      "\n"
     ]
    }
   ],
   "source": [
    "from sklearn.metrics import confusion_matrix \n",
    "print('Accuracy of KNN classifier: {:.2f}'.format(knn.score(X_test, y_test)))\n",
    "print('\\n')\n",
    "confusion_df = pd.DataFrame(confusion_matrix(y_test,y_test_pred),\n",
    "             columns=[\"Predicted Class \" + str(class_name) for class_name in [1,0]],\n",
    "             index = [\"Class \" + str(class_name) for class_name in [1,0]])\n",
    "\n",
    "print('Confusion matrix : \\n',confusion_df.T)\n",
    "print('\\n')\n",
    "\n",
    "\n",
    "cm1 = confusion_matrix(y_test, y_test_pred).T\n",
    "print('\\n')\n",
    "total1=sum(sum(cm1))\n",
    "print(cm1)\n",
    "#####from confusion matrix calculate sensitivity specificity\n",
    "\n",
    "tn=confusion_matrix(y_test, y_test_pred)[0, 0]\n",
    "fp=confusion_matrix(y_test, y_test_pred)[0, 1]\n",
    "fn=confusion_matrix(y_test, y_test_pred)[1, 0]\n",
    "tp=confusion_matrix(y_test, y_test_pred)[1, 1]\n",
    "#sensitivity1=tp/(tp+fn)\n",
    "\n",
    "#print('Sensitivity :', sensitivity1 )\n",
    "#print('\\n')\n",
    "\n",
    "specificity1=tn/(tn+fp)\n",
    "print('Specificity :', specificity1)\n",
    "print('\\n')\n",
    "#precision=tp/(tp+fp)\n",
    "#precision = cm1[0,0]/(cm1[0,0]+cm1[0,1])\n",
    "#print('precision :', precision)\n",
    "#print('\\n')\n",
    "from sklearn.metrics import precision_score\n",
    "print(\"Precision score: {}\".format(precision_score(y_test,y_test_pred)))\n",
    "print('\\n')\n",
    "from sklearn.metrics import recall_score\n",
    "print(\"Recall or Sensitivity: {}\".format(recall_score(y_test,y_test_pred)))\n",
    "print('\\n')\n",
    "from sklearn.metrics import f1_score\n",
    "print(\"F1 Score: {}\".format(f1_score(y_test,y_test_pred)))\n",
    "print('\\n')\n",
    "from sklearn.metrics import matthews_corrcoef\n",
    "print(\"Matthews Correlation Coefficient: {}\".format(matthews_corrcoef(y_test, y_test_pred)))\n",
    "print('\\n')\n",
    "##Area under Curve-AUC\n",
    "auc = roc_auc_score(y_test, knn.predict_proba(X_test)[:,1])\n",
    "print('AUC: %.3f' % auc)\n",
    "print('\\n')"
   ]
  },
  {
   "cell_type": "code",
   "execution_count": null,
   "metadata": {},
   "outputs": [],
   "source": []
  },
  {
   "cell_type": "code",
   "execution_count": null,
   "metadata": {},
   "outputs": [],
   "source": []
  },
  {
   "cell_type": "code",
   "execution_count": null,
   "metadata": {},
   "outputs": [],
   "source": []
  },
  {
   "cell_type": "code",
   "execution_count": null,
   "metadata": {},
   "outputs": [],
   "source": []
  }
 ],
 "metadata": {
  "kernelspec": {
   "display_name": "Python 3",
   "language": "python",
   "name": "python3"
  },
  "language_info": {
   "codemirror_mode": {
    "name": "ipython",
    "version": 3
   },
   "file_extension": ".py",
   "mimetype": "text/x-python",
   "name": "python",
   "nbconvert_exporter": "python",
   "pygments_lexer": "ipython3",
   "version": "3.6.5"
  }
 },
 "nbformat": 4,
 "nbformat_minor": 2
}
