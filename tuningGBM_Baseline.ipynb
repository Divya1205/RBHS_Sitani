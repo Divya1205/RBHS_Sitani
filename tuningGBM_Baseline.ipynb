{
 "cells": [
  {
   "cell_type": "code",
   "execution_count": 40,
   "metadata": {},
   "outputs": [],
   "source": [
    "#Import libraries:\n",
    "import pandas as pd\n",
    "import numpy as np\n",
    "import os\n",
    "from sklearn.ensemble import GradientBoostingClassifier  #GBM algorithm\n",
    "from sklearn import cross_validation, metrics   #Additional scklearn functions\n",
    "from sklearn.grid_search import GridSearchCV   #Perforing grid search\n",
    "\n",
    "import matplotlib.pylab as plt\n",
    "%matplotlib inline\n",
    "from matplotlib.pylab import rcParams\n",
    "rcParams['figure.figsize'] = 12, 4\n",
    "\n"
   ]
  },
  {
   "cell_type": "code",
   "execution_count": 41,
   "metadata": {},
   "outputs": [
    {
     "name": "stdout",
     "output_type": "stream",
     "text": [
      "(250, 58)\n",
      "(63, 58)\n",
      "(250,)\n",
      "(63,)\n"
     ]
    }
   ],
   "source": [
    "X=pd.read_csv('train_whole.csv',header=None)\n",
    "y=pd.read_csv('label_whole.csv',header=None)\n",
    "\n",
    "X_train = pd.read_csv('train.csv',header=None)\n",
    "X_valid = pd.read_csv('valid.csv',header=None)\n",
    "\n",
    "y_train=pd.read_csv('label_train2.csv',header=None)\n",
    "y_valid=pd.read_csv('label_valid2.csv',header=None)\n",
    "\n",
    "X_test=pd.read_csv('test.csv',header=None)\n",
    "y_test=pd.read_csv('label_test2.csv',header=None)\n",
    "\n",
    "X_train=X_train.T#transpose\n",
    "X_valid=X_valid.T\n",
    "X=X.T\n",
    "X_test=X_test.T\n",
    "\n",
    "y_train=y_train.values.ravel()\n",
    "y_valid=y_valid.values.ravel()\n",
    "y=y.values.ravel()\n",
    "y_test=y_test.values.ravel()\n",
    "\n",
    "print(X_train.shape)\n",
    "print(X_valid.shape)\n",
    "print(y_train.shape)\n",
    "print(y_valid.shape)"
   ]
  },
  {
   "cell_type": "code",
   "execution_count": 42,
   "metadata": {},
   "outputs": [],
   "source": [
    "def modelfit(alg, train_data,train_labels, predictors,performCV=True, printFeatureImportance=True, cv_folds=5):\n",
    "    #Fit the algorithm on the data\n",
    "    alg.fit(train_data,train_labels)\n",
    "        \n",
    "    #Predict training set:\n",
    "    train_predictions = alg.predict(train_data)\n",
    "    train_predprob = alg.predict_proba(train_data)[:,1]\n",
    "    \n",
    "    #Perform cross-validation:\n",
    "    if performCV:\n",
    "        cv_score = cross_validation.cross_val_score(alg,train_data,train_labels,cv=cv_folds, scoring='roc_auc')\n",
    "    \n",
    "    #Print model report:\n",
    "    print (\"\\nModel Report\")\n",
    "    print (\"Accuracy : %.4g\" % metrics.accuracy_score(train_labels, train_predictions))\n",
    "    print (\"AUC Score (Train): %f\" % metrics.roc_auc_score(train_labels, train_predprob))\n",
    "    \n",
    "    if performCV:\n",
    "        print (\"CV Score : Mean - %.7g | Std - %.7g | Min - %.7g | Max - %.7g\" % (np.mean(cv_score),np.std(cv_score),np.min(cv_score),np.max(cv_score)))\n",
    "        \n",
    "    #Print Feature Importance:\n",
    "    if printFeatureImportance:\n",
    "        feat_imp = pd.Series(alg.feature_importances_,predictors).sort_values(ascending=False)\n",
    "        feat_imp.plot(kind='bar', title='Feature Importances')\n",
    "        plt.ylabel('Feature Importance Score')\n",
    "    print (train_predictions)     "
   ]
  },
  {
   "cell_type": "code",
   "execution_count": 43,
   "metadata": {},
   "outputs": [
    {
     "name": "stdout",
     "output_type": "stream",
     "text": [
      "\n",
      "Model Report\n",
      "Accuracy : 1\n",
      "AUC Score (Train): 1.000000\n",
      "CV Score : Mean - 0.7450459 | Std - 0.06594078 | Min - 0.6388889 | Max - 0.8158436\n",
      "[0 0 1 0 0 0 0 0 0 1 1 1 0 0 1 1 1 1 0 1 1 0 1 1 1 1 1 1 1 1 1 1 1 1 0 0 0\n",
      " 1 0 0 0 0 0 0 0 0 0 0 0 0 1 1 0 0 0 0 0 1 0 0 0 0 0 0 0 0 1 0 1 0 0 0 0 0\n",
      " 1 0 0 1 0 0 0 1 1 1 1 1 1 1 1 1 0 0 0 0 0 0 0 0 0 0 0 0 0 0 0 0 0 0 0 0 0\n",
      " 0 0 0 0 0 0 0 0 0 0 0 0 1 1 0 1 0 0 0 1 1 1 1 0 0 0 0 0 0 0 0 1 0 1 0 0 1\n",
      " 1 1 1 1 1 1 1 1 1 1 1 0 0 0 0 0 0 0 0 0 1 1 0 1 0 0 0 0 0 1 1 0 0 1 0 0 0\n",
      " 0 0 0 0 0 1 1 1 1 1 0 0 0 0 0 0 0 0 0 0 0 1 1 0 0 1 1 1 1 0 0 0 1 1 1 1 0\n",
      " 1 1 0 1 1 1 0 0 0 1 1 0 0 1 0 0 0 0 0 1 1 1 1 0 0 1 0 0 1 1 1 0 1 0 0 0 1\n",
      " 1 0 0 1 0 0 1 1 0 1 1 1 1 1 1 1 1 1 1 1 1 1 1 0 1 0 0 0 0 0 1 0 1 1 0 1 1\n",
      " 1 1 1 1 0 1 0 0 0 0 1 1 1 0 0 1 1]\n"
     ]
    },
    {
     "data": {
      "image/png": "[encoded data removed]",
      "text/plain": [
       "<Figure size 864x288 with 1 Axes>"
      ]
     },
     "metadata": {},
     "output_type": "display_data"
    }
   ],
   "source": [
    "#Choose all predictors except target & IDcols\n",
    "predictors = [x for x in X.columns]\n",
    "gbm0 = GradientBoostingClassifier(random_state=10)\n",
    "modelfit(gbm0,X,y,predictors )\n"
   ]
  },
  {
   "cell_type": "code",
   "execution_count": 74,
   "metadata": {},
   "outputs": [
    {
     "data": {
      "text/plain": [
       "GridSearchCV(cv=5, error_score='raise',\n",
       "       estimator=GradientBoostingClassifier(criterion='friedman_mse', init=None,\n",
       "              learning_rate=0.2, loss='deviance', max_depth=8,\n",
       "              max_features='sqrt', max_leaf_nodes=None,\n",
       "              min_impurity_decrease=0.0, min_impurity_split=None,\n",
       "              min_samples_leaf=1, min_samples_split=3,\n",
       "              min_weight_fraction_leaf=0.0, n_estimators=100,\n",
       "              presort='auto', random_state=10, subsample=0.8, verbose=0,\n",
       "              warm_start=False),\n",
       "       fit_params={}, iid=False, n_jobs=4,\n",
       "       param_grid={'n_estimators': array([ 10,  20,  30,  40,  50,  60,  70,  80,  90, 100, 110, 120, 130,\n",
       "       140, 150, 160, 170, 180, 190, 200, 210, 220, 230, 240, 250, 260,\n",
       "       270, 280, 290])},\n",
       "       pre_dispatch='2*n_jobs', refit=True, scoring='roc_auc', verbose=0)"
      ]
     },
     "execution_count": 74,
     "metadata": {},
     "output_type": "execute_result"
    }
   ],
   "source": [
    "#Choose all predictors except target & IDcols\n",
    "predictors = [x for x in X.columns]\n",
    "param_test1 = {'n_estimators':np.arange(10,300,10)}\n",
    "gsearch1 = GridSearchCV(estimator = GradientBoostingClassifier(learning_rate=0.2, min_samples_split=3,min_samples_leaf=1,max_depth=8,max_features='sqrt',subsample=0.8,random_state=10), \n",
    "param_grid = param_test1, scoring='roc_auc',n_jobs=4,iid=False, cv=5)\n",
    "gsearch1.fit(X,y)"
   ]
  },
  {
   "cell_type": "code",
   "execution_count": 75,
   "metadata": {},
   "outputs": [
    {
     "data": {
      "text/plain": [
       "([mean: 0.69384, std: 0.05844, params: {'n_estimators': 10},\n",
       "  mean: 0.71543, std: 0.05894, params: {'n_estimators': 20},\n",
       "  mean: 0.72106, std: 0.07244, params: {'n_estimators': 30},\n",
       "  mean: 0.72377, std: 0.07369, params: {'n_estimators': 40},\n",
       "  mean: 0.72927, std: 0.07425, params: {'n_estimators': 50},\n",
       "  mean: 0.73013, std: 0.07563, params: {'n_estimators': 60},\n",
       "  mean: 0.73360, std: 0.07111, params: {'n_estimators': 70},\n",
       "  mean: 0.73515, std: 0.06999, params: {'n_estimators': 80},\n",
       "  mean: 0.73515, std: 0.06999, params: {'n_estimators': 90},\n",
       "  mean: 0.73515, std: 0.06999, params: {'n_estimators': 100},\n",
       "  mean: 0.73579, std: 0.06967, params: {'n_estimators': 110},\n",
       "  mean: 0.73579, std: 0.06967, params: {'n_estimators': 120},\n",
       "  mean: 0.73600, std: 0.06934, params: {'n_estimators': 130},\n",
       "  mean: 0.73600, std: 0.06934, params: {'n_estimators': 140},\n",
       "  mean: 0.73600, std: 0.06934, params: {'n_estimators': 150},\n",
       "  mean: 0.73600, std: 0.06934, params: {'n_estimators': 160},\n",
       "  mean: 0.73600, std: 0.06934, params: {'n_estimators': 170},\n",
       "  mean: 0.73600, std: 0.06934, params: {'n_estimators': 180},\n",
       "  mean: 0.73600, std: 0.06934, params: {'n_estimators': 190},\n",
       "  mean: 0.73600, std: 0.06934, params: {'n_estimators': 200},\n",
       "  mean: 0.73600, std: 0.06934, params: {'n_estimators': 210},\n",
       "  mean: 0.73600, std: 0.06934, params: {'n_estimators': 220},\n",
       "  mean: 0.73600, std: 0.06934, params: {'n_estimators': 230},\n",
       "  mean: 0.73621, std: 0.06944, params: {'n_estimators': 240},\n",
       "  mean: 0.73621, std: 0.06944, params: {'n_estimators': 250},\n",
       "  mean: 0.73621, std: 0.06944, params: {'n_estimators': 260},\n",
       "  mean: 0.73621, std: 0.06944, params: {'n_estimators': 270},\n",
       "  mean: 0.73621, std: 0.06944, params: {'n_estimators': 280},\n",
       "  mean: 0.73621, std: 0.06944, params: {'n_estimators': 290}],\n",
       " {'n_estimators': 240},\n",
       " 0.7362139917695474)"
      ]
     },
     "execution_count": 75,
     "metadata": {},
     "output_type": "execute_result"
    }
   ],
   "source": [
    "gsearch1.grid_scores_, gsearch1.best_params_, gsearch1.best_score_"
   ]
  },
  {
   "cell_type": "code",
   "execution_count": 76,
   "metadata": {},
   "outputs": [
    {
     "data": {
      "text/plain": [
       "([mean: 0.73312, std: 0.07278, params: {'max_depth': 1},\n",
       "  mean: 0.72005, std: 0.07148, params: {'max_depth': 3},\n",
       "  mean: 0.71822, std: 0.05611, params: {'max_depth': 5},\n",
       "  mean: 0.70138, std: 0.05200, params: {'max_depth': 7},\n",
       "  mean: 0.71230, std: 0.06979, params: {'max_depth': 9},\n",
       "  mean: 0.72229, std: 0.05073, params: {'max_depth': 11},\n",
       "  mean: 0.71943, std: 0.05000, params: {'max_depth': 13},\n",
       "  mean: 0.71456, std: 0.04628, params: {'max_depth': 15}],\n",
       " {'max_depth': 1},\n",
       " 0.73311986863711)"
      ]
     },
     "execution_count": 76,
     "metadata": {},
     "output_type": "execute_result"
    }
   ],
   "source": [
    "param_test2 = {'max_depth':np.arange(1,16,2)}\n",
    "gsearch2 = GridSearchCV(estimator = GradientBoostingClassifier(learning_rate=0.2, n_estimators=240, max_features='sqrt',min_samples_split=2,subsample=0.8, random_state=10), \n",
    "param_grid = param_test2, scoring='roc_auc',n_jobs=4,iid=False, cv=5)\n",
    "gsearch2.fit(X_train,y_train)\n",
    "gsearch2.grid_scores_, gsearch2.best_params_, gsearch2.best_score_"
   ]
  },
  {
   "cell_type": "code",
   "execution_count": 77,
   "metadata": {},
   "outputs": [
    {
     "data": {
      "text/plain": [
       "([mean: 0.76759, std: 0.06498, params: {'min_samples_leaf': 1, 'min_samples_split': 2},\n",
       "  mean: 0.76759, std: 0.06498, params: {'min_samples_leaf': 1, 'min_samples_split': 3},\n",
       "  mean: 0.76759, std: 0.06498, params: {'min_samples_leaf': 1, 'min_samples_split': 4},\n",
       "  mean: 0.75153, std: 0.06278, params: {'min_samples_leaf': 2, 'min_samples_split': 2},\n",
       "  mean: 0.75153, std: 0.06278, params: {'min_samples_leaf': 2, 'min_samples_split': 3},\n",
       "  mean: 0.75153, std: 0.06278, params: {'min_samples_leaf': 2, 'min_samples_split': 4},\n",
       "  mean: 0.74597, std: 0.05984, params: {'min_samples_leaf': 3, 'min_samples_split': 2},\n",
       "  mean: 0.74597, std: 0.05984, params: {'min_samples_leaf': 3, 'min_samples_split': 3},\n",
       "  mean: 0.74597, std: 0.05984, params: {'min_samples_leaf': 3, 'min_samples_split': 4},\n",
       "  mean: 0.74150, std: 0.06856, params: {'min_samples_leaf': 4, 'min_samples_split': 2},\n",
       "  mean: 0.74150, std: 0.06856, params: {'min_samples_leaf': 4, 'min_samples_split': 3},\n",
       "  mean: 0.74150, std: 0.06856, params: {'min_samples_leaf': 4, 'min_samples_split': 4},\n",
       "  mean: 0.74185, std: 0.06590, params: {'min_samples_leaf': 5, 'min_samples_split': 2},\n",
       "  mean: 0.74185, std: 0.06590, params: {'min_samples_leaf': 5, 'min_samples_split': 3},\n",
       "  mean: 0.74185, std: 0.06590, params: {'min_samples_leaf': 5, 'min_samples_split': 4},\n",
       "  mean: 0.74354, std: 0.06119, params: {'min_samples_leaf': 6, 'min_samples_split': 2},\n",
       "  mean: 0.74354, std: 0.06119, params: {'min_samples_leaf': 6, 'min_samples_split': 3},\n",
       "  mean: 0.74354, std: 0.06119, params: {'min_samples_leaf': 6, 'min_samples_split': 4},\n",
       "  mean: 0.74031, std: 0.06730, params: {'min_samples_leaf': 7, 'min_samples_split': 2},\n",
       "  mean: 0.74031, std: 0.06730, params: {'min_samples_leaf': 7, 'min_samples_split': 3},\n",
       "  mean: 0.74031, std: 0.06730, params: {'min_samples_leaf': 7, 'min_samples_split': 4},\n",
       "  mean: 0.74831, std: 0.07367, params: {'min_samples_leaf': 8, 'min_samples_split': 2},\n",
       "  mean: 0.74831, std: 0.07367, params: {'min_samples_leaf': 8, 'min_samples_split': 3},\n",
       "  mean: 0.74831, std: 0.07367, params: {'min_samples_leaf': 8, 'min_samples_split': 4},\n",
       "  mean: 0.75293, std: 0.07722, params: {'min_samples_leaf': 9, 'min_samples_split': 2},\n",
       "  mean: 0.75293, std: 0.07722, params: {'min_samples_leaf': 9, 'min_samples_split': 3},\n",
       "  mean: 0.75293, std: 0.07722, params: {'min_samples_leaf': 9, 'min_samples_split': 4},\n",
       "  mean: 0.74786, std: 0.07596, params: {'min_samples_leaf': 10, 'min_samples_split': 2},\n",
       "  mean: 0.74786, std: 0.07596, params: {'min_samples_leaf': 10, 'min_samples_split': 3},\n",
       "  mean: 0.74786, std: 0.07596, params: {'min_samples_leaf': 10, 'min_samples_split': 4},\n",
       "  mean: 0.75314, std: 0.06354, params: {'min_samples_leaf': 11, 'min_samples_split': 2},\n",
       "  mean: 0.75314, std: 0.06354, params: {'min_samples_leaf': 11, 'min_samples_split': 3},\n",
       "  mean: 0.75314, std: 0.06354, params: {'min_samples_leaf': 11, 'min_samples_split': 4},\n",
       "  mean: 0.75511, std: 0.07313, params: {'min_samples_leaf': 12, 'min_samples_split': 2},\n",
       "  mean: 0.75511, std: 0.07313, params: {'min_samples_leaf': 12, 'min_samples_split': 3},\n",
       "  mean: 0.75511, std: 0.07313, params: {'min_samples_leaf': 12, 'min_samples_split': 4},\n",
       "  mean: 0.75299, std: 0.07081, params: {'min_samples_leaf': 13, 'min_samples_split': 2},\n",
       "  mean: 0.75299, std: 0.07081, params: {'min_samples_leaf': 13, 'min_samples_split': 3},\n",
       "  mean: 0.75299, std: 0.07081, params: {'min_samples_leaf': 13, 'min_samples_split': 4},\n",
       "  mean: 0.75355, std: 0.07187, params: {'min_samples_leaf': 14, 'min_samples_split': 2},\n",
       "  mean: 0.75355, std: 0.07187, params: {'min_samples_leaf': 14, 'min_samples_split': 3},\n",
       "  mean: 0.75355, std: 0.07187, params: {'min_samples_leaf': 14, 'min_samples_split': 4},\n",
       "  mean: 0.75798, std: 0.06891, params: {'min_samples_leaf': 15, 'min_samples_split': 2},\n",
       "  mean: 0.75798, std: 0.06891, params: {'min_samples_leaf': 15, 'min_samples_split': 3},\n",
       "  mean: 0.75798, std: 0.06891, params: {'min_samples_leaf': 15, 'min_samples_split': 4},\n",
       "  mean: 0.76040, std: 0.06925, params: {'min_samples_leaf': 16, 'min_samples_split': 2},\n",
       "  mean: 0.76040, std: 0.06925, params: {'min_samples_leaf': 16, 'min_samples_split': 3},\n",
       "  mean: 0.76040, std: 0.06925, params: {'min_samples_leaf': 16, 'min_samples_split': 4},\n",
       "  mean: 0.75788, std: 0.05957, params: {'min_samples_leaf': 17, 'min_samples_split': 2},\n",
       "  mean: 0.75788, std: 0.05957, params: {'min_samples_leaf': 17, 'min_samples_split': 3},\n",
       "  mean: 0.75788, std: 0.05957, params: {'min_samples_leaf': 17, 'min_samples_split': 4},\n",
       "  mean: 0.76000, std: 0.05209, params: {'min_samples_leaf': 18, 'min_samples_split': 2},\n",
       "  mean: 0.76000, std: 0.05209, params: {'min_samples_leaf': 18, 'min_samples_split': 3},\n",
       "  mean: 0.76000, std: 0.05209, params: {'min_samples_leaf': 18, 'min_samples_split': 4},\n",
       "  mean: 0.75127, std: 0.06608, params: {'min_samples_leaf': 19, 'min_samples_split': 2},\n",
       "  mean: 0.75127, std: 0.06608, params: {'min_samples_leaf': 19, 'min_samples_split': 3},\n",
       "  mean: 0.75127, std: 0.06608, params: {'min_samples_leaf': 19, 'min_samples_split': 4},\n",
       "  mean: 0.76081, std: 0.05932, params: {'min_samples_leaf': 20, 'min_samples_split': 2},\n",
       "  mean: 0.76081, std: 0.05932, params: {'min_samples_leaf': 20, 'min_samples_split': 3},\n",
       "  mean: 0.76081, std: 0.05932, params: {'min_samples_leaf': 20, 'min_samples_split': 4},\n",
       "  mean: 0.75833, std: 0.05638, params: {'min_samples_leaf': 21, 'min_samples_split': 2},\n",
       "  mean: 0.75833, std: 0.05638, params: {'min_samples_leaf': 21, 'min_samples_split': 3},\n",
       "  mean: 0.75833, std: 0.05638, params: {'min_samples_leaf': 21, 'min_samples_split': 4},\n",
       "  mean: 0.76008, std: 0.05468, params: {'min_samples_leaf': 22, 'min_samples_split': 2},\n",
       "  mean: 0.76008, std: 0.05468, params: {'min_samples_leaf': 22, 'min_samples_split': 3},\n",
       "  mean: 0.76008, std: 0.05468, params: {'min_samples_leaf': 22, 'min_samples_split': 4},\n",
       "  mean: 0.75893, std: 0.05374, params: {'min_samples_leaf': 23, 'min_samples_split': 2},\n",
       "  mean: 0.75893, std: 0.05374, params: {'min_samples_leaf': 23, 'min_samples_split': 3},\n",
       "  mean: 0.75893, std: 0.05374, params: {'min_samples_leaf': 23, 'min_samples_split': 4},\n",
       "  mean: 0.75009, std: 0.05912, params: {'min_samples_leaf': 24, 'min_samples_split': 2},\n",
       "  mean: 0.75009, std: 0.05912, params: {'min_samples_leaf': 24, 'min_samples_split': 3},\n",
       "  mean: 0.75009, std: 0.05912, params: {'min_samples_leaf': 24, 'min_samples_split': 4},\n",
       "  mean: 0.74327, std: 0.06674, params: {'min_samples_leaf': 25, 'min_samples_split': 2},\n",
       "  mean: 0.74327, std: 0.06674, params: {'min_samples_leaf': 25, 'min_samples_split': 3},\n",
       "  mean: 0.74327, std: 0.06674, params: {'min_samples_leaf': 25, 'min_samples_split': 4},\n",
       "  mean: 0.74468, std: 0.04787, params: {'min_samples_leaf': 26, 'min_samples_split': 2},\n",
       "  mean: 0.74468, std: 0.04787, params: {'min_samples_leaf': 26, 'min_samples_split': 3},\n",
       "  mean: 0.74468, std: 0.04787, params: {'min_samples_leaf': 26, 'min_samples_split': 4},\n",
       "  mean: 0.74710, std: 0.05493, params: {'min_samples_leaf': 27, 'min_samples_split': 2},\n",
       "  mean: 0.74710, std: 0.05493, params: {'min_samples_leaf': 27, 'min_samples_split': 3},\n",
       "  mean: 0.74710, std: 0.05493, params: {'min_samples_leaf': 27, 'min_samples_split': 4},\n",
       "  mean: 0.73862, std: 0.05261, params: {'min_samples_leaf': 28, 'min_samples_split': 2},\n",
       "  mean: 0.73862, std: 0.05261, params: {'min_samples_leaf': 28, 'min_samples_split': 3},\n",
       "  mean: 0.73862, std: 0.05261, params: {'min_samples_leaf': 28, 'min_samples_split': 4},\n",
       "  mean: 0.73656, std: 0.05557, params: {'min_samples_leaf': 29, 'min_samples_split': 2},\n",
       "  mean: 0.73656, std: 0.05557, params: {'min_samples_leaf': 29, 'min_samples_split': 3},\n",
       "  mean: 0.73656, std: 0.05557, params: {'min_samples_leaf': 29, 'min_samples_split': 4},\n",
       "  mean: 0.74036, std: 0.05567, params: {'min_samples_leaf': 30, 'min_samples_split': 2},\n",
       "  mean: 0.74036, std: 0.05567, params: {'min_samples_leaf': 30, 'min_samples_split': 3},\n",
       "  mean: 0.74036, std: 0.05567, params: {'min_samples_leaf': 30, 'min_samples_split': 4},\n",
       "  mean: 0.73610, std: 0.05975, params: {'min_samples_leaf': 31, 'min_samples_split': 2},\n",
       "  mean: 0.73610, std: 0.05975, params: {'min_samples_leaf': 31, 'min_samples_split': 3},\n",
       "  mean: 0.73610, std: 0.05975, params: {'min_samples_leaf': 31, 'min_samples_split': 4},\n",
       "  mean: 0.74095, std: 0.06189, params: {'min_samples_leaf': 32, 'min_samples_split': 2},\n",
       "  mean: 0.74095, std: 0.06189, params: {'min_samples_leaf': 32, 'min_samples_split': 3},\n",
       "  mean: 0.74095, std: 0.06189, params: {'min_samples_leaf': 32, 'min_samples_split': 4},\n",
       "  mean: 0.73265, std: 0.06862, params: {'min_samples_leaf': 33, 'min_samples_split': 2},\n",
       "  mean: 0.73265, std: 0.06862, params: {'min_samples_leaf': 33, 'min_samples_split': 3},\n",
       "  mean: 0.73265, std: 0.06862, params: {'min_samples_leaf': 33, 'min_samples_split': 4},\n",
       "  mean: 0.73139, std: 0.06065, params: {'min_samples_leaf': 34, 'min_samples_split': 2},\n",
       "  mean: 0.73139, std: 0.06065, params: {'min_samples_leaf': 34, 'min_samples_split': 3},\n",
       "  mean: 0.73139, std: 0.06065, params: {'min_samples_leaf': 34, 'min_samples_split': 4},\n",
       "  mean: 0.73045, std: 0.05463, params: {'min_samples_leaf': 35, 'min_samples_split': 2},\n",
       "  mean: 0.73045, std: 0.05463, params: {'min_samples_leaf': 35, 'min_samples_split': 3},\n",
       "  mean: 0.73045, std: 0.05463, params: {'min_samples_leaf': 35, 'min_samples_split': 4},\n",
       "  mean: 0.72945, std: 0.05322, params: {'min_samples_leaf': 36, 'min_samples_split': 2},\n",
       "  mean: 0.72945, std: 0.05322, params: {'min_samples_leaf': 36, 'min_samples_split': 3},\n",
       "  mean: 0.72945, std: 0.05322, params: {'min_samples_leaf': 36, 'min_samples_split': 4},\n",
       "  mean: 0.72984, std: 0.05683, params: {'min_samples_leaf': 37, 'min_samples_split': 2},\n",
       "  mean: 0.72984, std: 0.05683, params: {'min_samples_leaf': 37, 'min_samples_split': 3},\n",
       "  mean: 0.72984, std: 0.05683, params: {'min_samples_leaf': 37, 'min_samples_split': 4},\n",
       "  mean: 0.73962, std: 0.06831, params: {'min_samples_leaf': 38, 'min_samples_split': 2},\n",
       "  mean: 0.73962, std: 0.06831, params: {'min_samples_leaf': 38, 'min_samples_split': 3},\n",
       "  mean: 0.73962, std: 0.06831, params: {'min_samples_leaf': 38, 'min_samples_split': 4},\n",
       "  mean: 0.74057, std: 0.05185, params: {'min_samples_leaf': 39, 'min_samples_split': 2},\n",
       "  mean: 0.74057, std: 0.05185, params: {'min_samples_leaf': 39, 'min_samples_split': 3},\n",
       "  mean: 0.74057, std: 0.05185, params: {'min_samples_leaf': 39, 'min_samples_split': 4},\n",
       "  mean: 0.74962, std: 0.06506, params: {'min_samples_leaf': 40, 'min_samples_split': 2},\n",
       "  mean: 0.74962, std: 0.06506, params: {'min_samples_leaf': 40, 'min_samples_split': 3},\n",
       "  mean: 0.74962, std: 0.06506, params: {'min_samples_leaf': 40, 'min_samples_split': 4},\n",
       "  mean: 0.74609, std: 0.05749, params: {'min_samples_leaf': 41, 'min_samples_split': 2},\n",
       "  mean: 0.74609, std: 0.05749, params: {'min_samples_leaf': 41, 'min_samples_split': 3},\n",
       "  mean: 0.74609, std: 0.05749, params: {'min_samples_leaf': 41, 'min_samples_split': 4},\n",
       "  mean: 0.74375, std: 0.06847, params: {'min_samples_leaf': 42, 'min_samples_split': 2},\n",
       "  mean: 0.74375, std: 0.06847, params: {'min_samples_leaf': 42, 'min_samples_split': 3},\n",
       "  mean: 0.74375, std: 0.06847, params: {'min_samples_leaf': 42, 'min_samples_split': 4},\n",
       "  mean: 0.74126, std: 0.06422, params: {'min_samples_leaf': 43, 'min_samples_split': 2},\n",
       "  mean: 0.74126, std: 0.06422, params: {'min_samples_leaf': 43, 'min_samples_split': 3},\n",
       "  mean: 0.74126, std: 0.06422, params: {'min_samples_leaf': 43, 'min_samples_split': 4},\n",
       "  mean: 0.75076, std: 0.05920, params: {'min_samples_leaf': 44, 'min_samples_split': 2},\n",
       "  mean: 0.75076, std: 0.05920, params: {'min_samples_leaf': 44, 'min_samples_split': 3},\n",
       "  mean: 0.75076, std: 0.05920, params: {'min_samples_leaf': 44, 'min_samples_split': 4},\n",
       "  mean: 0.76258, std: 0.05869, params: {'min_samples_leaf': 45, 'min_samples_split': 2},\n",
       "  mean: 0.76258, std: 0.05869, params: {'min_samples_leaf': 45, 'min_samples_split': 3},\n",
       "  mean: 0.76258, std: 0.05869, params: {'min_samples_leaf': 45, 'min_samples_split': 4},\n",
       "  mean: 0.75025, std: 0.07201, params: {'min_samples_leaf': 46, 'min_samples_split': 2},\n",
       "  mean: 0.75025, std: 0.07201, params: {'min_samples_leaf': 46, 'min_samples_split': 3},\n",
       "  mean: 0.75025, std: 0.07201, params: {'min_samples_leaf': 46, 'min_samples_split': 4},\n",
       "  mean: 0.76016, std: 0.06645, params: {'min_samples_leaf': 47, 'min_samples_split': 2},\n",
       "  mean: 0.76016, std: 0.06645, params: {'min_samples_leaf': 47, 'min_samples_split': 3},\n",
       "  mean: 0.76016, std: 0.06645, params: {'min_samples_leaf': 47, 'min_samples_split': 4},\n",
       "  mean: 0.75390, std: 0.06349, params: {'min_samples_leaf': 48, 'min_samples_split': 2},\n",
       "  mean: 0.75390, std: 0.06349, params: {'min_samples_leaf': 48, 'min_samples_split': 3},\n",
       "  mean: 0.75390, std: 0.06349, params: {'min_samples_leaf': 48, 'min_samples_split': 4},\n",
       "  mean: 0.76129, std: 0.06666, params: {'min_samples_leaf': 49, 'min_samples_split': 2},\n",
       "  mean: 0.76129, std: 0.06666, params: {'min_samples_leaf': 49, 'min_samples_split': 3},\n",
       "  mean: 0.76129, std: 0.06666, params: {'min_samples_leaf': 49, 'min_samples_split': 4},\n",
       "  mean: 0.76116, std: 0.06937, params: {'min_samples_leaf': 50, 'min_samples_split': 2},\n",
       "  mean: 0.76116, std: 0.06937, params: {'min_samples_leaf': 50, 'min_samples_split': 3},\n",
       "  mean: 0.76116, std: 0.06937, params: {'min_samples_leaf': 50, 'min_samples_split': 4},\n",
       "  mean: 0.74715, std: 0.06402, params: {'min_samples_leaf': 51, 'min_samples_split': 2},\n",
       "  mean: 0.74715, std: 0.06402, params: {'min_samples_leaf': 51, 'min_samples_split': 3},\n",
       "  mean: 0.74715, std: 0.06402, params: {'min_samples_leaf': 51, 'min_samples_split': 4},\n",
       "  mean: 0.75239, std: 0.07184, params: {'min_samples_leaf': 52, 'min_samples_split': 2},\n",
       "  mean: 0.75239, std: 0.07184, params: {'min_samples_leaf': 52, 'min_samples_split': 3},\n",
       "  mean: 0.75239, std: 0.07184, params: {'min_samples_leaf': 52, 'min_samples_split': 4},\n",
       "  mean: 0.75002, std: 0.07101, params: {'min_samples_leaf': 53, 'min_samples_split': 2},\n",
       "  mean: 0.75002, std: 0.07101, params: {'min_samples_leaf': 53, 'min_samples_split': 3},\n",
       "  mean: 0.75002, std: 0.07101, params: {'min_samples_leaf': 53, 'min_samples_split': 4},\n",
       "  mean: 0.74412, std: 0.06944, params: {'min_samples_leaf': 54, 'min_samples_split': 2},\n",
       "  mean: 0.74412, std: 0.06944, params: {'min_samples_leaf': 54, 'min_samples_split': 3},\n",
       "  mean: 0.74412, std: 0.06944, params: {'min_samples_leaf': 54, 'min_samples_split': 4},\n",
       "  mean: 0.74977, std: 0.07774, params: {'min_samples_leaf': 55, 'min_samples_split': 2},\n",
       "  mean: 0.74977, std: 0.07774, params: {'min_samples_leaf': 55, 'min_samples_split': 3},\n",
       "  mean: 0.74977, std: 0.07774, params: {'min_samples_leaf': 55, 'min_samples_split': 4},\n",
       "  mean: 0.74721, std: 0.08280, params: {'min_samples_leaf': 56, 'min_samples_split': 2},\n",
       "  mean: 0.74721, std: 0.08280, params: {'min_samples_leaf': 56, 'min_samples_split': 3},\n",
       "  mean: 0.74721, std: 0.08280, params: {'min_samples_leaf': 56, 'min_samples_split': 4},\n",
       "  mean: 0.74114, std: 0.07698, params: {'min_samples_leaf': 57, 'min_samples_split': 2},\n",
       "  mean: 0.74114, std: 0.07698, params: {'min_samples_leaf': 57, 'min_samples_split': 3},\n",
       "  mean: 0.74114, std: 0.07698, params: {'min_samples_leaf': 57, 'min_samples_split': 4},\n",
       "  mean: 0.74149, std: 0.07282, params: {'min_samples_leaf': 58, 'min_samples_split': 2},\n",
       "  mean: 0.74149, std: 0.07282, params: {'min_samples_leaf': 58, 'min_samples_split': 3},\n",
       "  mean: 0.74149, std: 0.07282, params: {'min_samples_leaf': 58, 'min_samples_split': 4},\n",
       "  mean: 0.74348, std: 0.08284, params: {'min_samples_leaf': 59, 'min_samples_split': 2},\n",
       "  mean: 0.74348, std: 0.08284, params: {'min_samples_leaf': 59, 'min_samples_split': 3},\n",
       "  mean: 0.74348, std: 0.08284, params: {'min_samples_leaf': 59, 'min_samples_split': 4}],\n",
       " {'min_samples_leaf': 1, 'min_samples_split': 2},\n",
       " 0.7675925925925927)"
      ]
     },
     "execution_count": 77,
     "metadata": {},
     "output_type": "execute_result"
    }
   ],
   "source": [
    "param_test3 = {'min_samples_split':np.arange(2,5,1), 'min_samples_leaf':np.arange(1,60,1)}\n",
    "gsearch3 = GridSearchCV(estimator = GradientBoostingClassifier(learning_rate=0.2, n_estimators=240,max_depth=1,max_features='sqrt', subsample=0.8, random_state=10), \n",
    "param_grid = param_test3, scoring='roc_auc',n_jobs=4,iid=False, cv=5)\n",
    "gsearch3.fit(X,y)\n",
    "gsearch3.grid_scores_, gsearch3.best_params_, gsearch3.best_score_\n"
   ]
  },
  {
   "cell_type": "code",
   "execution_count": 34,
   "metadata": {},
   "outputs": [
    {
     "name": "stdout",
     "output_type": "stream",
     "text": [
      "\n",
      "Model Report\n",
      "Accuracy : 1\n",
      "AUC Score (Train): 1.000000\n",
      "CV Score : Mean - 0.7434702 | Std - 0.06626042 | Min - 0.6453202 | Max - 0.8396825\n",
      "[0 0 0 0 0 1 1 0 1 1 0 1 1 0 0 1 1 1 0 0 1 1 0 0 1 0 1 0 0 1 0 0 0 0 0 1 1\n",
      " 1 1 0 1 1 0 0 0 1 1 0 1 1 1 0 1 1 0 0 1 1 0 1 1 1 1 0 1 0 0 0 0 1 0 0 0 0\n",
      " 1 1 0 0 1 0 1 0 0 0 0 0 0 1 0 0 1 1 1 1 0 1 0 0 0 0 1 0 1 0 1 1 1 0 0 0 0\n",
      " 1 0 0 1 1 0 0 1 1 1 1 0 1 1 0 1 1 0 0 0 0 0 1 0 1 0 1 1 1 1 0 0 1 0 1 0 1\n",
      " 0 1 0 0 0 0 0 1 0 0 0 1 0 0 0 1 0 0 1 0 0 0 1 0 1 0 1 0 1 0 0 0 0 1 1 1 1\n",
      " 0 1 1 1 0 0 0 0 0 1 1 0 1 1 1 0 0 0 0 0 1 0 0 0 0 0 0 0 1 1 0 0 0 1 0 0 1\n",
      " 0 0 1 1 0 0 1 0 1 0 0 0 0 1 0 1 0 1 0 0 0 0 0 0 0 0 1 0]\n"
     ]
    },
    {
     "data": {
      "image/png": "[encoded data removed]",
      "text/plain": [
       "<Figure size 864x288 with 1 Axes>"
      ]
     },
     "metadata": {},
     "output_type": "display_data"
    }
   ],
   "source": [
    "modelfit(gsearch3.best_estimator_, X_train,y_train,predictors)"
   ]
  },
  {
   "cell_type": "code",
   "execution_count": 82,
   "metadata": {},
   "outputs": [
    {
     "data": {
      "text/plain": [
       "([mean: 0.76876, std: 0.06682, params: {'max_features': 5},\n",
       "  mean: 0.77761, std: 0.05285, params: {'max_features': 6},\n",
       "  mean: 0.76759, std: 0.06498, params: {'max_features': 7},\n",
       "  mean: 0.77135, std: 0.05660, params: {'max_features': 8},\n",
       "  mean: 0.78196, std: 0.05604, params: {'max_features': 9},\n",
       "  mean: 0.77954, std: 0.06139, params: {'max_features': 10},\n",
       "  mean: 0.77302, std: 0.05595, params: {'max_features': 11},\n",
       "  mean: 0.76921, std: 0.05560, params: {'max_features': 12},\n",
       "  mean: 0.77193, std: 0.05817, params: {'max_features': 13},\n",
       "  mean: 0.78527, std: 0.05172, params: {'max_features': 14},\n",
       "  mean: 0.78019, std: 0.05217, params: {'max_features': 15},\n",
       "  mean: 0.76903, std: 0.06427, params: {'max_features': 16},\n",
       "  mean: 0.77540, std: 0.06710, params: {'max_features': 17},\n",
       "  mean: 0.77253, std: 0.06748, params: {'max_features': 18},\n",
       "  mean: 0.76276, std: 0.05916, params: {'max_features': 19},\n",
       "  mean: 0.77179, std: 0.06926, params: {'max_features': 20},\n",
       "  mean: 0.77246, std: 0.06556, params: {'max_features': 21},\n",
       "  mean: 0.78189, std: 0.07672, params: {'max_features': 22},\n",
       "  mean: 0.77017, std: 0.07007, params: {'max_features': 23},\n",
       "  mean: 0.78404, std: 0.06864, params: {'max_features': 24},\n",
       "  mean: 0.77575, std: 0.06561, params: {'max_features': 25},\n",
       "  mean: 0.77001, std: 0.07005, params: {'max_features': 26},\n",
       "  mean: 0.78255, std: 0.06480, params: {'max_features': 27},\n",
       "  mean: 0.77947, std: 0.06857, params: {'max_features': 28},\n",
       "  mean: 0.76966, std: 0.07037, params: {'max_features': 29},\n",
       "  mean: 0.76214, std: 0.07442, params: {'max_features': 30},\n",
       "  mean: 0.77748, std: 0.06921, params: {'max_features': 31},\n",
       "  mean: 0.75651, std: 0.07999, params: {'max_features': 32},\n",
       "  mean: 0.76730, std: 0.07430, params: {'max_features': 33},\n",
       "  mean: 0.77405, std: 0.08122, params: {'max_features': 34},\n",
       "  mean: 0.77145, std: 0.07088, params: {'max_features': 35},\n",
       "  mean: 0.78372, std: 0.07375, params: {'max_features': 36},\n",
       "  mean: 0.76595, std: 0.06929, params: {'max_features': 37},\n",
       "  mean: 0.76982, std: 0.06609, params: {'max_features': 38},\n",
       "  mean: 0.77001, std: 0.06961, params: {'max_features': 39},\n",
       "  mean: 0.75625, std: 0.06784, params: {'max_features': 40},\n",
       "  mean: 0.75969, std: 0.07001, params: {'max_features': 41},\n",
       "  mean: 0.76098, std: 0.05691, params: {'max_features': 42},\n",
       "  mean: 0.76333, std: 0.07834, params: {'max_features': 43},\n",
       "  mean: 0.75808, std: 0.06377, params: {'max_features': 44},\n",
       "  mean: 0.76292, std: 0.06180, params: {'max_features': 45},\n",
       "  mean: 0.76569, std: 0.06952, params: {'max_features': 46},\n",
       "  mean: 0.77157, std: 0.06060, params: {'max_features': 47},\n",
       "  mean: 0.76512, std: 0.06015, params: {'max_features': 48},\n",
       "  mean: 0.76359, std: 0.06369, params: {'max_features': 49},\n",
       "  mean: 0.77321, std: 0.05617, params: {'max_features': 50},\n",
       "  mean: 0.76432, std: 0.07306, params: {'max_features': 51},\n",
       "  mean: 0.76428, std: 0.07114, params: {'max_features': 52},\n",
       "  mean: 0.77234, std: 0.06578, params: {'max_features': 53},\n",
       "  mean: 0.76592, std: 0.05839, params: {'max_features': 54},\n",
       "  mean: 0.77038, std: 0.06229, params: {'max_features': 55},\n",
       "  mean: 0.77244, std: 0.06125, params: {'max_features': 56},\n",
       "  mean: 0.76257, std: 0.06757, params: {'max_features': 57},\n",
       "  mean: 0.76945, std: 0.07390, params: {'max_features': 58}],\n",
       " {'max_features': 14},\n",
       " 0.7852722380500158)"
      ]
     },
     "execution_count": 82,
     "metadata": {},
     "output_type": "execute_result"
    }
   ],
   "source": [
    "param_test4 = {'max_features':np.arange(5,59,1)}\n",
    "gsearch4 = GridSearchCV(estimator = GradientBoostingClassifier(learning_rate=0.2, n_estimators=240,max_depth=1, min_samples_split=2, min_samples_leaf=1, subsample=0.8, random_state=10),\n",
    "param_grid = param_test4, scoring='roc_auc',n_jobs=4,iid=False, cv=5)\n",
    "gsearch4.fit(X,y)\n",
    "gsearch4.grid_scores_, gsearch4.best_params_, gsearch4.best_score_"
   ]
  },
  {
   "cell_type": "code",
   "execution_count": 70,
   "metadata": {},
   "outputs": [
    {
     "data": {
      "text/plain": [
       "([mean: 0.74258, std: 0.02670, params: {'subsample': 0.6},\n",
       "  mean: 0.78216, std: 0.03904, params: {'subsample': 0.7},\n",
       "  mean: 0.78129, std: 0.03701, params: {'subsample': 0.75},\n",
       "  mean: 0.75255, std: 0.06041, params: {'subsample': 0.8},\n",
       "  mean: 0.75235, std: 0.06899, params: {'subsample': 0.85},\n",
       "  mean: 0.75045, std: 0.05523, params: {'subsample': 0.9},\n",
       "  mean: 0.74708, std: 0.05528, params: {'subsample': 0.95}],\n",
       " {'subsample': 0.7},\n",
       " 0.7821620142309798)"
      ]
     },
     "execution_count": 70,
     "metadata": {},
     "output_type": "execute_result"
    }
   ],
   "source": [
    "param_test5 = {'subsample':[0.6,0.7,0.75,0.8,0.85,0.9,0.95]}\n",
    "gsearch5 = GridSearchCV(estimator = GradientBoostingClassifier(learning_rate=0.2, n_estimators=240,max_depth=1,min_samples_split=2, min_samples_leaf=1,  random_state=10,max_features=14),\n",
    "param_grid = param_test5, scoring='roc_auc',n_jobs=4,iid=False, cv=5)\n",
    "gsearch5.fit(X,y)\n",
    "gsearch5.grid_scores_, gsearch5.best_params_, gsearch5.best_score_"
   ]
  },
  {
   "cell_type": "code",
   "execution_count": 71,
   "metadata": {},
   "outputs": [
    {
     "name": "stdout",
     "output_type": "stream",
     "text": [
      "\n",
      "Model Report\n",
      "Accuracy : 0.9169\n",
      "AUC Score (Train): 0.970301\n",
      "CV Score : Mean - 0.7544555 | Std - 0.05070404 | Min - 0.6615226 | Max - 0.8076132\n",
      "[0 0 1 0 0 0 0 0 0 1 1 1 0 0 1 0 1 1 0 1 1 0 0 0 1 0 1 1 1 1 1 1 1 1 0 0 1\n",
      " 1 0 0 0 0 0 0 0 1 0 0 0 0 1 0 1 0 0 0 0 1 0 0 0 0 0 0 0 1 1 0 1 0 0 0 1 0\n",
      " 1 0 0 1 0 0 0 1 1 1 1 1 1 1 1 1 0 0 0 0 0 0 0 0 0 0 0 0 0 0 0 0 0 0 0 0 0\n",
      " 0 0 1 0 0 0 0 0 0 0 0 0 1 1 0 1 0 0 0 1 1 1 1 0 0 0 1 0 0 0 0 0 0 1 0 0 1\n",
      " 1 1 1 1 1 1 1 1 1 0 1 0 0 0 0 0 0 0 0 0 1 1 0 1 0 0 0 0 0 1 1 0 0 1 0 0 0\n",
      " 0 0 0 0 0 1 1 1 1 1 0 0 0 0 0 0 0 0 0 0 0 1 1 0 0 1 1 1 1 0 0 1 1 1 1 1 0\n",
      " 1 0 0 1 1 1 1 0 0 1 1 0 0 1 0 0 0 0 0 0 1 0 1 0 0 1 0 0 1 1 1 0 1 0 0 0 1\n",
      " 1 1 0 1 0 0 1 1 0 1 1 1 1 1 1 1 1 1 1 1 1 1 1 0 1 1 0 0 0 0 1 1 1 0 0 1 1\n",
      " 1 1 1 0 0 1 0 1 0 0 1 1 0 0 0 1 1]\n"
     ]
    },
    {
     "data": {
      "image/png": "[encoded data removed]",
      "text/plain": [
       "<Figure size 864x288 with 1 Axes>"
      ]
     },
     "metadata": {},
     "output_type": "display_data"
    }
   ],
   "source": [
    "predictors = [x for x in X.columns]\n",
    "gbm_tuned_1 = GradientBoostingClassifier(learning_rate=0.2, n_estimators=240,max_depth=1, min_samples_split=2,min_samples_leaf=1, subsample=0.85, random_state=10, max_features=13,warm_start=False)\n",
    "modelfit(gbm_tuned_1, X ,y, predictors)\n"
   ]
  },
  {
   "cell_type": "code",
   "execution_count": 83,
   "metadata": {},
   "outputs": [
    {
     "name": "stdout",
     "output_type": "stream",
     "text": [
      "Accuracy: 0.722\n",
      "Sensitivity: 0.646\n",
      "Prec: 0.685\n",
      "F1: 0.659\n",
      "AUC: 0.788\n"
     ]
    }
   ],
   "source": [
    "from sklearn.ensemble import GradientBoostingClassifier\n",
    "from sklearn.model_selection import cross_val_score\n",
    "#import pdb\n",
    "#pdb.set_trace()\n",
    "gbm_tuned_1= GradientBoostingClassifier(criterion='friedman_mse', init=None,\n",
    "              learning_rate=0.2, n_estimators=240,max_depth=1, min_samples_split=2,min_samples_leaf=1, subsample=0.85, random_state=10, \n",
    "                                  max_features=14,warm_start=False)\n",
    "              \n",
    "\n",
    "\n",
    "Acc=cross_val_score(gbm_tuned_1, X, y, scoring='accuracy',\n",
    "          cv=5)\n",
    " \n",
    "print('Accuracy: %.3f' % Acc.mean() )\n",
    "\n",
    "Sen=cross_val_score(gbm_tuned_1, X, y, scoring='recall',\n",
    "          cv=5)\n",
    "Sen.mean()  \n",
    "print('Sensitivity: %.3f' % Sen.mean() )\n",
    "Prec=cross_val_score(gbm_tuned_1, X, y, scoring='precision',\n",
    "          cv=5)\n",
    "Prec.mean()  \n",
    "print('Prec: %.3f' % Prec.mean() )\n",
    "F1=cross_val_score(gbm_tuned_1, X, y, scoring='f1',\n",
    "          cv=5)\n",
    "F1.mean()  \n",
    "print('F1: %.3f' % F1.mean() )\n",
    "AUC=cross_val_score(gbm_tuned_1, X, y, scoring='roc_auc',\n",
    "          cv=5)\n",
    "AUC.mean()  \n",
    "print('AUC: %.3f' % AUC.mean() )"
   ]
  },
  {
   "cell_type": "code",
   "execution_count": 84,
   "metadata": {},
   "outputs": [
    {
     "name": "stdout",
     "output_type": "stream",
     "text": [
      "tp: 17.200\n",
      "\n",
      "\n",
      "tn: 28.000\n",
      "\n",
      "\n",
      "fp: 8.000\n",
      "\n",
      "\n",
      "fn: 9.400\n",
      "\n",
      "\n",
      "Specificity: 0.778\n",
      "MCC:0.428\n"
     ]
    }
   ],
   "source": [
    "from sklearn.model_selection import cross_validate\n",
    "from sklearn.metrics import confusion_matrix\n",
    "from sklearn.metrics import make_scorer\n",
    "import math\n",
    "\n",
    "def tn(y_true, y_pred): return confusion_matrix(y_true, y_pred)[0, 0]\n",
    "def fp(y_true, y_pred): return confusion_matrix(y_true, y_pred)[0, 1]\n",
    "def fn(y_true, y_pred): return confusion_matrix(y_true, y_pred)[1, 0]\n",
    "def tp(y_true, y_pred): return confusion_matrix(y_true, y_pred)[1, 1]\n",
    "\n",
    "scoring = {'tp': make_scorer(tp), 'tn': make_scorer(tn),\n",
    "           'fp': make_scorer(fp), 'fn': make_scorer(fn)}\n",
    "cv_results = cross_validate(gbm_tuned_1.fit(X, y), X, y,\n",
    "                           scoring=scoring, cv=5)\n",
    "tp=cv_results['test_tp'].mean()\n",
    "fp=cv_results['test_fp'].mean()\n",
    "tn=cv_results['test_tn'].mean()\n",
    "fn=cv_results['test_fn'].mean()\n",
    "print('tp: %.3f' % tp)\n",
    "print('\\n')\n",
    "print('tn: %.3f' % tn)\n",
    "print('\\n')\n",
    "print('fp: %.3f' % fp)\n",
    "print('\\n')\n",
    "print('fn: %.3f' % fn)\n",
    "print('\\n')\n",
    "\n",
    "specificity=tn/(tn+fp)\n",
    "print('Specificity: %.3f' %specificity)\n",
    "\n",
    "MCC= (tp*tn-fp*fn)/(math.sqrt((tp+fp)*(tp+fn)*(tn+fp)*(tn+fn)))\n",
    "print('MCC:%.3f' %MCC)"
   ]
  },
  {
   "cell_type": "code",
   "execution_count": 85,
   "metadata": {},
   "outputs": [],
   "source": [
    "from sklearn.metrics import roc_auc_score\n",
    "from sklearn.metrics import roc_curve\n",
    "\n",
    "predictors = [x for x in X.columns]\n",
    "#gbm_tuned_1 = GradientBoostingClassifier(learning_rate=0.2, n_estimators=40, max_features=55, subsample=0.7,max_depth=5,min_samples_split=12,min_samples_leaf=5, random_state=10,warm_start=False)\n",
    "gbm_tuned_1= GradientBoostingClassifier(criterion='friedman_mse', init=None,\n",
    "              learning_rate=0.2, n_estimators=240,max_depth=1, min_samples_split=2,min_samples_leaf=1, subsample=0.85, random_state=10, \n",
    "                                  max_features=14,warm_start=False)\n",
    "\n",
    "\n",
    "\n",
    "\n",
    "gbm_tuned_1.fit(X,y)\n",
    "\n",
    "\n",
    "y_test_pred = gbm_tuned_1.predict(X_test) \n",
    "svm_roc_auc = roc_auc_score(y_test, y_test_pred)"
   ]
  },
  {
   "cell_type": "code",
   "execution_count": 86,
   "metadata": {},
   "outputs": [
    {
     "name": "stdout",
     "output_type": "stream",
     "text": [
      "Accuracy of GTB classifier: 0.62\n",
      "\n",
      "\n",
      "Confusion matrix : \n",
      "                    Class 1  Class 0\n",
      "Predicted Class 1       57       18\n",
      "Predicted Class 0       30       21\n",
      "\n",
      "\n",
      "\n",
      "\n",
      "[[57 18]\n",
      " [30 21]]\n",
      "Specificity : 0.6153846153846154\n",
      "\n",
      "\n",
      "Precision score: 0.4117647058823529\n",
      "\n",
      "\n",
      "Recall or Sensitivity: 0.5384615384615384\n",
      "\n",
      "\n",
      "F1 Score: 0.4666666666666667\n",
      "\n",
      "\n",
      "Matthews Correlation Coefficient: 0.18237181486692547\n",
      "\n",
      "\n",
      "AUC: 0.673\n",
      "\n",
      "\n"
     ]
    }
   ],
   "source": [
    "from sklearn.metrics import confusion_matrix \n",
    "print('Accuracy of GTB classifier: {:.2f}'.format(gbm_tuned_1.score(X_test, y_test)))\n",
    "print('\\n')\n",
    "confusion_df = pd.DataFrame(confusion_matrix(y_test,y_test_pred),\n",
    "             columns=[\"Predicted Class \" + str(class_name) for class_name in [1,0]],\n",
    "             index = [\"Class \" + str(class_name) for class_name in [1,0]])\n",
    "\n",
    "print('Confusion matrix : \\n',confusion_df.T)\n",
    "print('\\n')\n",
    "\n",
    "\n",
    "cm1 = confusion_matrix(y_test, y_test_pred).T\n",
    "print('\\n')\n",
    "total1=sum(sum(cm1))\n",
    "print(cm1)\n",
    "#####from confusion matrix calculate sensitivity specificity\n",
    "\n",
    "tn=confusion_matrix(y_test, y_test_pred)[0, 0]\n",
    "fp=confusion_matrix(y_test, y_test_pred)[0, 1]\n",
    "fn=confusion_matrix(y_test, y_test_pred)[1, 0]\n",
    "tp=confusion_matrix(y_test, y_test_pred)[1, 1]\n",
    "#sensitivity1=tp/(tp+fn)\n",
    "\n",
    "#print('Sensitivity :', sensitivity1 )\n",
    "#print('\\n')\n",
    "\n",
    "specificity=tn/(tn+fp)\n",
    "print('Specificity :', specificity1)\n",
    "print('\\n')\n",
    "#precision=tp/(tp+fp)\n",
    "#precision = cm1[0,0]/(cm1[0,0]+cm1[0,1])\n",
    "#print('precision :', precision)\n",
    "#print('\\n')\n",
    "from sklearn.metrics import precision_score\n",
    "print(\"Precision score: {}\".format(precision_score(y_test,y_test_pred)))\n",
    "print('\\n')\n",
    "from sklearn.metrics import recall_score\n",
    "print(\"Recall or Sensitivity: {}\".format(recall_score(y_test,y_test_pred)))\n",
    "print('\\n')\n",
    "from sklearn.metrics import f1_score\n",
    "print(\"F1 Score: {}\".format(f1_score(y_test,y_test_pred)))\n",
    "print('\\n')\n",
    "from sklearn.metrics import matthews_corrcoef\n",
    "print(\"Matthews Correlation Coefficient: {}\".format(matthews_corrcoef(y_test, y_test_pred)))\n",
    "print('\\n')\n",
    "##Area under Curve-AUC\n",
    "auc = roc_auc_score(y_test, gbm_tuned_1.predict_proba(X_test)[:,1])\n",
    "print('AUC: %.3f' % auc)\n",
    "print('\\n')"
   ]
  },
  {
   "cell_type": "code",
   "execution_count": null,
   "metadata": {},
   "outputs": [],
   "source": []
  },
  {
   "cell_type": "code",
   "execution_count": null,
   "metadata": {},
   "outputs": [],
   "source": []
  }
 ],
 "metadata": {
  "kernelspec": {
   "display_name": "Python 3",
   "language": "python",
   "name": "python3"
  },
  "language_info": {
   "codemirror_mode": {
    "name": "ipython",
    "version": 3
   },
   "file_extension": ".py",
   "mimetype": "text/x-python",
   "name": "python",
   "nbconvert_exporter": "python",
   "pygments_lexer": "ipython3",
   "version": "3.6.5"
  }
 },
 "nbformat": 4,
 "nbformat_minor": 2
}
