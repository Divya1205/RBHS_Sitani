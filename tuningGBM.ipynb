{
 "cells": [
  {
   "cell_type": "code",
   "execution_count": 1,
   "metadata": {},
   "outputs": [
    {
     "name": "stderr",
     "output_type": "stream",
     "text": [
      "/anaconda3/lib/python3.6/site-packages/sklearn/cross_validation.py:41: DeprecationWarning: This module was deprecated in version 0.18 in favor of the model_selection module into which all the refactored classes and functions are moved. Also note that the interface of the new CV iterators are different from that of this module. This module will be removed in 0.20.\n",
      "  \"This module will be removed in 0.20.\", DeprecationWarning)\n",
      "/anaconda3/lib/python3.6/site-packages/sklearn/grid_search.py:42: DeprecationWarning: This module was deprecated in version 0.18 in favor of the model_selection module into which all the refactored classes and functions are moved. This module will be removed in 0.20.\n",
      "  DeprecationWarning)\n"
     ]
    }
   ],
   "source": [
    "\n",
    "#Import libraries:\n",
    "import pandas as pd\n",
    "import numpy as np\n",
    "import os\n",
    "from sklearn.ensemble import GradientBoostingClassifier  #GBM algorithm\n",
    "from sklearn import cross_validation, metrics   #Additional scklearn functions\n",
    "from sklearn.grid_search import GridSearchCV   #Perforing grid search\n",
    "\n",
    "import matplotlib.pylab as plt\n",
    "%matplotlib inline\n",
    "from matplotlib.pylab import rcParams\n",
    "rcParams['figure.figsize'] = (16, 8)\n",
    "import matlab.engine\n"
   ]
  },
  {
   "cell_type": "code",
   "execution_count": 2,
   "metadata": {},
   "outputs": [
    {
     "data": {
      "text/plain": [
       "'/Users/sitani/Desktop/CS_final_codes/workonhotspots/FinalCodesForPublication'"
      ]
     },
     "execution_count": 2,
     "metadata": {},
     "output_type": "execute_result"
    }
   ],
   "source": [
    "os.getcwd()\n",
    "os.chdir('/Users/sitani/Desktop/CS_final_codes/workonhotspots/')\n",
    "eng = matlab.engine.start_matlab()\n",
    "eng.reading_hotspot2Data(nargout=0)\n",
    "os.chdir('/Users/sitani/Desktop/CS_final_codes/workonhotspots/FinalCodesForPublication/')\n",
    "os.getcwd()"
   ]
  },
  {
   "cell_type": "code",
   "execution_count": 3,
   "metadata": {},
   "outputs": [],
   "source": [
    "eng.quit()"
   ]
  },
  {
   "cell_type": "code",
   "execution_count": 4,
   "metadata": {},
   "outputs": [
    {
     "name": "stdout",
     "output_type": "stream",
     "text": [
      "(250, 58)\n",
      "(63, 58)\n",
      "(250,)\n",
      "(63,)\n"
     ]
    }
   ],
   "source": [
    "X=pd.read_csv('Atrain_whole.csv',header=None)\n",
    "y=pd.read_csv('label_whole.csv',header=None)\n",
    "\n",
    "X_train = pd.read_csv('Atrain2.csv',header=None)\n",
    "X_valid = pd.read_csv('Avalid2.csv',header=None)\n",
    "\n",
    "y_train=pd.read_csv('label_train2.csv',header=None)\n",
    "y_valid=pd.read_csv('label_valid2.csv',header=None)\n",
    "\n",
    "X_test=pd.read_csv('Atest2.csv',header=None)\n",
    "y_test=pd.read_csv('label_test2.csv',header=None)\n",
    "\n",
    "X_train=X_train.T#transpose\n",
    "X_valid=X_valid.T\n",
    "X=X.T\n",
    "X_test=X_test.T\n",
    "\n",
    "y_train=y_train.values.ravel()\n",
    "y_valid=y_valid.values.ravel()\n",
    "y=y.values.ravel()\n",
    "y_test=y_test.values.ravel()\n",
    "\n",
    "print(X_train.shape)\n",
    "print(X_valid.shape)\n",
    "print(y_train.shape)\n",
    "print(y_valid.shape)"
   ]
  },
  {
   "cell_type": "code",
   "execution_count": 5,
   "metadata": {},
   "outputs": [],
   "source": [
    "def modelfit(alg, train_data,train_labels, predictors,performCV=True, printFeatureImportance=True, cv_folds=5):\n",
    "    #Fit the algorithm on the data\n",
    "    alg.fit(train_data,train_labels)\n",
    "        \n",
    "    #Predict training set:\n",
    "    train_predictions = alg.predict(train_data)\n",
    "    train_predprob = alg.predict_proba(train_data)[:,1]\n",
    "    \n",
    "    #Perform cross-validation:\n",
    "    if performCV:\n",
    "        cv_score = cross_validation.cross_val_score(alg,train_data,train_labels,cv=cv_folds, scoring='roc_auc')\n",
    "    \n",
    "    #Print model report:\n",
    "    print (\"\\nModel Report\")\n",
    "    print (\"Accuracy : %.4g\" % metrics.accuracy_score(train_labels, train_predictions))\n",
    "    print (\"AUC Score (Train): %f\" % metrics.roc_auc_score(train_labels, train_predprob))\n",
    "    \n",
    "    if performCV:\n",
    "        print (\"CV Score : Mean - %.7g | Std - %.7g | Min - %.7g | Max - %.7g\" % (np.mean(cv_score),np.std(cv_score),np.min(cv_score),np.max(cv_score)))\n",
    "        \n",
    "    #Print Feature Importance:\n",
    "    if printFeatureImportance:\n",
    "        feat_imp = pd.Series(alg.feature_importances_,predictors).sort_values(ascending=False)\n",
    "        feat_imp.plot(kind='bar', title='Feature Importances')\n",
    "        plt.ylabel('Feature Importance Score')\n",
    "    #print (train_predictions)     "
   ]
  },
  {
   "cell_type": "code",
   "execution_count": 48,
   "metadata": {
    "scrolled": false
   },
   "outputs": [
    {
     "name": "stdout",
     "output_type": "stream",
     "text": [
      "\n",
      "Model Report\n",
      "Accuracy : 0.9904\n",
      "AUC Score (Train): 1.000000\n",
      "CV Score : Mean - 0.4780548 | Std - 0.08468366 | Min - 0.350823 | Max - 0.5864198\n"
     ]
    },
    {
     "data": {
      "image/png": "[encoded data removed]",
      "text/plain": [
       "<Figure size 432x288 with 1 Axes>"
      ]
     },
     "metadata": {},
     "output_type": "display_data"
    }
   ],
   "source": [
    "#Choose all predictors except target & IDcols\n",
    "predictors = [x for x in X.columns]\n",
    "gbm0 = GradientBoostingClassifier(random_state=10)\n",
    "modelfit(gbm0,X,y,predictors )\n"
   ]
  },
  {
   "cell_type": "code",
   "execution_count": 34,
   "metadata": {},
   "outputs": [
    {
     "data": {
      "text/plain": [
       "GridSearchCV(cv=5, error_score='raise',\n",
       "       estimator=GradientBoostingClassifier(criterion='friedman_mse', init=None,\n",
       "              learning_rate=0.2, loss='deviance', max_depth=5,\n",
       "              max_features='sqrt', max_leaf_nodes=None,\n",
       "              min_impurity_decrease=0.0, min_impurity_split=None,\n",
       "              min_samples_leaf=50, min_samples_split=2,\n",
       "              min_weight_fraction_leaf=0.0, n_estimators=100,\n",
       "              presort='auto', random_state=10, subsample=0.8, verbose=0,\n",
       "              warm_start=False),\n",
       "       fit_params={}, iid=False, n_jobs=4,\n",
       "       param_grid={'n_estimators': array([ 10,  20,  30,  40,  50,  60,  70,  80,  90, 100, 110, 120, 130,\n",
       "       140, 150, 160, 170, 180, 190, 200])},\n",
       "       pre_dispatch='2*n_jobs', refit=True, scoring='roc_auc', verbose=0)"
      ]
     },
     "execution_count": 34,
     "metadata": {},
     "output_type": "execute_result"
    }
   ],
   "source": [
    "#Choose all predictors except target & IDcols\n",
    "predictors = [x for x in X_train.columns]\n",
    "param_test1 = {'n_estimators':np.arange(10,201,10)}\n",
    "gsearch1 = GridSearchCV(estimator = GradientBoostingClassifier(learning_rate=0.2, min_samples_split=2,min_samples_leaf=50,max_depth=5,max_features='sqrt',subsample=0.8,random_state=10), \n",
    "param_grid = param_test1, scoring='roc_auc',n_jobs=4,iid=False, cv=5)\n",
    "gsearch1.fit(X_train,y_train)"
   ]
  },
  {
   "cell_type": "code",
   "execution_count": 35,
   "metadata": {},
   "outputs": [
    {
     "data": {
      "text/plain": [
       "([mean: 0.67388, std: 0.06860, params: {'n_estimators': 10},\n",
       "  mean: 0.70338, std: 0.06847, params: {'n_estimators': 20},\n",
       "  mean: 0.71165, std: 0.06726, params: {'n_estimators': 30},\n",
       "  mean: 0.72534, std: 0.05994, params: {'n_estimators': 40},\n",
       "  mean: 0.72753, std: 0.06624, params: {'n_estimators': 50},\n",
       "  mean: 0.73193, std: 0.05723, params: {'n_estimators': 60},\n",
       "  mean: 0.72189, std: 0.05925, params: {'n_estimators': 70},\n",
       "  mean: 0.71661, std: 0.05524, params: {'n_estimators': 80},\n",
       "  mean: 0.71412, std: 0.04914, params: {'n_estimators': 90},\n",
       "  mean: 0.71162, std: 0.04602, params: {'n_estimators': 100},\n",
       "  mean: 0.71493, std: 0.04334, params: {'n_estimators': 110},\n",
       "  mean: 0.72286, std: 0.04094, params: {'n_estimators': 120},\n",
       "  mean: 0.73526, std: 0.04662, params: {'n_estimators': 130},\n",
       "  mean: 0.73268, std: 0.03905, params: {'n_estimators': 140},\n",
       "  mean: 0.72624, std: 0.03980, params: {'n_estimators': 150},\n",
       "  mean: 0.71993, std: 0.03458, params: {'n_estimators': 160},\n",
       "  mean: 0.72331, std: 0.02988, params: {'n_estimators': 170},\n",
       "  mean: 0.72419, std: 0.04115, params: {'n_estimators': 180},\n",
       "  mean: 0.72002, std: 0.04037, params: {'n_estimators': 190},\n",
       "  mean: 0.72194, std: 0.04435, params: {'n_estimators': 200}],\n",
       " {'n_estimators': 130},\n",
       " 0.7352599890530925)"
      ]
     },
     "execution_count": 35,
     "metadata": {},
     "output_type": "execute_result"
    }
   ],
   "source": [
    "gsearch1.grid_scores_, gsearch1.best_params_, gsearch1.best_score_"
   ]
  },
  {
   "cell_type": "code",
   "execution_count": 37,
   "metadata": {},
   "outputs": [
    {
     "data": {
      "text/plain": [
       "([mean: 0.73526, std: 0.04662, params: {'max_depth': 5},\n",
       "  mean: 0.73526, std: 0.04662, params: {'max_depth': 6},\n",
       "  mean: 0.73526, std: 0.04662, params: {'max_depth': 7},\n",
       "  mean: 0.73526, std: 0.04662, params: {'max_depth': 8},\n",
       "  mean: 0.73526, std: 0.04662, params: {'max_depth': 9},\n",
       "  mean: 0.73526, std: 0.04662, params: {'max_depth': 10},\n",
       "  mean: 0.73526, std: 0.04662, params: {'max_depth': 11},\n",
       "  mean: 0.73526, std: 0.04662, params: {'max_depth': 12},\n",
       "  mean: 0.73526, std: 0.04662, params: {'max_depth': 13},\n",
       "  mean: 0.73526, std: 0.04662, params: {'max_depth': 14},\n",
       "  mean: 0.73526, std: 0.04662, params: {'max_depth': 15},\n",
       "  mean: 0.73526, std: 0.04662, params: {'max_depth': 16},\n",
       "  mean: 0.73526, std: 0.04662, params: {'max_depth': 17},\n",
       "  mean: 0.73526, std: 0.04662, params: {'max_depth': 18},\n",
       "  mean: 0.73526, std: 0.04662, params: {'max_depth': 19},\n",
       "  mean: 0.73526, std: 0.04662, params: {'max_depth': 20},\n",
       "  mean: 0.73526, std: 0.04662, params: {'max_depth': 21},\n",
       "  mean: 0.73526, std: 0.04662, params: {'max_depth': 22},\n",
       "  mean: 0.73526, std: 0.04662, params: {'max_depth': 23},\n",
       "  mean: 0.73526, std: 0.04662, params: {'max_depth': 24},\n",
       "  mean: 0.73526, std: 0.04662, params: {'max_depth': 25},\n",
       "  mean: 0.73526, std: 0.04662, params: {'max_depth': 26},\n",
       "  mean: 0.73526, std: 0.04662, params: {'max_depth': 27},\n",
       "  mean: 0.73526, std: 0.04662, params: {'max_depth': 28},\n",
       "  mean: 0.73526, std: 0.04662, params: {'max_depth': 29},\n",
       "  mean: 0.73526, std: 0.04662, params: {'max_depth': 30},\n",
       "  mean: 0.73526, std: 0.04662, params: {'max_depth': 31},\n",
       "  mean: 0.73526, std: 0.04662, params: {'max_depth': 32},\n",
       "  mean: 0.73526, std: 0.04662, params: {'max_depth': 33},\n",
       "  mean: 0.73526, std: 0.04662, params: {'max_depth': 34},\n",
       "  mean: 0.73526, std: 0.04662, params: {'max_depth': 35},\n",
       "  mean: 0.73526, std: 0.04662, params: {'max_depth': 36},\n",
       "  mean: 0.73526, std: 0.04662, params: {'max_depth': 37},\n",
       "  mean: 0.73526, std: 0.04662, params: {'max_depth': 38},\n",
       "  mean: 0.73526, std: 0.04662, params: {'max_depth': 39},\n",
       "  mean: 0.73526, std: 0.04662, params: {'max_depth': 40},\n",
       "  mean: 0.73526, std: 0.04662, params: {'max_depth': 41},\n",
       "  mean: 0.73526, std: 0.04662, params: {'max_depth': 42},\n",
       "  mean: 0.73526, std: 0.04662, params: {'max_depth': 43},\n",
       "  mean: 0.73526, std: 0.04662, params: {'max_depth': 44},\n",
       "  mean: 0.73526, std: 0.04662, params: {'max_depth': 45},\n",
       "  mean: 0.73526, std: 0.04662, params: {'max_depth': 46},\n",
       "  mean: 0.73526, std: 0.04662, params: {'max_depth': 47},\n",
       "  mean: 0.73526, std: 0.04662, params: {'max_depth': 48},\n",
       "  mean: 0.73526, std: 0.04662, params: {'max_depth': 49},\n",
       "  mean: 0.73526, std: 0.04662, params: {'max_depth': 50},\n",
       "  mean: 0.73526, std: 0.04662, params: {'max_depth': 51},\n",
       "  mean: 0.73526, std: 0.04662, params: {'max_depth': 52},\n",
       "  mean: 0.73526, std: 0.04662, params: {'max_depth': 53},\n",
       "  mean: 0.73526, std: 0.04662, params: {'max_depth': 54},\n",
       "  mean: 0.73526, std: 0.04662, params: {'max_depth': 55},\n",
       "  mean: 0.73526, std: 0.04662, params: {'max_depth': 56},\n",
       "  mean: 0.73526, std: 0.04662, params: {'max_depth': 57},\n",
       "  mean: 0.73526, std: 0.04662, params: {'max_depth': 58},\n",
       "  mean: 0.73526, std: 0.04662, params: {'max_depth': 59},\n",
       "  mean: 0.73526, std: 0.04662, params: {'max_depth': 60},\n",
       "  mean: 0.73526, std: 0.04662, params: {'max_depth': 61},\n",
       "  mean: 0.73526, std: 0.04662, params: {'max_depth': 62},\n",
       "  mean: 0.73526, std: 0.04662, params: {'max_depth': 63},\n",
       "  mean: 0.73526, std: 0.04662, params: {'max_depth': 64},\n",
       "  mean: 0.73526, std: 0.04662, params: {'max_depth': 65},\n",
       "  mean: 0.73526, std: 0.04662, params: {'max_depth': 66},\n",
       "  mean: 0.73526, std: 0.04662, params: {'max_depth': 67},\n",
       "  mean: 0.73526, std: 0.04662, params: {'max_depth': 68},\n",
       "  mean: 0.73526, std: 0.04662, params: {'max_depth': 69},\n",
       "  mean: 0.73526, std: 0.04662, params: {'max_depth': 70},\n",
       "  mean: 0.73526, std: 0.04662, params: {'max_depth': 71},\n",
       "  mean: 0.73526, std: 0.04662, params: {'max_depth': 72},\n",
       "  mean: 0.73526, std: 0.04662, params: {'max_depth': 73},\n",
       "  mean: 0.73526, std: 0.04662, params: {'max_depth': 74},\n",
       "  mean: 0.73526, std: 0.04662, params: {'max_depth': 75},\n",
       "  mean: 0.73526, std: 0.04662, params: {'max_depth': 76},\n",
       "  mean: 0.73526, std: 0.04662, params: {'max_depth': 77},\n",
       "  mean: 0.73526, std: 0.04662, params: {'max_depth': 78},\n",
       "  mean: 0.73526, std: 0.04662, params: {'max_depth': 79},\n",
       "  mean: 0.73526, std: 0.04662, params: {'max_depth': 80},\n",
       "  mean: 0.73526, std: 0.04662, params: {'max_depth': 81},\n",
       "  mean: 0.73526, std: 0.04662, params: {'max_depth': 82},\n",
       "  mean: 0.73526, std: 0.04662, params: {'max_depth': 83},\n",
       "  mean: 0.73526, std: 0.04662, params: {'max_depth': 84},\n",
       "  mean: 0.73526, std: 0.04662, params: {'max_depth': 85},\n",
       "  mean: 0.73526, std: 0.04662, params: {'max_depth': 86},\n",
       "  mean: 0.73526, std: 0.04662, params: {'max_depth': 87},\n",
       "  mean: 0.73526, std: 0.04662, params: {'max_depth': 88},\n",
       "  mean: 0.73526, std: 0.04662, params: {'max_depth': 89},\n",
       "  mean: 0.73526, std: 0.04662, params: {'max_depth': 90},\n",
       "  mean: 0.73526, std: 0.04662, params: {'max_depth': 91},\n",
       "  mean: 0.73526, std: 0.04662, params: {'max_depth': 92},\n",
       "  mean: 0.73526, std: 0.04662, params: {'max_depth': 93},\n",
       "  mean: 0.73526, std: 0.04662, params: {'max_depth': 94},\n",
       "  mean: 0.73526, std: 0.04662, params: {'max_depth': 95},\n",
       "  mean: 0.73526, std: 0.04662, params: {'max_depth': 96},\n",
       "  mean: 0.73526, std: 0.04662, params: {'max_depth': 97},\n",
       "  mean: 0.73526, std: 0.04662, params: {'max_depth': 98},\n",
       "  mean: 0.73526, std: 0.04662, params: {'max_depth': 99}],\n",
       " {'max_depth': 5},\n",
       " 0.7352599890530925)"
      ]
     },
     "execution_count": 37,
     "metadata": {},
     "output_type": "execute_result"
    }
   ],
   "source": [
    "#param_test2 = {'max_depth':np.arange(5,16,2), 'min_samples_split':np.arange(2,11,1)}\n",
    "param_test2 = {'max_depth':np.arange(5,100,1)}\n",
    "gsearch2 = GridSearchCV(estimator = GradientBoostingClassifier(learning_rate=0.2, n_estimators=130, max_features='sqrt', subsample=0.8, min_samples_split=2,min_samples_leaf=50,random_state=10), \n",
    "param_grid = param_test2, scoring='roc_auc',n_jobs=4,iid=False, cv=5)\n",
    "gsearch2.fit(X_train,y_train)\n",
    "gsearch2.grid_scores_, gsearch2.best_params_, gsearch2.best_score_"
   ]
  },
  {
   "cell_type": "code",
   "execution_count": 32,
   "metadata": {},
   "outputs": [
    {
     "name": "stdout",
     "output_type": "stream",
     "text": [
      "\n",
      "Model Report\n",
      "Accuracy : 0.948\n",
      "AUC Score (Train): 0.990688\n",
      "CV Score : Mean - 0.73526 | Std - 0.04662256 | Min - 0.6761905 | Max - 0.7968254\n"
     ]
    },
    {
     "data": {
      "image/png": "[encoded data removed]",
      "text/plain": [
       "<Figure size 432x288 with 1 Axes>"
      ]
     },
     "metadata": {},
     "output_type": "display_data"
    }
   ],
   "source": [
    "modelfit(gsearch2.best_estimator_, X_train,y_train,predictors)"
   ]
  },
  {
   "cell_type": "code",
   "execution_count": 39,
   "metadata": {},
   "outputs": [
    {
     "data": {
      "text/plain": [
       "({'min_samples_leaf': 26, 'min_samples_split': 2}, 0.7418336070060207)"
      ]
     },
     "execution_count": 39,
     "metadata": {},
     "output_type": "execute_result"
    }
   ],
   "source": [
    "param_test3 = {'min_samples_split':np.arange(2,5,1), 'min_samples_leaf':np.arange(1,60,1)}\n",
    "gsearch3 = GridSearchCV(estimator = GradientBoostingClassifier(learning_rate=0.2, n_estimators=130,max_depth=5,max_features='sqrt', subsample=0.8, random_state=10), \n",
    "param_grid = param_test3, scoring='roc_auc',n_jobs=4,iid=False, cv=5)\n",
    "gsearch3.fit(X_train,y_train)\n",
    "#gsearch3.grid_scores_, gsearch3.best_params_, gsearch3.best_score_\n",
    "gsearch3.best_params_, gsearch3.best_score_\n"
   ]
  },
  {
   "cell_type": "code",
   "execution_count": 40,
   "metadata": {},
   "outputs": [
    {
     "data": {
      "text/plain": [
       "({'max_features': 7}, 0.7418336070060207)"
      ]
     },
     "execution_count": 40,
     "metadata": {},
     "output_type": "execute_result"
    }
   ],
   "source": [
    "param_test4 = {'max_features':np.arange(1,59,1)}\n",
    "gsearch4 = GridSearchCV(estimator = GradientBoostingClassifier(learning_rate=0.2, n_estimators=130,max_depth=5, min_samples_split=2, min_samples_leaf=26, subsample=0.8, random_state=10),\n",
    "param_grid = param_test4, scoring='roc_auc',n_jobs=4,iid=False, cv=5)\n",
    "gsearch4.fit(X_train,y_train)\n",
    "#gsearch4.grid_scores_, gsearch4.best_params_, gsearch4.best_score_\n",
    "gsearch4.best_params_, gsearch4.best_score_"
   ]
  },
  {
   "cell_type": "code",
   "execution_count": 41,
   "metadata": {},
   "outputs": [
    {
     "data": {
      "text/plain": [
       "([mean: 0.72513, std: 0.04386, params: {'subsample': 0.6},\n",
       "  mean: 0.72937, std: 0.03605, params: {'subsample': 0.7},\n",
       "  mean: 0.69204, std: 0.05374, params: {'subsample': 0.75},\n",
       "  mean: 0.74183, std: 0.04165, params: {'subsample': 0.8},\n",
       "  mean: 0.71029, std: 0.05007, params: {'subsample': 0.85},\n",
       "  mean: 0.70922, std: 0.03634, params: {'subsample': 0.9},\n",
       "  mean: 0.70848, std: 0.03922, params: {'subsample': 0.95}],\n",
       " {'subsample': 0.8},\n",
       " 0.7418336070060207)"
      ]
     },
     "execution_count": 41,
     "metadata": {},
     "output_type": "execute_result"
    }
   ],
   "source": [
    "param_test5 = {'subsample':[0.6,0.7,0.75,0.8,0.85,0.9,0.95]}\n",
    "gsearch5 = GridSearchCV(estimator = GradientBoostingClassifier(learning_rate=0.2, n_estimators=130,max_depth=5, min_samples_split=2, min_samples_leaf=26, subsample=0.8,max_features=7, random_state=10),\n",
    "param_grid = param_test5, scoring='roc_auc',n_jobs=4,iid=False, cv=5)\n",
    "gsearch5.fit(X_train,y_train)\n",
    "gsearch5.grid_scores_, gsearch5.best_params_, gsearch5.best_score_"
   ]
  },
  {
   "cell_type": "code",
   "execution_count": 42,
   "metadata": {},
   "outputs": [
    {
     "data": {
      "text/plain": [
       "GradientBoostingClassifier(criterion='friedman_mse', init=None,\n",
       "              learning_rate=0.01, loss='deviance', max_depth=5,\n",
       "              max_features=7, max_leaf_nodes=None,\n",
       "              min_impurity_decrease=0.0, min_impurity_split=None,\n",
       "              min_samples_leaf=1, min_samples_split=7,\n",
       "              min_weight_fraction_leaf=0.0, n_estimators=80,\n",
       "              presort='auto', random_state=10, subsample=0.8, verbose=0,\n",
       "              warm_start=False)"
      ]
     },
     "execution_count": 42,
     "metadata": {},
     "output_type": "execute_result"
    }
   ],
   "source": [
    "from sklearn.ensemble import GradientBoostingClassifier\n",
    "#import pdb\n",
    "#pdb.set_trace()\n",
    "#gbm_tuned_1= GradientBoostingClassifier(criterion='friedman_mse', init=None,\n",
    " #             learning_rate=0.2, n_estimators=80,max_depth=5,min_samples_split=11,min_samples_leaf=4, subsample=0.8, random_state=10, \n",
    "  #                                max_features=7,warm_start=False)\n",
    "GradientBoostingClassifier(criterion='friedman_mse', init=None,\n",
    "              learning_rate=0.1, loss='deviance', max_depth=5,\n",
    "              max_features=None, max_leaf_nodes=None,\n",
    "              min_impurity_decrease=0.0, min_impurity_split=None,\n",
    "              min_samples_leaf=26, min_samples_split=2,\n",
    "              min_weight_fraction_leaf=0.0, n_estimators=130,\n",
    "              presort='auto', random_state=10, subsample=0.8, verbose=0,\n",
    "              warm_start=False)\n",
    "gbm_tuned_1.fit(X_train, y_train)\n",
    "#gbm_tuned_1.score(X_test,y_test)"
   ]
  },
  {
   "cell_type": "code",
   "execution_count": 43,
   "metadata": {},
   "outputs": [
    {
     "data": {
      "text/plain": [
       "0.6507936507936508"
      ]
     },
     "execution_count": 43,
     "metadata": {},
     "output_type": "execute_result"
    }
   ],
   "source": [
    "    \n",
    "#from sklearn.ensemble import GradientBoostingClassifier\n",
    "#import pdb\n",
    "#pdb.set_trace()\n",
    "#model= GradientBoostingClassifier(criterion='friedman_mse', init=None,\n",
    "#              learning_rate=0.001, loss='deviance', max_depth=5,\n",
    " #              min_samples_leaf=10,min_samples_split=5,\n",
    "  #            n_estimators=20000, presort='auto', random_state=10, subsample=0.8, verbose=0,\n",
    "   #           warm_start=False)\n",
    "\n",
    "#model.fit(X_train, y_train)\n",
    "#model.score(X_valid,y_valid)\n",
    "#y_pred = model.predict(X_test) \n",
    "#gbm_tuned_1.score(X_valid,y_valid)\n",
    "y_pred = gbm_tuned_1.predict(X_valid) \n",
    "gbm_tuned_1.score(X_valid,y_valid)"
   ]
  },
  {
   "cell_type": "code",
   "execution_count": 44,
   "metadata": {},
   "outputs": [],
   "source": [
    "from sklearn.metrics import roc_auc_score\n",
    "from sklearn.metrics import roc_curve\n",
    "svm_roc_auc = roc_auc_score(y_valid, y_pred)"
   ]
  },
  {
   "cell_type": "code",
   "execution_count": 45,
   "metadata": {},
   "outputs": [
    {
     "name": "stdout",
     "output_type": "stream",
     "text": [
      "Accuracy of GTB classifier: 0.65\n",
      "\n",
      "\n",
      "Confusion matrix : \n",
      "                    Class 1  Class 0\n",
      "Predicted Class 1       30       19\n",
      "Predicted Class 0        3       11\n",
      "\n",
      "\n",
      "\n",
      "\n",
      "[[30 19]\n",
      " [ 3 11]]\n",
      "Sensitivity : 0.9090909090909091\n",
      "\n",
      "\n",
      "Specificity : 0.36666666666666664\n",
      "\n",
      "\n",
      "precision : 0.6122448979591837\n",
      "\n",
      "\n",
      "F1 Score: 0.5\n",
      "\n",
      "\n",
      "Matthews Correlation Coefficient: 0.3312706744344566\n",
      "\n",
      "\n",
      "AUC: 0.775\n",
      "\n",
      "\n"
     ]
    }
   ],
   "source": [
    "from sklearn.metrics import confusion_matrix \n",
    "print('Accuracy of GTB classifier: {:.2f}'.format(gbm_tuned_1.score(X_valid, y_valid)))\n",
    "print('\\n')\n",
    "confusion_df = pd.DataFrame(confusion_matrix(y_valid,y_pred),\n",
    "             columns=[\"Predicted Class \" + str(class_name) for class_name in [1,0]],\n",
    "             index = [\"Class \" + str(class_name) for class_name in [1,0]])\n",
    "\n",
    "print('Confusion matrix : \\n',confusion_df.T)\n",
    "print('\\n')\n",
    "\n",
    "\n",
    "cm1 = confusion_matrix(y_valid, y_pred).T\n",
    "print('\\n')\n",
    "total1=sum(sum(cm1))\n",
    "print(cm1)\n",
    "#####from confusion matrix calculate sensitivity specificity\n",
    "\n",
    "\n",
    "sensitivity1 = cm1[0,0]/(cm1[0,0]+cm1[1,0])\n",
    "print('Sensitivity :', sensitivity1 )\n",
    "print('\\n')\n",
    "specificity1 = cm1[1,1]/(cm1[0,1]+cm1[1,1])\n",
    "print('Specificity :', specificity1)\n",
    "print('\\n')\n",
    "precision = cm1[0,0]/(cm1[0,0]+cm1[0,1])\n",
    "print('precision :', precision)\n",
    "print('\\n')\n",
    "#from sklearn.metrics import precision_score\n",
    "#print(\"Precision score: {}\".format(precision_score(y_valid,y_pred)))\n",
    "#print('\\n')\n",
    "from sklearn.metrics import f1_score\n",
    "print(\"F1 Score: {}\".format(f1_score(y_valid,y_pred)))\n",
    "print('\\n')\n",
    "from sklearn.metrics import matthews_corrcoef\n",
    "print(\"Matthews Correlation Coefficient: {}\".format(matthews_corrcoef(y_valid, y_pred)))\n",
    "print('\\n')\n",
    "##Area under Curve-AUC\n",
    "auc = roc_auc_score(y_valid, gbm_tuned_1.predict_proba(X_valid)[:,1])\n",
    "print('AUC: %.3f' % auc)\n",
    "print('\\n')"
   ]
  },
  {
   "cell_type": "code",
   "execution_count": 46,
   "metadata": {},
   "outputs": [],
   "source": [
    "predictors = [x for x in X_train.columns]\n",
    "#gbm_tuned_1 = GradientBoostingClassifier(learning_rate=0.2, n_estimators=40, max_features=55, subsample=0.7,max_depth=5,min_samples_split=12,min_samples_leaf=5, random_state=10,warm_start=False)\n",
    "gbm_tuned_1= GradientBoostingClassifier(criterion='friedman_mse', init=None,\n",
    "              learning_rate=0.0100, n_estimators=80,max_depth=5, min_samples_split=7,min_samples_leaf=1, subsample=0.8, random_state=10, \n",
    "                                  max_features=7,warm_start=False)\n",
    "\n",
    "\n",
    "\n",
    "\n",
    "gbm_tuned_1.fit(X_train,y_train)\n",
    "\n",
    "gbm_tuned_1.score(X_train,y_train)\n",
    "y_test_pred = gbm_tuned_1.predict(X_test) \n",
    "svm_roc_auc = roc_auc_score(y_test, y_test_pred)"
   ]
  },
  {
   "cell_type": "code",
   "execution_count": 47,
   "metadata": {},
   "outputs": [
    {
     "name": "stdout",
     "output_type": "stream",
     "text": [
      "Accuracy of GTB classifier: 0.72\n",
      "\n",
      "\n",
      "Confusion matrix : \n",
      "                    Class 1  Class 0\n",
      "Predicted Class 1       75       23\n",
      "Predicted Class 0       12       16\n",
      "\n",
      "\n",
      "\n",
      "\n",
      "[[75 23]\n",
      " [12 16]]\n",
      "Sensitivity : 0.8620689655172413\n",
      "\n",
      "\n",
      "Specificity : 0.41025641025641024\n",
      "\n",
      "\n",
      "precision : 0.7653061224489796\n",
      "\n",
      "\n",
      "F1 Score: 0.47761194029850745\n",
      "\n",
      "\n",
      "Matthews Correlation Coefficient: 0.302822393567962\n",
      "\n",
      "\n",
      "AUC: 0.727\n",
      "\n",
      "\n"
     ]
    }
   ],
   "source": [
    "from sklearn.metrics import confusion_matrix \n",
    "print('Accuracy of GTB classifier: {:.2f}'.format(gbm_tuned_1.score(X_test, y_test)))\n",
    "print('\\n')\n",
    "confusion_df = pd.DataFrame(confusion_matrix(y_test,y_test_pred),\n",
    "             columns=[\"Predicted Class \" + str(class_name) for class_name in [1,0]],\n",
    "             index = [\"Class \" + str(class_name) for class_name in [1,0]])\n",
    "\n",
    "print('Confusion matrix : \\n',confusion_df.T)\n",
    "print('\\n')\n",
    "\n",
    "\n",
    "cm1 = confusion_matrix(y_test, y_test_pred).T\n",
    "print('\\n')\n",
    "total1=sum(sum(cm1))\n",
    "print(cm1)\n",
    "#####from confusion matrix calculate sensitivity specificity\n",
    "\n",
    "\n",
    "sensitivity1 = cm1[0,0]/(cm1[0,0]+cm1[1,0])\n",
    "print('Sensitivity :', sensitivity1 )\n",
    "print('\\n')\n",
    "specificity1 = cm1[1,1]/(cm1[0,1]+cm1[1,1])\n",
    "print('Specificity :', specificity1)\n",
    "print('\\n')\n",
    "precision = cm1[0,0]/(cm1[0,0]+cm1[0,1])\n",
    "print('precision :', precision)\n",
    "print('\\n')\n",
    "#from sklearn.metrics import precision_score\n",
    "#print(\"Precision score: {}\".format(precision_score(y_valid,y_pred)))\n",
    "#print('\\n')\n",
    "from sklearn.metrics import f1_score\n",
    "print(\"F1 Score: {}\".format(f1_score(y_test,y_test_pred)))\n",
    "print('\\n')\n",
    "from sklearn.metrics import matthews_corrcoef\n",
    "print(\"Matthews Correlation Coefficient: {}\".format(matthews_corrcoef(y_test, y_test_pred)))\n",
    "print('\\n')\n",
    "##Area under Curve-AUC\n",
    "auc = roc_auc_score(y_test, gbm_tuned_1.predict_proba(X_test)[:,1])\n",
    "print('AUC: %.3f' % auc)\n",
    "print('\\n')"
   ]
  },
  {
   "cell_type": "code",
   "execution_count": null,
   "metadata": {},
   "outputs": [],
   "source": []
  },
  {
   "cell_type": "code",
   "execution_count": null,
   "metadata": {},
   "outputs": [],
   "source": []
  }
 ],
 "metadata": {
  "kernelspec": {
   "display_name": "Python 3",
   "language": "python",
   "name": "python3"
  },
  "language_info": {
   "codemirror_mode": {
    "name": "ipython",
    "version": 3
   },
   "file_extension": ".py",
   "mimetype": "text/x-python",
   "name": "python",
   "nbconvert_exporter": "python",
   "pygments_lexer": "ipython3",
   "version": "3.6.5"
  }
 },
 "nbformat": 4,
 "nbformat_minor": 2
}
