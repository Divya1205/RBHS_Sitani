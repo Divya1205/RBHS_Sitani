{
 "cells": [
  {
   "cell_type": "code",
   "execution_count": 25,
   "metadata": {},
   "outputs": [],
   "source": [
    "\n",
    "#Import libraries:\n",
    "import pandas as pd\n",
    "import numpy as np\n",
    "import os\n",
    "from sklearn.ensemble import GradientBoostingClassifier  #GBM algorithm\n",
    "from sklearn import cross_validation, metrics   #Additional scklearn functions\n",
    "from sklearn.grid_search import GridSearchCV   #Perforing grid search\n",
    "\n",
    "import matplotlib.pylab as plt\n",
    "%matplotlib inline\n",
    "from matplotlib.pylab import rcParams\n",
    "rcParams['figure.figsize'] = (16, 8)\n",
    "import matlab.engine\n"
   ]
  },
  {
   "cell_type": "code",
   "execution_count": 26,
   "metadata": {},
   "outputs": [
    {
     "data": {
      "text/plain": [
       "'/Users/sitani/Desktop/CS_final_codes/workonhotspots/FinalCodesForPublication'"
      ]
     },
     "execution_count": 26,
     "metadata": {},
     "output_type": "execute_result"
    }
   ],
   "source": [
    "os.getcwd()\n",
    "os.chdir('/Users/sitani/Desktop/CS_final_codes/workonhotspots/')\n",
    "eng = matlab.engine.start_matlab()\n",
    "eng.reading_hotspot2Data_v3(nargout=0)\n",
    "os.chdir('/Users/sitani/Desktop/CS_final_codes/workonhotspots/FinalCodesForPublication/')\n",
    "os.getcwd()"
   ]
  },
  {
   "cell_type": "code",
   "execution_count": 27,
   "metadata": {},
   "outputs": [],
   "source": [
    "eng.quit()"
   ]
  },
  {
   "cell_type": "code",
   "execution_count": 28,
   "metadata": {},
   "outputs": [
    {
     "name": "stdout",
     "output_type": "stream",
     "text": [
      "(250, 58)\n",
      "(63, 58)\n",
      "(250,)\n",
      "(63,)\n"
     ]
    }
   ],
   "source": [
    "X=pd.read_csv('Atrain_whole.csv',header=None)\n",
    "y=pd.read_csv('label_whole.csv',header=None)\n",
    "\n",
    "X_train = pd.read_csv('Atrain2.csv',header=None)\n",
    "X_valid = pd.read_csv('Avalid2.csv',header=None)\n",
    "\n",
    "y_train=pd.read_csv('label_train2.csv',header=None)\n",
    "y_valid=pd.read_csv('label_valid2.csv',header=None)\n",
    "\n",
    "X_test=pd.read_csv('Atest2.csv',header=None)\n",
    "y_test=pd.read_csv('label_test2.csv',header=None)\n",
    "\n",
    "X_train=X_train.T#transpose\n",
    "X_valid=X_valid.T\n",
    "X=X.T\n",
    "X_test=X_test.T\n",
    "\n",
    "y_train=y_train.values.ravel()\n",
    "y_valid=y_valid.values.ravel()\n",
    "y=y.values.ravel()\n",
    "y_test=y_test.values.ravel()\n",
    "\n",
    "print(X_train.shape)\n",
    "print(X_valid.shape)\n",
    "print(y_train.shape)\n",
    "print(y_valid.shape)"
   ]
  },
  {
   "cell_type": "code",
   "execution_count": 29,
   "metadata": {},
   "outputs": [],
   "source": [
    "def modelfit(alg, train_data,train_labels, predictors,performCV=True, printFeatureImportance=True, cv_folds=5):\n",
    "    #Fit the algorithm on the data\n",
    "    alg.fit(train_data,train_labels)\n",
    "        \n",
    "    #Predict training set:\n",
    "    train_predictions = alg.predict(train_data)\n",
    "    train_predprob = alg.predict_proba(train_data)[:,1]\n",
    "    \n",
    "    #Perform cross-validation:\n",
    "    if performCV:\n",
    "        cv_score = cross_validation.cross_val_score(alg,train_data,train_labels,cv=cv_folds, scoring='roc_auc')\n",
    "    \n",
    "    #Print model report:\n",
    "    print (\"\\nModel Report\")\n",
    "    print (\"Accuracy : %.4g\" % metrics.accuracy_score(train_labels, train_predictions))\n",
    "    print (\"AUC Score (Train): %f\" % metrics.roc_auc_score(train_labels, train_predprob))\n",
    "    \n",
    "    if performCV:\n",
    "        print (\"CV Score : Mean - %.7g | Std - %.7g | Min - %.7g | Max - %.7g\" % (np.mean(cv_score),np.std(cv_score),np.min(cv_score),np.max(cv_score)))\n",
    "        \n",
    "    #Print Feature Importance:\n",
    "    if printFeatureImportance:\n",
    "        feat_imp = pd.Series(alg.feature_importances_,predictors).sort_values(ascending=False)\n",
    "        feat_imp.plot(kind='bar', title='Feature Importances')\n",
    "        plt.ylabel('Feature Importance Score')\n",
    "    #print (train_predictions)     "
   ]
  },
  {
   "cell_type": "code",
   "execution_count": 30,
   "metadata": {
    "scrolled": false
   },
   "outputs": [
    {
     "name": "stdout",
     "output_type": "stream",
     "text": [
      "\n",
      "Model Report\n",
      "Accuracy : 1\n",
      "AUC Score (Train): 1.000000\n",
      "CV Score : Mean - 0.7040994 | Std - 0.06791092 | Min - 0.5709877 | Max - 0.7521368\n"
     ]
    },
    {
     "data": {
      "image/png": "[encoded data removed]",
      "text/plain": [
       "<Figure size 1152x576 with 1 Axes>"
      ]
     },
     "metadata": {},
     "output_type": "display_data"
    }
   ],
   "source": [
    "#Choose all predictors except target & IDcols\n",
    "predictors = [x for x in X.columns]\n",
    "gbm0 = GradientBoostingClassifier(random_state=10)\n",
    "modelfit(gbm0,X,y,predictors )\n"
   ]
  },
  {
   "cell_type": "code",
   "execution_count": 31,
   "metadata": {},
   "outputs": [
    {
     "data": {
      "text/plain": [
       "GridSearchCV(cv=5, error_score='raise',\n",
       "       estimator=GradientBoostingClassifier(criterion='friedman_mse', init=None,\n",
       "              learning_rate=0.2, loss='deviance', max_depth=5,\n",
       "              max_features='sqrt', max_leaf_nodes=None,\n",
       "              min_impurity_decrease=0.0, min_impurity_split=None,\n",
       "              min_samples_leaf=25, min_samples_split=2,\n",
       "              min_weight_fraction_leaf=0.0, n_estimators=100,\n",
       "              presort='auto', random_state=10, subsample=0.8, verbose=0,\n",
       "              warm_start=False),\n",
       "       fit_params={}, iid=False, n_jobs=4,\n",
       "       param_grid={'n_estimators': array([ 10,  20,  30,  40,  50,  60,  70,  80,  90, 100, 110, 120, 130,\n",
       "       140, 150, 160, 170, 180, 190, 200, 210, 220, 230, 240, 250, 260,\n",
       "       270, 280, 290, 300, 310, 320, 330, 340, 350, 360, 370, 380, 390,\n",
       "       400, 410, 420, 430, 440, 450, 460, 470, 480, 490])},\n",
       "       pre_dispatch='2*n_jobs', refit=True, scoring='roc_auc', verbose=0)"
      ]
     },
     "execution_count": 31,
     "metadata": {},
     "output_type": "execute_result"
    }
   ],
   "source": [
    "#Choose all predictors except target & IDcols\n",
    "predictors = [x for x in X.columns]\n",
    "param_test1 = {'n_estimators':np.arange(10,500,10)}\n",
    "gsearch1 = GridSearchCV(estimator = GradientBoostingClassifier(learning_rate=0.2, min_samples_split=2,min_samples_leaf=25,max_depth=5,max_features='sqrt',subsample=0.8,random_state=10), \n",
    "param_grid = param_test1, scoring='roc_auc',n_jobs=4,iid=False, cv=5)\n",
    "gsearch1.fit(X,y)"
   ]
  },
  {
   "cell_type": "code",
   "execution_count": 10,
   "metadata": {},
   "outputs": [
    {
     "data": {
      "text/plain": [
       "([mean: 0.68674, std: 0.06260, params: {'n_estimators': 10},\n",
       "  mean: 0.70527, std: 0.07088, params: {'n_estimators': 20},\n",
       "  mean: 0.70752, std: 0.05888, params: {'n_estimators': 30},\n",
       "  mean: 0.70916, std: 0.06462, params: {'n_estimators': 40},\n",
       "  mean: 0.70826, std: 0.05907, params: {'n_estimators': 50},\n",
       "  mean: 0.71598, std: 0.06186, params: {'n_estimators': 60},\n",
       "  mean: 0.71502, std: 0.06635, params: {'n_estimators': 70},\n",
       "  mean: 0.72196, std: 0.06813, params: {'n_estimators': 80},\n",
       "  mean: 0.72050, std: 0.06524, params: {'n_estimators': 90},\n",
       "  mean: 0.72214, std: 0.06314, params: {'n_estimators': 100},\n",
       "  mean: 0.72365, std: 0.06458, params: {'n_estimators': 110},\n",
       "  mean: 0.72489, std: 0.06364, params: {'n_estimators': 120},\n",
       "  mean: 0.72781, std: 0.05890, params: {'n_estimators': 130},\n",
       "  mean: 0.72727, std: 0.05981, params: {'n_estimators': 140},\n",
       "  mean: 0.72996, std: 0.05996, params: {'n_estimators': 150},\n",
       "  mean: 0.72953, std: 0.05761, params: {'n_estimators': 160},\n",
       "  mean: 0.72784, std: 0.05851, params: {'n_estimators': 170},\n",
       "  mean: 0.73140, std: 0.05948, params: {'n_estimators': 180},\n",
       "  mean: 0.72914, std: 0.06265, params: {'n_estimators': 190},\n",
       "  mean: 0.73122, std: 0.06152, params: {'n_estimators': 200},\n",
       "  mean: 0.73080, std: 0.05975, params: {'n_estimators': 210},\n",
       "  mean: 0.73272, std: 0.06117, params: {'n_estimators': 220},\n",
       "  mean: 0.73502, std: 0.06060, params: {'n_estimators': 230},\n",
       "  mean: 0.73441, std: 0.06154, params: {'n_estimators': 240},\n",
       "  mean: 0.73674, std: 0.06102, params: {'n_estimators': 250},\n",
       "  mean: 0.73594, std: 0.06248, params: {'n_estimators': 260},\n",
       "  mean: 0.73697, std: 0.06264, params: {'n_estimators': 270},\n",
       "  mean: 0.73764, std: 0.06386, params: {'n_estimators': 280},\n",
       "  mean: 0.73700, std: 0.06311, params: {'n_estimators': 290},\n",
       "  mean: 0.73575, std: 0.06482, params: {'n_estimators': 300},\n",
       "  mean: 0.73616, std: 0.06423, params: {'n_estimators': 310},\n",
       "  mean: 0.73803, std: 0.06476, params: {'n_estimators': 320},\n",
       "  mean: 0.73826, std: 0.06526, params: {'n_estimators': 330},\n",
       "  mean: 0.74015, std: 0.06517, params: {'n_estimators': 340},\n",
       "  mean: 0.73951, std: 0.06557, params: {'n_estimators': 350},\n",
       "  mean: 0.74162, std: 0.06480, params: {'n_estimators': 360},\n",
       "  mean: 0.74016, std: 0.06494, params: {'n_estimators': 370},\n",
       "  mean: 0.74268, std: 0.06394, params: {'n_estimators': 380},\n",
       "  mean: 0.74162, std: 0.06458, params: {'n_estimators': 390},\n",
       "  mean: 0.74306, std: 0.06410, params: {'n_estimators': 400},\n",
       "  mean: 0.74346, std: 0.06321, params: {'n_estimators': 410},\n",
       "  mean: 0.74327, std: 0.06282, params: {'n_estimators': 420},\n",
       "  mean: 0.74452, std: 0.06307, params: {'n_estimators': 430},\n",
       "  mean: 0.74330, std: 0.06384, params: {'n_estimators': 440},\n",
       "  mean: 0.74434, std: 0.06421, params: {'n_estimators': 450},\n",
       "  mean: 0.74500, std: 0.06370, params: {'n_estimators': 460},\n",
       "  mean: 0.74580, std: 0.06249, params: {'n_estimators': 470},\n",
       "  mean: 0.74437, std: 0.06443, params: {'n_estimators': 480},\n",
       "  mean: 0.74666, std: 0.06406, params: {'n_estimators': 490},\n",
       "  mean: 0.74501, std: 0.06516, params: {'n_estimators': 500},\n",
       "  mean: 0.74520, std: 0.06393, params: {'n_estimators': 510},\n",
       "  mean: 0.74480, std: 0.06509, params: {'n_estimators': 520},\n",
       "  mean: 0.74588, std: 0.06640, params: {'n_estimators': 530},\n",
       "  mean: 0.74629, std: 0.06556, params: {'n_estimators': 540},\n",
       "  mean: 0.74628, std: 0.06627, params: {'n_estimators': 550},\n",
       "  mean: 0.74588, std: 0.06678, params: {'n_estimators': 560},\n",
       "  mean: 0.74610, std: 0.06714, params: {'n_estimators': 570},\n",
       "  mean: 0.74676, std: 0.06867, params: {'n_estimators': 580},\n",
       "  mean: 0.74526, std: 0.06688, params: {'n_estimators': 590},\n",
       "  mean: 0.74485, std: 0.06631, params: {'n_estimators': 600},\n",
       "  mean: 0.74485, std: 0.06539, params: {'n_estimators': 610},\n",
       "  mean: 0.74463, std: 0.06592, params: {'n_estimators': 620},\n",
       "  mean: 0.74609, std: 0.06563, params: {'n_estimators': 630},\n",
       "  mean: 0.74443, std: 0.06583, params: {'n_estimators': 640},\n",
       "  mean: 0.74465, std: 0.06635, params: {'n_estimators': 650},\n",
       "  mean: 0.74672, std: 0.06664, params: {'n_estimators': 660},\n",
       "  mean: 0.74630, std: 0.06690, params: {'n_estimators': 670},\n",
       "  mean: 0.74440, std: 0.06643, params: {'n_estimators': 680},\n",
       "  mean: 0.74398, std: 0.06626, params: {'n_estimators': 690},\n",
       "  mean: 0.74669, std: 0.06555, params: {'n_estimators': 700},\n",
       "  mean: 0.74670, std: 0.06585, params: {'n_estimators': 710},\n",
       "  mean: 0.74755, std: 0.06585, params: {'n_estimators': 720},\n",
       "  mean: 0.74546, std: 0.06667, params: {'n_estimators': 730},\n",
       "  mean: 0.74585, std: 0.06554, params: {'n_estimators': 740},\n",
       "  mean: 0.74604, std: 0.06340, params: {'n_estimators': 750},\n",
       "  mean: 0.74624, std: 0.06276, params: {'n_estimators': 760},\n",
       "  mean: 0.74687, std: 0.06315, params: {'n_estimators': 770},\n",
       "  mean: 0.74707, std: 0.06348, params: {'n_estimators': 780},\n",
       "  mean: 0.74684, std: 0.06276, params: {'n_estimators': 790},\n",
       "  mean: 0.74832, std: 0.06384, params: {'n_estimators': 800},\n",
       "  mean: 0.74770, std: 0.06409, params: {'n_estimators': 810},\n",
       "  mean: 0.74791, std: 0.06495, params: {'n_estimators': 820},\n",
       "  mean: 0.74792, std: 0.06436, params: {'n_estimators': 830},\n",
       "  mean: 0.74769, std: 0.06318, params: {'n_estimators': 840},\n",
       "  mean: 0.74831, std: 0.06288, params: {'n_estimators': 850},\n",
       "  mean: 0.74707, std: 0.06409, params: {'n_estimators': 860},\n",
       "  mean: 0.74752, std: 0.06566, params: {'n_estimators': 870},\n",
       "  mean: 0.74854, std: 0.06513, params: {'n_estimators': 880},\n",
       "  mean: 0.74853, std: 0.06470, params: {'n_estimators': 890},\n",
       "  mean: 0.74812, std: 0.06429, params: {'n_estimators': 900},\n",
       "  mean: 0.74770, std: 0.06383, params: {'n_estimators': 910},\n",
       "  mean: 0.74599, std: 0.06271, params: {'n_estimators': 920},\n",
       "  mean: 0.74556, std: 0.06274, params: {'n_estimators': 930},\n",
       "  mean: 0.74578, std: 0.06360, params: {'n_estimators': 940},\n",
       "  mean: 0.74599, std: 0.06290, params: {'n_estimators': 950},\n",
       "  mean: 0.74726, std: 0.06343, params: {'n_estimators': 960},\n",
       "  mean: 0.74663, std: 0.06290, params: {'n_estimators': 970},\n",
       "  mean: 0.74409, std: 0.06173, params: {'n_estimators': 980},\n",
       "  mean: 0.74535, std: 0.06232, params: {'n_estimators': 990}],\n",
       " {'n_estimators': 880},\n",
       " 0.7485359290914847)"
      ]
     },
     "execution_count": 10,
     "metadata": {},
     "output_type": "execute_result"
    }
   ],
   "source": [
    "gsearch1.grid_scores_, gsearch1.best_params_, gsearch1.best_score_"
   ]
  },
  {
   "cell_type": "code",
   "execution_count": 13,
   "metadata": {},
   "outputs": [
    {
     "data": {
      "text/plain": [
       "([mean: 0.74089, std: 0.05845, params: {'max_depth': 1},\n",
       "  mean: 0.74898, std: 0.06472, params: {'max_depth': 2},\n",
       "  mean: 0.75104, std: 0.06116, params: {'max_depth': 3},\n",
       "  mean: 0.74988, std: 0.06886, params: {'max_depth': 4},\n",
       "  mean: 0.74854, std: 0.06513, params: {'max_depth': 5},\n",
       "  mean: 0.74731, std: 0.06604, params: {'max_depth': 6},\n",
       "  mean: 0.74731, std: 0.06604, params: {'max_depth': 7},\n",
       "  mean: 0.74731, std: 0.06604, params: {'max_depth': 8},\n",
       "  mean: 0.74731, std: 0.06604, params: {'max_depth': 9},\n",
       "  mean: 0.74731, std: 0.06604, params: {'max_depth': 10},\n",
       "  mean: 0.74731, std: 0.06604, params: {'max_depth': 11},\n",
       "  mean: 0.74731, std: 0.06604, params: {'max_depth': 12},\n",
       "  mean: 0.74731, std: 0.06604, params: {'max_depth': 13},\n",
       "  mean: 0.74731, std: 0.06604, params: {'max_depth': 14},\n",
       "  mean: 0.74731, std: 0.06604, params: {'max_depth': 15},\n",
       "  mean: 0.74731, std: 0.06604, params: {'max_depth': 16},\n",
       "  mean: 0.74731, std: 0.06604, params: {'max_depth': 17},\n",
       "  mean: 0.74731, std: 0.06604, params: {'max_depth': 18},\n",
       "  mean: 0.74731, std: 0.06604, params: {'max_depth': 19},\n",
       "  mean: 0.74731, std: 0.06604, params: {'max_depth': 20},\n",
       "  mean: 0.74731, std: 0.06604, params: {'max_depth': 21},\n",
       "  mean: 0.74731, std: 0.06604, params: {'max_depth': 22},\n",
       "  mean: 0.74731, std: 0.06604, params: {'max_depth': 23},\n",
       "  mean: 0.74731, std: 0.06604, params: {'max_depth': 24},\n",
       "  mean: 0.74731, std: 0.06604, params: {'max_depth': 25},\n",
       "  mean: 0.74731, std: 0.06604, params: {'max_depth': 26},\n",
       "  mean: 0.74731, std: 0.06604, params: {'max_depth': 27},\n",
       "  mean: 0.74731, std: 0.06604, params: {'max_depth': 28},\n",
       "  mean: 0.74731, std: 0.06604, params: {'max_depth': 29},\n",
       "  mean: 0.74731, std: 0.06604, params: {'max_depth': 30},\n",
       "  mean: 0.74731, std: 0.06604, params: {'max_depth': 31},\n",
       "  mean: 0.74731, std: 0.06604, params: {'max_depth': 32},\n",
       "  mean: 0.74731, std: 0.06604, params: {'max_depth': 33},\n",
       "  mean: 0.74731, std: 0.06604, params: {'max_depth': 34},\n",
       "  mean: 0.74731, std: 0.06604, params: {'max_depth': 35},\n",
       "  mean: 0.74731, std: 0.06604, params: {'max_depth': 36},\n",
       "  mean: 0.74731, std: 0.06604, params: {'max_depth': 37},\n",
       "  mean: 0.74731, std: 0.06604, params: {'max_depth': 38},\n",
       "  mean: 0.74731, std: 0.06604, params: {'max_depth': 39},\n",
       "  mean: 0.74731, std: 0.06604, params: {'max_depth': 40},\n",
       "  mean: 0.74731, std: 0.06604, params: {'max_depth': 41},\n",
       "  mean: 0.74731, std: 0.06604, params: {'max_depth': 42},\n",
       "  mean: 0.74731, std: 0.06604, params: {'max_depth': 43},\n",
       "  mean: 0.74731, std: 0.06604, params: {'max_depth': 44},\n",
       "  mean: 0.74731, std: 0.06604, params: {'max_depth': 45},\n",
       "  mean: 0.74731, std: 0.06604, params: {'max_depth': 46},\n",
       "  mean: 0.74731, std: 0.06604, params: {'max_depth': 47},\n",
       "  mean: 0.74731, std: 0.06604, params: {'max_depth': 48},\n",
       "  mean: 0.74731, std: 0.06604, params: {'max_depth': 49},\n",
       "  mean: 0.74731, std: 0.06604, params: {'max_depth': 50},\n",
       "  mean: 0.74731, std: 0.06604, params: {'max_depth': 51},\n",
       "  mean: 0.74731, std: 0.06604, params: {'max_depth': 52},\n",
       "  mean: 0.74731, std: 0.06604, params: {'max_depth': 53},\n",
       "  mean: 0.74731, std: 0.06604, params: {'max_depth': 54},\n",
       "  mean: 0.74731, std: 0.06604, params: {'max_depth': 55},\n",
       "  mean: 0.74731, std: 0.06604, params: {'max_depth': 56},\n",
       "  mean: 0.74731, std: 0.06604, params: {'max_depth': 57},\n",
       "  mean: 0.74731, std: 0.06604, params: {'max_depth': 58},\n",
       "  mean: 0.74731, std: 0.06604, params: {'max_depth': 59},\n",
       "  mean: 0.74731, std: 0.06604, params: {'max_depth': 60},\n",
       "  mean: 0.74731, std: 0.06604, params: {'max_depth': 61},\n",
       "  mean: 0.74731, std: 0.06604, params: {'max_depth': 62},\n",
       "  mean: 0.74731, std: 0.06604, params: {'max_depth': 63},\n",
       "  mean: 0.74731, std: 0.06604, params: {'max_depth': 64},\n",
       "  mean: 0.74731, std: 0.06604, params: {'max_depth': 65},\n",
       "  mean: 0.74731, std: 0.06604, params: {'max_depth': 66},\n",
       "  mean: 0.74731, std: 0.06604, params: {'max_depth': 67},\n",
       "  mean: 0.74731, std: 0.06604, params: {'max_depth': 68},\n",
       "  mean: 0.74731, std: 0.06604, params: {'max_depth': 69},\n",
       "  mean: 0.74731, std: 0.06604, params: {'max_depth': 70},\n",
       "  mean: 0.74731, std: 0.06604, params: {'max_depth': 71},\n",
       "  mean: 0.74731, std: 0.06604, params: {'max_depth': 72},\n",
       "  mean: 0.74731, std: 0.06604, params: {'max_depth': 73},\n",
       "  mean: 0.74731, std: 0.06604, params: {'max_depth': 74},\n",
       "  mean: 0.74731, std: 0.06604, params: {'max_depth': 75},\n",
       "  mean: 0.74731, std: 0.06604, params: {'max_depth': 76},\n",
       "  mean: 0.74731, std: 0.06604, params: {'max_depth': 77},\n",
       "  mean: 0.74731, std: 0.06604, params: {'max_depth': 78},\n",
       "  mean: 0.74731, std: 0.06604, params: {'max_depth': 79},\n",
       "  mean: 0.74731, std: 0.06604, params: {'max_depth': 80},\n",
       "  mean: 0.74731, std: 0.06604, params: {'max_depth': 81},\n",
       "  mean: 0.74731, std: 0.06604, params: {'max_depth': 82},\n",
       "  mean: 0.74731, std: 0.06604, params: {'max_depth': 83},\n",
       "  mean: 0.74731, std: 0.06604, params: {'max_depth': 84},\n",
       "  mean: 0.74731, std: 0.06604, params: {'max_depth': 85},\n",
       "  mean: 0.74731, std: 0.06604, params: {'max_depth': 86},\n",
       "  mean: 0.74731, std: 0.06604, params: {'max_depth': 87},\n",
       "  mean: 0.74731, std: 0.06604, params: {'max_depth': 88},\n",
       "  mean: 0.74731, std: 0.06604, params: {'max_depth': 89},\n",
       "  mean: 0.74731, std: 0.06604, params: {'max_depth': 90},\n",
       "  mean: 0.74731, std: 0.06604, params: {'max_depth': 91},\n",
       "  mean: 0.74731, std: 0.06604, params: {'max_depth': 92},\n",
       "  mean: 0.74731, std: 0.06604, params: {'max_depth': 93},\n",
       "  mean: 0.74731, std: 0.06604, params: {'max_depth': 94},\n",
       "  mean: 0.74731, std: 0.06604, params: {'max_depth': 95},\n",
       "  mean: 0.74731, std: 0.06604, params: {'max_depth': 96},\n",
       "  mean: 0.74731, std: 0.06604, params: {'max_depth': 97},\n",
       "  mean: 0.74731, std: 0.06604, params: {'max_depth': 98},\n",
       "  mean: 0.74731, std: 0.06604, params: {'max_depth': 99}],\n",
       " {'max_depth': 3},\n",
       " 0.7510367204811649)"
      ]
     },
     "execution_count": 13,
     "metadata": {},
     "output_type": "execute_result"
    }
   ],
   "source": [
    "#param_test2 = {'max_depth':np.arange(5,16,2), 'min_samples_split':np.arange(2,11,1)}\n",
    "param_test2 = {'max_depth':np.arange(1,100,1)}\n",
    "gsearch2 = GridSearchCV(estimator = GradientBoostingClassifier(learning_rate=0.01, n_estimators=880, max_features='sqrt', subsample=0.8, min_samples_split=2,min_samples_leaf=25,random_state=10), \n",
    "param_grid = param_test2, scoring='roc_auc',n_jobs=4,iid=False, cv=5)\n",
    "gsearch2.fit(X,y)\n",
    "gsearch2.grid_scores_, gsearch2.best_params_, gsearch2.best_score_"
   ]
  },
  {
   "cell_type": "code",
   "execution_count": null,
   "metadata": {},
   "outputs": [],
   "source": [
    "modelfit(gsearch2.best_estimator_, X,y,predictors)"
   ]
  },
  {
   "cell_type": "code",
   "execution_count": 15,
   "metadata": {},
   "outputs": [
    {
     "data": {
      "text/plain": [
       "({'min_samples_leaf': 38, 'min_samples_split': 2}, 0.7542260208926875)"
      ]
     },
     "execution_count": 15,
     "metadata": {},
     "output_type": "execute_result"
    }
   ],
   "source": [
    "param_test3 = {'min_samples_split':np.arange(2,5,1), 'min_samples_leaf':np.arange(1,60,1)}\n",
    "gsearch3 = GridSearchCV(estimator = GradientBoostingClassifier(learning_rate=0.01, n_estimators=880,max_depth=3,max_features='sqrt', subsample=0.8, random_state=10), \n",
    "param_grid = param_test3, scoring='roc_auc',n_jobs=4,iid=False, cv=5)\n",
    "gsearch3.fit(X,y)\n",
    "#gsearch3.grid_scores_, gsearch3.best_params_, gsearch3.best_score_\n",
    "gsearch3.best_params_, gsearch3.best_score_\n"
   ]
  },
  {
   "cell_type": "code",
   "execution_count": 16,
   "metadata": {},
   "outputs": [
    {
     "name": "stdout",
     "output_type": "stream",
     "text": [
      "\n",
      "Model Report\n",
      "Accuracy : 0.9521\n",
      "AUC Score (Train): 0.992022\n",
      "CV Score : Mean - 0.7510367 | Std - 0.06116381 | Min - 0.6450617 | Max - 0.832265\n"
     ]
    },
    {
     "data": {
      "image/png": "[encoded data removed]",
      "text/plain": [
       "<Figure size 432x288 with 1 Axes>"
      ]
     },
     "metadata": {},
     "output_type": "display_data"
    }
   ],
   "source": [
    "modelfit(gsearch2.best_estimator_, X,y,predictors)"
   ]
  },
  {
   "cell_type": "code",
   "execution_count": 18,
   "metadata": {},
   "outputs": [
    {
     "data": {
      "text/plain": [
       "({'max_features': 7}, 0.7542260208926875)"
      ]
     },
     "execution_count": 18,
     "metadata": {},
     "output_type": "execute_result"
    }
   ],
   "source": [
    "param_test4 = {'max_features':np.arange(1,59,1)}\n",
    "gsearch4 = GridSearchCV(estimator = GradientBoostingClassifier(learning_rate=0.01, n_estimators=880,max_depth=3, min_samples_split=2, min_samples_leaf=38, subsample=0.8, random_state=10),\n",
    "param_grid = param_test4, scoring='roc_auc',n_jobs=4,iid=False, cv=5)\n",
    "gsearch4.fit(X,y)\n",
    "#gsearch4.grid_scores_, gsearch4.best_params_, gsearch4.best_score_\n",
    "gsearch4.best_params_, gsearch4.best_score_"
   ]
  },
  {
   "cell_type": "code",
   "execution_count": null,
   "metadata": {},
   "outputs": [],
   "source": [
    "modelfit(gsearch2.best_estimator_, X,y,predictors)"
   ]
  },
  {
   "cell_type": "code",
   "execution_count": 19,
   "metadata": {},
   "outputs": [
    {
     "data": {
      "text/plain": [
       "([mean: 0.74052, std: 0.06389, params: {'subsample': 0.6},\n",
       "  mean: 0.74189, std: 0.06642, params: {'subsample': 0.7},\n",
       "  mean: 0.75416, std: 0.06110, params: {'subsample': 0.75},\n",
       "  mean: 0.75423, std: 0.05854, params: {'subsample': 0.8},\n",
       "  mean: 0.74535, std: 0.05790, params: {'subsample': 0.85},\n",
       "  mean: 0.75021, std: 0.05869, params: {'subsample': 0.9},\n",
       "  mean: 0.74625, std: 0.05972, params: {'subsample': 0.95}],\n",
       " {'subsample': 0.8},\n",
       " 0.7542260208926875)"
      ]
     },
     "execution_count": 19,
     "metadata": {},
     "output_type": "execute_result"
    }
   ],
   "source": [
    "param_test5 = {'subsample':[0.6,0.7,0.75,0.8,0.85,0.9,0.95]}\n",
    "gsearch5 = GridSearchCV(estimator = GradientBoostingClassifier(learning_rate=0.01, n_estimators=880,max_depth=3, min_samples_split=2, min_samples_leaf=38, subsample=0.8,max_features=7, random_state=10),\n",
    "param_grid = param_test5, scoring='roc_auc',n_jobs=4,iid=False, cv=5)\n",
    "gsearch5.fit(X,y)\n",
    "gsearch5.grid_scores_, gsearch5.best_params_, gsearch5.best_score_"
   ]
  },
  {
   "cell_type": "code",
   "execution_count": 23,
   "metadata": {},
   "outputs": [
    {
     "name": "stdout",
     "output_type": "stream",
     "text": [
      "Accuracy: 0.703\n",
      "Sensitivity: 0.595\n",
      "Prec: 0.677\n",
      "F1: 0.629\n",
      "AUC: 0.754\n"
     ]
    }
   ],
   "source": [
    "from sklearn.ensemble import GradientBoostingClassifier\n",
    "from sklearn.model_selection import cross_val_score\n",
    "#import pdb\n",
    "#pdb.set_trace()\n",
    "#gbm_tuned_1= GradientBoostingClassifier(criterion='friedman_mse', init=None,\n",
    " #             learning_rate=0.2, n_estimators=80,max_depth=5,min_samples_split=11,min_samples_leaf=4, subsample=0.8, random_state=10, \n",
    "  #                                max_features=7,warm_start=False)\n",
    "gbm_tuned_1= GradientBoostingClassifier(criterion='friedman_mse', init=None,\n",
    "              learning_rate=0.01, n_estimators=880,max_depth=3, min_samples_split=2,min_samples_leaf=38, subsample=0.8, random_state=10, \n",
    "                                  max_features=7,warm_start=False)\n",
    "Acc=cross_val_score(gbm_tuned_1, X, y, scoring='accuracy',\n",
    "          cv=5)\n",
    " \n",
    "print('Accuracy: %.3f' % Acc.mean() )\n",
    "\n",
    "Sen=cross_val_score(gbm_tuned_1, X, y, scoring='recall',\n",
    "          cv=5)\n",
    "Sen.mean()  \n",
    "print('Sensitivity: %.3f' % Sen.mean() )\n",
    "Prec=cross_val_score(gbm_tuned_1, X, y, scoring='precision',\n",
    "          cv=5)\n",
    "Prec.mean()  \n",
    "print('Prec: %.3f' % Prec.mean() )\n",
    "F1=cross_val_score(gbm_tuned_1, X, y, scoring='f1',\n",
    "          cv=5)\n",
    "F1.mean()  \n",
    "print('F1: %.3f' % F1.mean() )\n",
    "AUC=cross_val_score(gbm_tuned_1, X, y, scoring='roc_auc',\n",
    "          cv=5)\n",
    "AUC.mean()  \n",
    "print('AUC: %.3f' % AUC.mean() )"
   ]
  },
  {
   "cell_type": "code",
   "execution_count": null,
   "metadata": {},
   "outputs": [],
   "source": [
    "#'accuracy', 'adjusted_mutual_info_score', 'adjusted_rand_score',\n",
    "#'average_precision', 'completeness_score', 'explained_variance', 'f1', 'f1_macro', \n",
    "#'f1_micro', 'f1_samples', 'f1_weighted', 'fowlkes_mallows_score', 'homogeneity_score',\n",
    "#'mutual_info_score', 'neg_log_loss', 'neg_mean_absolute_error', 'neg_mean_squared_error',\n",
    "#'neg_mean_squared_log_error', 'neg_median_absolute_error', 'normalized_mutual_info_score', 'precision', \n",
    "#'precision_macro', 'precision_micro', 'precision_samples', 'precision_weighted', \n",
    "#'r2', 'recall', 'recall_macro', 'recall_micro', 'recall_samples', 'recall_weighted', 'roc_auc', 'v_measure_score'"
   ]
  },
  {
   "cell_type": "code",
   "execution_count": 24,
   "metadata": {},
   "outputs": [
    {
     "name": "stdout",
     "output_type": "stream",
     "text": [
      "tp: 16.200\n",
      "\n",
      "\n",
      "tn: 27.400\n",
      "\n",
      "\n",
      "fp: 8.600\n",
      "\n",
      "\n",
      "fn: 10.400\n",
      "\n",
      "\n",
      "Specificity: 0.761\n",
      "MCC:0.374\n"
     ]
    }
   ],
   "source": [
    "from sklearn.model_selection import cross_validate\n",
    "from sklearn.metrics import confusion_matrix\n",
    "from sklearn.metrics import make_scorer\n",
    "import math\n",
    "gbm_tuned_1= GradientBoostingClassifier(criterion='friedman_mse', init=None,\n",
    "              learning_rate=0.2, n_estimators=290,max_depth=1, min_samples_split=2,min_samples_leaf=31, subsample=0.8, random_state=10, \n",
    "                                  max_features=7,warm_start=False)\n",
    "def tn(y_true, y_pred): return confusion_matrix(y_true, y_pred)[0, 0]\n",
    "def fp(y_true, y_pred): return confusion_matrix(y_true, y_pred)[0, 1]\n",
    "def fn(y_true, y_pred): return confusion_matrix(y_true, y_pred)[1, 0]\n",
    "def tp(y_true, y_pred): return confusion_matrix(y_true, y_pred)[1, 1]\n",
    "\n",
    "scoring = {'tp': make_scorer(tp), 'tn': make_scorer(tn),\n",
    "           'fp': make_scorer(fp), 'fn': make_scorer(fn)}\n",
    "cv_results = cross_validate(gbm_tuned_1.fit(X, y), X, y,\n",
    "                           scoring=scoring, cv=5)\n",
    "tp=cv_results['test_tp'].mean()\n",
    "fp=cv_results['test_fp'].mean()\n",
    "tn=cv_results['test_tn'].mean()\n",
    "fn=cv_results['test_fn'].mean()\n",
    "print('tp: %.3f' % tp)\n",
    "print('\\n')\n",
    "print('tn: %.3f' % tn)\n",
    "print('\\n')\n",
    "print('fp: %.3f' % fp)\n",
    "print('\\n')\n",
    "print('fn: %.3f' % fn)\n",
    "print('\\n')\n",
    "\n",
    "specificity=tn/(tn+fp)\n",
    "print('Specificity: %.3f' %specificity)\n",
    "\n",
    "MCC= (tp*tn-fp*fn)/(math.sqrt((tp+fp)*(tp+fn)*(tn+fp)*(tn+fn)))\n",
    "print('MCC:%.3f' %MCC)"
   ]
  },
  {
   "cell_type": "code",
   "execution_count": null,
   "metadata": {},
   "outputs": [],
   "source": [
    "    \n",
    "#from sklearn.ensemble import GradientBoostingClassifier\n",
    "#import pdb\n",
    "#pdb.set_trace()\n",
    "#model= GradientBoostingClassifier(criterion='friedman_mse', init=None,\n",
    "#              learning_rate=0.001, loss='deviance', max_depth=5,\n",
    " #              min_samples_leaf=10,min_samples_split=5,\n",
    "  #            n_estimators=20000, presort='auto', random_state=10, subsample=0.8, verbose=0,\n",
    "   #           warm_start=False)\n",
    "\n",
    "#model.fit(X_train, y_train)\n",
    "#model.score(X_valid,y_valid)\n",
    "#y_pred = model.predict(X_test) \n",
    "#gbm_tuned_1.score(X_valid,y_valid)\n",
    "y_pred = gbm_tuned_1.predict(X_valid) \n",
    "gbm_tuned_1.score(X_valid,y_valid)"
   ]
  },
  {
   "cell_type": "code",
   "execution_count": null,
   "metadata": {},
   "outputs": [],
   "source": [
    "from sklearn.metrics import roc_auc_score\n",
    "from sklearn.metrics import roc_curve\n",
    "\n",
    "svm_roc_auc = roc_auc_score(y_valid, y_pred)"
   ]
  },
  {
   "cell_type": "code",
   "execution_count": null,
   "metadata": {},
   "outputs": [],
   "source": [
    "from sklearn.metrics import confusion_matrix \n",
    "print('Accuracy of GTB classifier: {:.2f}'.format(gbm_tuned_1.score(X_valid, y_valid)))\n",
    "print('\\n')\n",
    "confusion_df = pd.DataFrame(confusion_matrix(y_valid,y_pred),\n",
    "             columns=[\"Predicted Class \" + str(class_name) for class_name in [1,0]],\n",
    "             index = [\"Class \" + str(class_name) for class_name in [1,0]])\n",
    "\n",
    "print('Confusion matrix : \\n',confusion_df.T)\n",
    "print('\\n')\n",
    "\n",
    "\n",
    "cm1 = confusion_matrix(y_valid, y_pred).T\n",
    "print('\\n')\n",
    "total1=sum(sum(cm1))\n",
    "print(cm1)\n",
    "#####from confusion matrix calculate sensitivity specificity\n",
    "\n",
    "\n",
    "sensitivity1 = cm1[0,0]/(cm1[0,0]+cm1[1,0])\n",
    "print('Sensitivity :', sensitivity1 )\n",
    "print('\\n')\n",
    "specificity1 = cm1[1,1]/(cm1[0,1]+cm1[1,1])\n",
    "print('Specificity :', specificity1)\n",
    "print('\\n')\n",
    "precision = cm1[0,0]/(cm1[0,0]+cm1[0,1])\n",
    "print('precision :', precision)\n",
    "print('\\n')\n",
    "#from sklearn.metrics import precision_score\n",
    "#print(\"Precision score: {}\".format(precision_score(y_valid,y_pred)))\n",
    "#print('\\n')\n",
    "from sklearn.metrics import f1_score\n",
    "print(\"F1 Score: {}\".format(f1_score(y_valid,y_pred)))\n",
    "print('\\n')\n",
    "from sklearn.metrics import matthews_corrcoef\n",
    "print(\"Matthews Correlation Coefficient: {}\".format(matthews_corrcoef(y_valid, y_pred)))\n",
    "print('\\n')\n",
    "##Area under Curve-AUC\n",
    "auc = roc_auc_score(y_valid, gbm_tuned_1.predict_proba(X_valid)[:,1])\n",
    "print('AUC: %.3f' % auc)\n",
    "print('\\n')"
   ]
  },
  {
   "cell_type": "code",
   "execution_count": null,
   "metadata": {},
   "outputs": [],
   "source": [
    "predictors = [x for x in X.columns]\n",
    "#gbm_tuned_1 = GradientBoostingClassifier(learning_rate=0.2, n_estimators=40, max_features=55, subsample=0.7,max_depth=5,min_samples_split=12,min_samples_leaf=5, random_state=10,warm_start=False)\n",
    "gbm_tuned_1= GradientBoostingClassifier(criterion='friedman_mse', init=None,\n",
    "              learning_rate=0.02, n_estimators=290,max_depth=1, min_samples_split=2,min_samples_leaf=31, subsample=0.9, random_state=10, \n",
    "                                  max_features=7,warm_start=False)\n",
    "\n",
    "\n",
    "\n",
    "\n",
    "gbm_tuned_1.fit(X,y)\n",
    "\n",
    "\n",
    "y_test_pred = gbm_tuned_1.predict(X_test) \n",
    "svm_roc_auc = roc_auc_score(y_test, y_test_pred)"
   ]
  },
  {
   "cell_type": "code",
   "execution_count": null,
   "metadata": {},
   "outputs": [],
   "source": [
    "from sklearn.metrics import confusion_matrix \n",
    "print('Accuracy of GTB classifier: {:.2f}'.format(gbm_tuned_1.score(X_test, y_test)))\n",
    "print('\\n')\n",
    "confusion_df = pd.DataFrame(confusion_matrix(y_test,y_test_pred),\n",
    "             columns=[\"Predicted Class \" + str(class_name) for class_name in [1,0]],\n",
    "             index = [\"Class \" + str(class_name) for class_name in [1,0]])\n",
    "\n",
    "print('Confusion matrix : \\n',confusion_df.T)\n",
    "print('\\n')\n",
    "\n",
    "\n",
    "cm1 = confusion_matrix(y_test, y_test_pred).T\n",
    "print('\\n')\n",
    "total1=sum(sum(cm1))\n",
    "print(cm1)\n",
    "#####from confusion matrix calculate sensitivity specificity\n",
    "\n",
    "\n",
    "sensitivity1 = cm1[0,0]/(cm1[0,0]+cm1[1,0])\n",
    "print('Sensitivity :', sensitivity1 )\n",
    "print('\\n')\n",
    "specificity1 = cm1[1,1]/(cm1[0,1]+cm1[1,1])\n",
    "print('Specificity :', specificity1)\n",
    "print('\\n')\n",
    "precision = cm1[0,0]/(cm1[0,0]+cm1[0,1])\n",
    "print('precision :', precision)\n",
    "print('\\n')\n",
    "#from sklearn.metrics import precision_score\n",
    "#print(\"Precision score: {}\".format(precision_score(y_valid,y_pred)))\n",
    "#print('\\n')\n",
    "from sklearn.metrics import f1_score\n",
    "print(\"F1 Score: {}\".format(f1_score(y_test,y_test_pred)))\n",
    "print('\\n')\n",
    "from sklearn.metrics import matthews_corrcoef\n",
    "print(\"Matthews Correlation Coefficient: {}\".format(matthews_corrcoef(y_test, y_test_pred)))\n",
    "print('\\n')\n",
    "##Area under Curve-AUC\n",
    "auc = roc_auc_score(y_test, gbm_tuned_1.predict_proba(X_test)[:,1])\n",
    "print('AUC: %.3f' % auc)\n",
    "print('\\n')"
   ]
  },
  {
   "cell_type": "code",
   "execution_count": null,
   "metadata": {},
   "outputs": [],
   "source": []
  },
  {
   "cell_type": "code",
   "execution_count": null,
   "metadata": {},
   "outputs": [],
   "source": []
  }
 ],
 "metadata": {
  "kernelspec": {
   "display_name": "Python 3",
   "language": "python",
   "name": "python3"
  },
  "language_info": {
   "codemirror_mode": {
    "name": "ipython",
    "version": 3
   },
   "file_extension": ".py",
   "mimetype": "text/x-python",
   "name": "python",
   "nbconvert_exporter": "python",
   "pygments_lexer": "ipython3",
   "version": "3.6.5"
  }
 },
 "nbformat": 4,
 "nbformat_minor": 2
}
