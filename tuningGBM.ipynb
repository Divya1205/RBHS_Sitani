{
 "cells": [
  {
   "cell_type": "code",
   "execution_count": 1,
   "metadata": {},
   "outputs": [
    {
     "name": "stderr",
     "output_type": "stream",
     "text": [
      "/anaconda3/lib/python3.6/site-packages/sklearn/cross_validation.py:41: DeprecationWarning: This module was deprecated in version 0.18 in favor of the model_selection module into which all the refactored classes and functions are moved. Also note that the interface of the new CV iterators are different from that of this module. This module will be removed in 0.20.\n",
      "  \"This module will be removed in 0.20.\", DeprecationWarning)\n",
      "/anaconda3/lib/python3.6/site-packages/sklearn/grid_search.py:42: DeprecationWarning: This module was deprecated in version 0.18 in favor of the model_selection module into which all the refactored classes and functions are moved. This module will be removed in 0.20.\n",
      "  DeprecationWarning)\n"
     ]
    }
   ],
   "source": [
    "\n",
    "#Import libraries:\n",
    "import pandas as pd\n",
    "import numpy as np\n",
    "import os\n",
    "from sklearn.ensemble import GradientBoostingClassifier  #GBM algorithm\n",
    "from sklearn import cross_validation, metrics   #Additional scklearn functions\n",
    "from sklearn.grid_search import GridSearchCV   #Perforing grid search\n",
    "\n",
    "import matplotlib.pylab as plt\n",
    "%matplotlib inline\n",
    "from matplotlib.pylab import rcParams\n",
    "rcParams['figure.figsize'] = (16, 8)\n",
    "import matlab.engine\n"
   ]
  },
  {
   "cell_type": "code",
   "execution_count": 2,
   "metadata": {},
   "outputs": [
    {
     "data": {
      "text/plain": [
       "'/Users/sitani/Desktop/CS_final_codes/workonhotspots/FinalCodesForPublication'"
      ]
     },
     "execution_count": 2,
     "metadata": {},
     "output_type": "execute_result"
    }
   ],
   "source": [
    "os.getcwd()\n",
    "os.chdir('/Users/sitani/Desktop/CS_final_codes/workonhotspots/')\n",
    "eng = matlab.engine.start_matlab()\n",
    "eng.reading_hotspot2Data_v3(nargout=0)\n",
    "os.chdir('/Users/sitani/Desktop/CS_final_codes/workonhotspots/FinalCodesForPublication/')\n",
    "os.getcwd()"
   ]
  },
  {
   "cell_type": "code",
   "execution_count": 3,
   "metadata": {},
   "outputs": [],
   "source": [
    "eng.quit()"
   ]
  },
  {
   "cell_type": "code",
   "execution_count": 4,
   "metadata": {},
   "outputs": [
    {
     "name": "stdout",
     "output_type": "stream",
     "text": [
      "(250, 58)\n",
      "(63, 58)\n",
      "(250,)\n",
      "(63,)\n"
     ]
    }
   ],
   "source": [
    "X=pd.read_csv('Atrain_whole.csv',header=None)\n",
    "y=pd.read_csv('label_whole.csv',header=None)\n",
    "\n",
    "X_train = pd.read_csv('Atrain2.csv',header=None)\n",
    "X_valid = pd.read_csv('Avalid2.csv',header=None)\n",
    "\n",
    "y_train=pd.read_csv('label_train2.csv',header=None)\n",
    "y_valid=pd.read_csv('label_valid2.csv',header=None)\n",
    "\n",
    "X_test=pd.read_csv('Atest2.csv',header=None)\n",
    "y_test=pd.read_csv('label_test2.csv',header=None)\n",
    "\n",
    "X_train=X_train.T#transpose\n",
    "X_valid=X_valid.T\n",
    "X=X.T\n",
    "X_test=X_test.T\n",
    "\n",
    "y_train=y_train.values.ravel()\n",
    "y_valid=y_valid.values.ravel()\n",
    "y=y.values.ravel()\n",
    "y_test=y_test.values.ravel()\n",
    "\n",
    "print(X_train.shape)\n",
    "print(X_valid.shape)\n",
    "print(y_train.shape)\n",
    "print(y_valid.shape)"
   ]
  },
  {
   "cell_type": "code",
   "execution_count": 5,
   "metadata": {},
   "outputs": [],
   "source": [
    "def modelfit(alg, train_data,train_labels, predictors,performCV=True, printFeatureImportance=True, cv_folds=5):\n",
    "    #Fit the algorithm on the data\n",
    "    alg.fit(train_data,train_labels)\n",
    "        \n",
    "    #Predict training set:\n",
    "    train_predictions = alg.predict(train_data)\n",
    "    train_predprob = alg.predict_proba(train_data)[:,1]\n",
    "    \n",
    "    #Perform cross-validation:\n",
    "    if performCV:\n",
    "        cv_score = cross_validation.cross_val_score(alg,train_data,train_labels,cv=cv_folds, scoring='roc_auc')\n",
    "    \n",
    "    #Print model report:\n",
    "    print (\"\\nModel Report\")\n",
    "    print (\"Accuracy : %.4g\" % metrics.accuracy_score(train_labels, train_predictions))\n",
    "    print (\"AUC Score (Train): %f\" % metrics.roc_auc_score(train_labels, train_predprob))\n",
    "    \n",
    "    if performCV:\n",
    "        print (\"CV Score : Mean - %.7g | Std - %.7g | Min - %.7g | Max - %.7g\" % (np.mean(cv_score),np.std(cv_score),np.min(cv_score),np.max(cv_score)))\n",
    "        \n",
    "    #Print Feature Importance:\n",
    "    if printFeatureImportance:\n",
    "        feat_imp = pd.Series(alg.feature_importances_,predictors).sort_values(ascending=False)\n",
    "        feat_imp.plot(kind='bar', title='Feature Importances')\n",
    "        plt.ylabel('Feature Importance Score')\n",
    "    #print (train_predictions)     "
   ]
  },
  {
   "cell_type": "code",
   "execution_count": 6,
   "metadata": {
    "scrolled": false
   },
   "outputs": [
    {
     "name": "stdout",
     "output_type": "stream",
     "text": [
      "\n",
      "Model Report\n",
      "Accuracy : 1\n",
      "AUC Score (Train): 1.000000\n",
      "CV Score : Mean - 0.7040994 | Std - 0.06791092 | Min - 0.5709877 | Max - 0.7521368\n"
     ]
    },
    {
     "data": {
      "image/png": "[encoded data removed]",
      "text/plain": [
       "<Figure size 432x288 with 1 Axes>"
      ]
     },
     "metadata": {},
     "output_type": "display_data"
    }
   ],
   "source": [
    "#Choose all predictors except target & IDcols\n",
    "predictors = [x for x in X.columns]\n",
    "gbm0 = GradientBoostingClassifier(random_state=10)\n",
    "modelfit(gbm0,X,y,predictors )\n"
   ]
  },
  {
   "cell_type": "code",
   "execution_count": 9,
   "metadata": {},
   "outputs": [
    {
     "data": {
      "text/plain": [
       "GridSearchCV(cv=5, error_score='raise',\n",
       "       estimator=GradientBoostingClassifier(criterion='friedman_mse', init=None,\n",
       "              learning_rate=0.2, loss='deviance', max_depth=5,\n",
       "              max_features='sqrt', max_leaf_nodes=None,\n",
       "              min_impurity_decrease=0.0, min_impurity_split=None,\n",
       "              min_samples_leaf=25, min_samples_split=2,\n",
       "              min_weight_fraction_leaf=0.0, n_estimators=100,\n",
       "              presort='auto', random_state=10, subsample=0.8, verbose=0,\n",
       "              warm_start=False),\n",
       "       fit_params={}, iid=False, n_jobs=4,\n",
       "       param_grid={'n_estimators': array([ 10,  20,  30,  40,  50,  60,  70,  80,  90, 100, 110, 120, 130,\n",
       "       140, 150, 160, 170, 180, 190, 200, 210, 220, 230, 240, 250, 260,\n",
       "       270, 280, 290, 300, 310, 320, 330, 340, 350, 360, 370, 380, 390,\n",
       "       400, 410, 420, 430, 440, 450, 460, 470, 480, 490])},\n",
       "       pre_dispatch='2*n_jobs', refit=True, scoring='roc_auc', verbose=0)"
      ]
     },
     "execution_count": 9,
     "metadata": {},
     "output_type": "execute_result"
    }
   ],
   "source": [
    "#Choose all predictors except target & IDcols\n",
    "predictors = [x for x in X.columns]\n",
    "param_test1 = {'n_estimators':np.arange(10,500,10)}\n",
    "gsearch1 = GridSearchCV(estimator = GradientBoostingClassifier(learning_rate=0.2, min_samples_split=2,min_samples_leaf=25,max_depth=5,max_features='sqrt',subsample=0.8,random_state=10), \n",
    "param_grid = param_test1, scoring='roc_auc',n_jobs=4,iid=False, cv=5)\n",
    "gsearch1.fit(X,y)"
   ]
  },
  {
   "cell_type": "code",
   "execution_count": 10,
   "metadata": {},
   "outputs": [
    {
     "data": {
      "text/plain": [
       "([mean: 0.70709, std: 0.06274, params: {'n_estimators': 10},\n",
       "  mean: 0.71811, std: 0.05174, params: {'n_estimators': 20},\n",
       "  mean: 0.70799, std: 0.05393, params: {'n_estimators': 30},\n",
       "  mean: 0.70409, std: 0.05497, params: {'n_estimators': 40},\n",
       "  mean: 0.71671, std: 0.05151, params: {'n_estimators': 50},\n",
       "  mean: 0.71943, std: 0.06024, params: {'n_estimators': 60},\n",
       "  mean: 0.72346, std: 0.05946, params: {'n_estimators': 70},\n",
       "  mean: 0.73150, std: 0.05533, params: {'n_estimators': 80},\n",
       "  mean: 0.72272, std: 0.05495, params: {'n_estimators': 90},\n",
       "  mean: 0.72619, std: 0.05836, params: {'n_estimators': 100},\n",
       "  mean: 0.72566, std: 0.05509, params: {'n_estimators': 110},\n",
       "  mean: 0.71978, std: 0.05711, params: {'n_estimators': 120},\n",
       "  mean: 0.72502, std: 0.06056, params: {'n_estimators': 130},\n",
       "  mean: 0.72326, std: 0.05588, params: {'n_estimators': 140},\n",
       "  mean: 0.72766, std: 0.05505, params: {'n_estimators': 150},\n",
       "  mean: 0.72572, std: 0.05113, params: {'n_estimators': 160},\n",
       "  mean: 0.72960, std: 0.05726, params: {'n_estimators': 170},\n",
       "  mean: 0.73128, std: 0.06044, params: {'n_estimators': 180},\n",
       "  mean: 0.72812, std: 0.06313, params: {'n_estimators': 190},\n",
       "  mean: 0.73152, std: 0.06474, params: {'n_estimators': 200},\n",
       "  mean: 0.72703, std: 0.06302, params: {'n_estimators': 210},\n",
       "  mean: 0.72840, std: 0.06512, params: {'n_estimators': 220},\n",
       "  mean: 0.72870, std: 0.06090, params: {'n_estimators': 230},\n",
       "  mean: 0.72993, std: 0.06201, params: {'n_estimators': 240},\n",
       "  mean: 0.73118, std: 0.05966, params: {'n_estimators': 250},\n",
       "  mean: 0.72971, std: 0.05895, params: {'n_estimators': 260},\n",
       "  mean: 0.72724, std: 0.05911, params: {'n_estimators': 270},\n",
       "  mean: 0.72832, std: 0.06025, params: {'n_estimators': 280},\n",
       "  mean: 0.73356, std: 0.05869, params: {'n_estimators': 290},\n",
       "  mean: 0.72900, std: 0.06057, params: {'n_estimators': 300},\n",
       "  mean: 0.72915, std: 0.05825, params: {'n_estimators': 310},\n",
       "  mean: 0.73064, std: 0.05689, params: {'n_estimators': 320},\n",
       "  mean: 0.72817, std: 0.06191, params: {'n_estimators': 330},\n",
       "  mean: 0.72881, std: 0.06185, params: {'n_estimators': 340},\n",
       "  mean: 0.72571, std: 0.06183, params: {'n_estimators': 350},\n",
       "  mean: 0.72717, std: 0.05874, params: {'n_estimators': 360},\n",
       "  mean: 0.72761, std: 0.05956, params: {'n_estimators': 370},\n",
       "  mean: 0.72855, std: 0.06051, params: {'n_estimators': 380},\n",
       "  mean: 0.73130, std: 0.05788, params: {'n_estimators': 390},\n",
       "  mean: 0.73024, std: 0.06037, params: {'n_estimators': 400},\n",
       "  mean: 0.72836, std: 0.05998, params: {'n_estimators': 410},\n",
       "  mean: 0.73070, std: 0.05935, params: {'n_estimators': 420},\n",
       "  mean: 0.73151, std: 0.06027, params: {'n_estimators': 430},\n",
       "  mean: 0.73232, std: 0.06045, params: {'n_estimators': 440},\n",
       "  mean: 0.73082, std: 0.05973, params: {'n_estimators': 450},\n",
       "  mean: 0.73208, std: 0.06015, params: {'n_estimators': 460},\n",
       "  mean: 0.73144, std: 0.06011, params: {'n_estimators': 470},\n",
       "  mean: 0.73042, std: 0.05979, params: {'n_estimators': 480},\n",
       "  mean: 0.73124, std: 0.06016, params: {'n_estimators': 490}],\n",
       " {'n_estimators': 290},\n",
       " 0.7335628363406141)"
      ]
     },
     "execution_count": 10,
     "metadata": {},
     "output_type": "execute_result"
    }
   ],
   "source": [
    "gsearch1.grid_scores_, gsearch1.best_params_, gsearch1.best_score_"
   ]
  },
  {
   "cell_type": "code",
   "execution_count": 11,
   "metadata": {},
   "outputs": [
    {
     "data": {
      "text/plain": [
       "([mean: 0.75398, std: 0.06235, params: {'max_depth': 1},\n",
       "  mean: 0.73819, std: 0.05885, params: {'max_depth': 2},\n",
       "  mean: 0.71980, std: 0.06842, params: {'max_depth': 3},\n",
       "  mean: 0.72960, std: 0.05468, params: {'max_depth': 4},\n",
       "  mean: 0.73356, std: 0.05869, params: {'max_depth': 5},\n",
       "  mean: 0.72517, std: 0.05578, params: {'max_depth': 6},\n",
       "  mean: 0.72517, std: 0.05578, params: {'max_depth': 7},\n",
       "  mean: 0.72517, std: 0.05578, params: {'max_depth': 8},\n",
       "  mean: 0.72517, std: 0.05578, params: {'max_depth': 9},\n",
       "  mean: 0.72517, std: 0.05578, params: {'max_depth': 10},\n",
       "  mean: 0.72517, std: 0.05578, params: {'max_depth': 11},\n",
       "  mean: 0.72517, std: 0.05578, params: {'max_depth': 12},\n",
       "  mean: 0.72517, std: 0.05578, params: {'max_depth': 13},\n",
       "  mean: 0.72517, std: 0.05578, params: {'max_depth': 14},\n",
       "  mean: 0.72517, std: 0.05578, params: {'max_depth': 15},\n",
       "  mean: 0.72517, std: 0.05578, params: {'max_depth': 16},\n",
       "  mean: 0.72517, std: 0.05578, params: {'max_depth': 17},\n",
       "  mean: 0.72517, std: 0.05578, params: {'max_depth': 18},\n",
       "  mean: 0.72517, std: 0.05578, params: {'max_depth': 19},\n",
       "  mean: 0.72517, std: 0.05578, params: {'max_depth': 20},\n",
       "  mean: 0.72517, std: 0.05578, params: {'max_depth': 21},\n",
       "  mean: 0.72517, std: 0.05578, params: {'max_depth': 22},\n",
       "  mean: 0.72517, std: 0.05578, params: {'max_depth': 23},\n",
       "  mean: 0.72517, std: 0.05578, params: {'max_depth': 24},\n",
       "  mean: 0.72517, std: 0.05578, params: {'max_depth': 25},\n",
       "  mean: 0.72517, std: 0.05578, params: {'max_depth': 26},\n",
       "  mean: 0.72517, std: 0.05578, params: {'max_depth': 27},\n",
       "  mean: 0.72517, std: 0.05578, params: {'max_depth': 28},\n",
       "  mean: 0.72517, std: 0.05578, params: {'max_depth': 29},\n",
       "  mean: 0.72517, std: 0.05578, params: {'max_depth': 30},\n",
       "  mean: 0.72517, std: 0.05578, params: {'max_depth': 31},\n",
       "  mean: 0.72517, std: 0.05578, params: {'max_depth': 32},\n",
       "  mean: 0.72517, std: 0.05578, params: {'max_depth': 33},\n",
       "  mean: 0.72517, std: 0.05578, params: {'max_depth': 34},\n",
       "  mean: 0.72517, std: 0.05578, params: {'max_depth': 35},\n",
       "  mean: 0.72517, std: 0.05578, params: {'max_depth': 36},\n",
       "  mean: 0.72517, std: 0.05578, params: {'max_depth': 37},\n",
       "  mean: 0.72517, std: 0.05578, params: {'max_depth': 38},\n",
       "  mean: 0.72517, std: 0.05578, params: {'max_depth': 39},\n",
       "  mean: 0.72517, std: 0.05578, params: {'max_depth': 40},\n",
       "  mean: 0.72517, std: 0.05578, params: {'max_depth': 41},\n",
       "  mean: 0.72517, std: 0.05578, params: {'max_depth': 42},\n",
       "  mean: 0.72517, std: 0.05578, params: {'max_depth': 43},\n",
       "  mean: 0.72517, std: 0.05578, params: {'max_depth': 44},\n",
       "  mean: 0.72517, std: 0.05578, params: {'max_depth': 45},\n",
       "  mean: 0.72517, std: 0.05578, params: {'max_depth': 46},\n",
       "  mean: 0.72517, std: 0.05578, params: {'max_depth': 47},\n",
       "  mean: 0.72517, std: 0.05578, params: {'max_depth': 48},\n",
       "  mean: 0.72517, std: 0.05578, params: {'max_depth': 49},\n",
       "  mean: 0.72517, std: 0.05578, params: {'max_depth': 50},\n",
       "  mean: 0.72517, std: 0.05578, params: {'max_depth': 51},\n",
       "  mean: 0.72517, std: 0.05578, params: {'max_depth': 52},\n",
       "  mean: 0.72517, std: 0.05578, params: {'max_depth': 53},\n",
       "  mean: 0.72517, std: 0.05578, params: {'max_depth': 54},\n",
       "  mean: 0.72517, std: 0.05578, params: {'max_depth': 55},\n",
       "  mean: 0.72517, std: 0.05578, params: {'max_depth': 56},\n",
       "  mean: 0.72517, std: 0.05578, params: {'max_depth': 57},\n",
       "  mean: 0.72517, std: 0.05578, params: {'max_depth': 58},\n",
       "  mean: 0.72517, std: 0.05578, params: {'max_depth': 59},\n",
       "  mean: 0.72517, std: 0.05578, params: {'max_depth': 60},\n",
       "  mean: 0.72517, std: 0.05578, params: {'max_depth': 61},\n",
       "  mean: 0.72517, std: 0.05578, params: {'max_depth': 62},\n",
       "  mean: 0.72517, std: 0.05578, params: {'max_depth': 63},\n",
       "  mean: 0.72517, std: 0.05578, params: {'max_depth': 64},\n",
       "  mean: 0.72517, std: 0.05578, params: {'max_depth': 65},\n",
       "  mean: 0.72517, std: 0.05578, params: {'max_depth': 66},\n",
       "  mean: 0.72517, std: 0.05578, params: {'max_depth': 67},\n",
       "  mean: 0.72517, std: 0.05578, params: {'max_depth': 68},\n",
       "  mean: 0.72517, std: 0.05578, params: {'max_depth': 69},\n",
       "  mean: 0.72517, std: 0.05578, params: {'max_depth': 70},\n",
       "  mean: 0.72517, std: 0.05578, params: {'max_depth': 71},\n",
       "  mean: 0.72517, std: 0.05578, params: {'max_depth': 72},\n",
       "  mean: 0.72517, std: 0.05578, params: {'max_depth': 73},\n",
       "  mean: 0.72517, std: 0.05578, params: {'max_depth': 74},\n",
       "  mean: 0.72517, std: 0.05578, params: {'max_depth': 75},\n",
       "  mean: 0.72517, std: 0.05578, params: {'max_depth': 76},\n",
       "  mean: 0.72517, std: 0.05578, params: {'max_depth': 77},\n",
       "  mean: 0.72517, std: 0.05578, params: {'max_depth': 78},\n",
       "  mean: 0.72517, std: 0.05578, params: {'max_depth': 79},\n",
       "  mean: 0.72517, std: 0.05578, params: {'max_depth': 80},\n",
       "  mean: 0.72517, std: 0.05578, params: {'max_depth': 81},\n",
       "  mean: 0.72517, std: 0.05578, params: {'max_depth': 82},\n",
       "  mean: 0.72517, std: 0.05578, params: {'max_depth': 83},\n",
       "  mean: 0.72517, std: 0.05578, params: {'max_depth': 84},\n",
       "  mean: 0.72517, std: 0.05578, params: {'max_depth': 85},\n",
       "  mean: 0.72517, std: 0.05578, params: {'max_depth': 86},\n",
       "  mean: 0.72517, std: 0.05578, params: {'max_depth': 87},\n",
       "  mean: 0.72517, std: 0.05578, params: {'max_depth': 88},\n",
       "  mean: 0.72517, std: 0.05578, params: {'max_depth': 89},\n",
       "  mean: 0.72517, std: 0.05578, params: {'max_depth': 90},\n",
       "  mean: 0.72517, std: 0.05578, params: {'max_depth': 91},\n",
       "  mean: 0.72517, std: 0.05578, params: {'max_depth': 92},\n",
       "  mean: 0.72517, std: 0.05578, params: {'max_depth': 93},\n",
       "  mean: 0.72517, std: 0.05578, params: {'max_depth': 94},\n",
       "  mean: 0.72517, std: 0.05578, params: {'max_depth': 95},\n",
       "  mean: 0.72517, std: 0.05578, params: {'max_depth': 96},\n",
       "  mean: 0.72517, std: 0.05578, params: {'max_depth': 97},\n",
       "  mean: 0.72517, std: 0.05578, params: {'max_depth': 98},\n",
       "  mean: 0.72517, std: 0.05578, params: {'max_depth': 99}],\n",
       " {'max_depth': 1},\n",
       " 0.7539806900918012)"
      ]
     },
     "execution_count": 11,
     "metadata": {},
     "output_type": "execute_result"
    }
   ],
   "source": [
    "#param_test2 = {'max_depth':np.arange(5,16,2), 'min_samples_split':np.arange(2,11,1)}\n",
    "param_test2 = {'max_depth':np.arange(1,100,1)}\n",
    "gsearch2 = GridSearchCV(estimator = GradientBoostingClassifier(learning_rate=0.2, n_estimators=290, max_features='sqrt', subsample=0.8, min_samples_split=2,min_samples_leaf=25,random_state=10), \n",
    "param_grid = param_test2, scoring='roc_auc',n_jobs=4,iid=False, cv=5)\n",
    "gsearch2.fit(X,y)\n",
    "gsearch2.grid_scores_, gsearch2.best_params_, gsearch2.best_score_"
   ]
  },
  {
   "cell_type": "code",
   "execution_count": 12,
   "metadata": {},
   "outputs": [
    {
     "name": "stdout",
     "output_type": "stream",
     "text": [
      "\n",
      "Model Report\n",
      "Accuracy : 0.9521\n",
      "AUC Score (Train): 0.991270\n",
      "CV Score : Mean - 0.7539807 | Std - 0.06235344 | Min - 0.6553498 | Max - 0.8440171\n"
     ]
    },
    {
     "data": {
      "image/png": "[encoded data removed]",
      "text/plain": [
       "<Figure size 432x288 with 1 Axes>"
      ]
     },
     "metadata": {},
     "output_type": "display_data"
    }
   ],
   "source": [
    "modelfit(gsearch2.best_estimator_, X,y,predictors)"
   ]
  },
  {
   "cell_type": "code",
   "execution_count": 14,
   "metadata": {},
   "outputs": [
    {
     "data": {
      "text/plain": [
       "({'min_samples_leaf': 31, 'min_samples_split': 2}, 0.7728157644824311)"
      ]
     },
     "execution_count": 14,
     "metadata": {},
     "output_type": "execute_result"
    }
   ],
   "source": [
    "param_test3 = {'min_samples_split':np.arange(2,5,1), 'min_samples_leaf':np.arange(1,60,1)}\n",
    "gsearch3 = GridSearchCV(estimator = GradientBoostingClassifier(learning_rate=0.2, n_estimators=290,max_depth=1,max_features='sqrt', subsample=0.8, random_state=10), \n",
    "param_grid = param_test3, scoring='roc_auc',n_jobs=4,iid=False, cv=5)\n",
    "gsearch3.fit(X,y)\n",
    "#gsearch3.grid_scores_, gsearch3.best_params_, gsearch3.best_score_\n",
    "gsearch3.best_params_, gsearch3.best_score_\n"
   ]
  },
  {
   "cell_type": "code",
   "execution_count": 15,
   "metadata": {},
   "outputs": [
    {
     "name": "stdout",
     "output_type": "stream",
     "text": [
      "\n",
      "Model Report\n",
      "Accuracy : 0.9521\n",
      "AUC Score (Train): 0.991270\n",
      "CV Score : Mean - 0.7539807 | Std - 0.06235344 | Min - 0.6553498 | Max - 0.8440171\n"
     ]
    },
    {
     "data": {
      "image/png": "[encoded data removed]",
      "text/plain": [
       "<Figure size 432x288 with 1 Axes>"
      ]
     },
     "metadata": {},
     "output_type": "display_data"
    }
   ],
   "source": [
    "modelfit(gsearch2.best_estimator_, X,y,predictors)"
   ]
  },
  {
   "cell_type": "code",
   "execution_count": 18,
   "metadata": {},
   "outputs": [
    {
     "data": {
      "text/plain": [
       "({'max_features': 7}, 0.7728157644824311)"
      ]
     },
     "execution_count": 18,
     "metadata": {},
     "output_type": "execute_result"
    }
   ],
   "source": [
    "param_test4 = {'max_features':np.arange(1,59,1)}\n",
    "gsearch4 = GridSearchCV(estimator = GradientBoostingClassifier(learning_rate=0.2, n_estimators=290,max_depth=1, min_samples_split=2, min_samples_leaf=31, subsample=0.8, random_state=10),\n",
    "param_grid = param_test4, scoring='roc_auc',n_jobs=4,iid=False, cv=5)\n",
    "gsearch4.fit(X,y)\n",
    "#gsearch4.grid_scores_, gsearch4.best_params_, gsearch4.best_score_\n",
    "gsearch4.best_params_, gsearch4.best_score_"
   ]
  },
  {
   "cell_type": "code",
   "execution_count": 19,
   "metadata": {},
   "outputs": [
    {
     "name": "stdout",
     "output_type": "stream",
     "text": [
      "\n",
      "Model Report\n",
      "Accuracy : 0.9521\n",
      "AUC Score (Train): 0.991270\n",
      "CV Score : Mean - 0.7539807 | Std - 0.06235344 | Min - 0.6553498 | Max - 0.8440171\n"
     ]
    },
    {
     "data": {
      "image/png": "[encoded data removed]",
      "text/plain": [
       "<Figure size 432x288 with 1 Axes>"
      ]
     },
     "metadata": {},
     "output_type": "display_data"
    }
   ],
   "source": [
    "modelfit(gsearch2.best_estimator_, X,y,predictors)"
   ]
  },
  {
   "cell_type": "code",
   "execution_count": 20,
   "metadata": {},
   "outputs": [
    {
     "data": {
      "text/plain": [
       "([mean: 0.68741, std: 0.08018, params: {'subsample': 0.6},\n",
       "  mean: 0.71111, std: 0.04649, params: {'subsample': 0.7},\n",
       "  mean: 0.70534, std: 0.05701, params: {'subsample': 0.75},\n",
       "  mean: 0.71421, std: 0.06576, params: {'subsample': 0.8},\n",
       "  mean: 0.70354, std: 0.06794, params: {'subsample': 0.85},\n",
       "  mean: 0.72392, std: 0.09687, params: {'subsample': 0.9},\n",
       "  mean: 0.71774, std: 0.08535, params: {'subsample': 0.95}],\n",
       " {'subsample': 0.9},\n",
       " 0.7239244663382595)"
      ]
     },
     "execution_count": 20,
     "metadata": {},
     "output_type": "execute_result"
    }
   ],
   "source": [
    "param_test5 = {'subsample':[0.6,0.7,0.75,0.8,0.85,0.9,0.95]}\n",
    "gsearch5 = GridSearchCV(estimator = GradientBoostingClassifier(learning_rate=0.2, n_estimators=290,max_depth=1, min_samples_split=2, min_samples_leaf=31, subsample=0.8,max_features=7, random_state=10),\n",
    "param_grid = param_test5, scoring='roc_auc',n_jobs=4,iid=False, cv=5)\n",
    "gsearch5.fit(X_train,y_train)\n",
    "gsearch5.grid_scores_, gsearch5.best_params_, gsearch5.best_score_"
   ]
  },
  {
   "cell_type": "code",
   "execution_count": 43,
   "metadata": {},
   "outputs": [
    {
     "data": {
      "text/plain": [
       "GradientBoostingClassifier(criterion='friedman_mse', init=None,\n",
       "              learning_rate=0.4, loss='deviance', max_depth=1,\n",
       "              max_features=7, max_leaf_nodes=None,\n",
       "              min_impurity_decrease=0.0, min_impurity_split=None,\n",
       "              min_samples_leaf=31, min_samples_split=2,\n",
       "              min_weight_fraction_leaf=0.0, n_estimators=200,\n",
       "              presort='auto', random_state=10, subsample=0.9, verbose=0,\n",
       "              warm_start=False)"
      ]
     },
     "execution_count": 43,
     "metadata": {},
     "output_type": "execute_result"
    }
   ],
   "source": [
    "from sklearn.ensemble import GradientBoostingClassifier\n",
    "#import pdb\n",
    "#pdb.set_trace()\n",
    "#gbm_tuned_1= GradientBoostingClassifier(criterion='friedman_mse', init=None,\n",
    " #             learning_rate=0.2, n_estimators=80,max_depth=5,min_samples_split=11,min_samples_leaf=4, subsample=0.8, random_state=10, \n",
    "  #                                max_features=7,warm_start=False)\n",
    "gbm_tuned_1= GradientBoostingClassifier(criterion='friedman_mse', init=None,\n",
    "              learning_rate=0.4, n_estimators=200,max_depth=1, min_samples_split=2,min_samples_leaf=31, subsample=0.9, random_state=10, \n",
    "                                  max_features=7,warm_start=False)\n",
    "gbm_tuned_1.fit(X_train, y_train)\n",
    "#gbm_tuned_1.score(X_test,y_test)"
   ]
  },
  {
   "cell_type": "code",
   "execution_count": 44,
   "metadata": {},
   "outputs": [
    {
     "data": {
      "text/plain": [
       "0.6825396825396826"
      ]
     },
     "execution_count": 44,
     "metadata": {},
     "output_type": "execute_result"
    }
   ],
   "source": [
    "    \n",
    "#from sklearn.ensemble import GradientBoostingClassifier\n",
    "#import pdb\n",
    "#pdb.set_trace()\n",
    "#model= GradientBoostingClassifier(criterion='friedman_mse', init=None,\n",
    "#              learning_rate=0.001, loss='deviance', max_depth=5,\n",
    " #              min_samples_leaf=10,min_samples_split=5,\n",
    "  #            n_estimators=20000, presort='auto', random_state=10, subsample=0.8, verbose=0,\n",
    "   #           warm_start=False)\n",
    "\n",
    "#model.fit(X_train, y_train)\n",
    "#model.score(X_valid,y_valid)\n",
    "#y_pred = model.predict(X_test) \n",
    "#gbm_tuned_1.score(X_valid,y_valid)\n",
    "y_pred = gbm_tuned_1.predict(X_valid) \n",
    "gbm_tuned_1.score(X_valid,y_valid)"
   ]
  },
  {
   "cell_type": "code",
   "execution_count": 45,
   "metadata": {},
   "outputs": [],
   "source": [
    "from sklearn.metrics import roc_auc_score\n",
    "from sklearn.metrics import roc_curve\n",
    "svm_roc_auc = roc_auc_score(y_valid, y_pred)"
   ]
  },
  {
   "cell_type": "code",
   "execution_count": 46,
   "metadata": {},
   "outputs": [
    {
     "name": "stdout",
     "output_type": "stream",
     "text": [
      "Accuracy of GTB classifier: 0.68\n",
      "\n",
      "\n",
      "Confusion matrix : \n",
      "                    Class 1  Class 0\n",
      "Predicted Class 1       23        9\n",
      "Predicted Class 0       11       20\n",
      "\n",
      "\n",
      "\n",
      "\n",
      "[[23  9]\n",
      " [11 20]]\n",
      "Sensitivity : 0.6764705882352942\n",
      "\n",
      "\n",
      "Specificity : 0.6896551724137931\n",
      "\n",
      "\n",
      "precision : 0.71875\n",
      "\n",
      "\n",
      "F1 Score: 0.6666666666666667\n",
      "\n",
      "\n",
      "Matthews Correlation Coefficient: 0.3650168461566475\n",
      "\n",
      "\n",
      "AUC: 0.746\n",
      "\n",
      "\n"
     ]
    }
   ],
   "source": [
    "from sklearn.metrics import confusion_matrix \n",
    "print('Accuracy of GTB classifier: {:.2f}'.format(gbm_tuned_1.score(X_valid, y_valid)))\n",
    "print('\\n')\n",
    "confusion_df = pd.DataFrame(confusion_matrix(y_valid,y_pred),\n",
    "             columns=[\"Predicted Class \" + str(class_name) for class_name in [1,0]],\n",
    "             index = [\"Class \" + str(class_name) for class_name in [1,0]])\n",
    "\n",
    "print('Confusion matrix : \\n',confusion_df.T)\n",
    "print('\\n')\n",
    "\n",
    "\n",
    "cm1 = confusion_matrix(y_valid, y_pred).T\n",
    "print('\\n')\n",
    "total1=sum(sum(cm1))\n",
    "print(cm1)\n",
    "#####from confusion matrix calculate sensitivity specificity\n",
    "\n",
    "\n",
    "sensitivity1 = cm1[0,0]/(cm1[0,0]+cm1[1,0])\n",
    "print('Sensitivity :', sensitivity1 )\n",
    "print('\\n')\n",
    "specificity1 = cm1[1,1]/(cm1[0,1]+cm1[1,1])\n",
    "print('Specificity :', specificity1)\n",
    "print('\\n')\n",
    "precision = cm1[0,0]/(cm1[0,0]+cm1[0,1])\n",
    "print('precision :', precision)\n",
    "print('\\n')\n",
    "#from sklearn.metrics import precision_score\n",
    "#print(\"Precision score: {}\".format(precision_score(y_valid,y_pred)))\n",
    "#print('\\n')\n",
    "from sklearn.metrics import f1_score\n",
    "print(\"F1 Score: {}\".format(f1_score(y_valid,y_pred)))\n",
    "print('\\n')\n",
    "from sklearn.metrics import matthews_corrcoef\n",
    "print(\"Matthews Correlation Coefficient: {}\".format(matthews_corrcoef(y_valid, y_pred)))\n",
    "print('\\n')\n",
    "##Area under Curve-AUC\n",
    "auc = roc_auc_score(y_valid, gbm_tuned_1.predict_proba(X_valid)[:,1])\n",
    "print('AUC: %.3f' % auc)\n",
    "print('\\n')"
   ]
  },
  {
   "cell_type": "code",
   "execution_count": 51,
   "metadata": {},
   "outputs": [],
   "source": [
    "predictors = [x for x in X.columns]\n",
    "#gbm_tuned_1 = GradientBoostingClassifier(learning_rate=0.2, n_estimators=40, max_features=55, subsample=0.7,max_depth=5,min_samples_split=12,min_samples_leaf=5, random_state=10,warm_start=False)\n",
    "gbm_tuned_1= GradientBoostingClassifier(criterion='friedman_mse', init=None,\n",
    "              learning_rate=0.4, n_estimators=290,max_depth=1, min_samples_split=2,min_samples_leaf=31, subsample=0.9, random_state=10, \n",
    "                                  max_features=7,warm_start=False)\n",
    "\n",
    "\n",
    "\n",
    "\n",
    "gbm_tuned_1.fit(X,y)\n",
    "\n",
    "\n",
    "y_test_pred = gbm_tuned_1.predict(X_test) \n",
    "svm_roc_auc = roc_auc_score(y_test, y_test_pred)"
   ]
  },
  {
   "cell_type": "code",
   "execution_count": 52,
   "metadata": {},
   "outputs": [
    {
     "name": "stdout",
     "output_type": "stream",
     "text": [
      "Accuracy of GTB classifier: 0.67\n",
      "\n",
      "\n",
      "Confusion matrix : \n",
      "                    Class 1  Class 0\n",
      "Predicted Class 1       61       16\n",
      "Predicted Class 0       26       23\n",
      "\n",
      "\n",
      "\n",
      "\n",
      "[[61 16]\n",
      " [26 23]]\n",
      "Sensitivity : 0.7011494252873564\n",
      "\n",
      "\n",
      "Specificity : 0.5897435897435898\n",
      "\n",
      "\n",
      "precision : 0.7922077922077922\n",
      "\n",
      "\n",
      "F1 Score: 0.5227272727272727\n",
      "\n",
      "\n",
      "Matthews Correlation Coefficient: 0.2758556098317158\n",
      "\n",
      "\n",
      "AUC: 0.721\n",
      "\n",
      "\n"
     ]
    }
   ],
   "source": [
    "from sklearn.metrics import confusion_matrix \n",
    "print('Accuracy of GTB classifier: {:.2f}'.format(gbm_tuned_1.score(X_test, y_test)))\n",
    "print('\\n')\n",
    "confusion_df = pd.DataFrame(confusion_matrix(y_test,y_test_pred),\n",
    "             columns=[\"Predicted Class \" + str(class_name) for class_name in [1,0]],\n",
    "             index = [\"Class \" + str(class_name) for class_name in [1,0]])\n",
    "\n",
    "print('Confusion matrix : \\n',confusion_df.T)\n",
    "print('\\n')\n",
    "\n",
    "\n",
    "cm1 = confusion_matrix(y_test, y_test_pred).T\n",
    "print('\\n')\n",
    "total1=sum(sum(cm1))\n",
    "print(cm1)\n",
    "#####from confusion matrix calculate sensitivity specificity\n",
    "\n",
    "\n",
    "sensitivity1 = cm1[0,0]/(cm1[0,0]+cm1[1,0])\n",
    "print('Sensitivity :', sensitivity1 )\n",
    "print('\\n')\n",
    "specificity1 = cm1[1,1]/(cm1[0,1]+cm1[1,1])\n",
    "print('Specificity :', specificity1)\n",
    "print('\\n')\n",
    "precision = cm1[0,0]/(cm1[0,0]+cm1[0,1])\n",
    "print('precision :', precision)\n",
    "print('\\n')\n",
    "#from sklearn.metrics import precision_score\n",
    "#print(\"Precision score: {}\".format(precision_score(y_valid,y_pred)))\n",
    "#print('\\n')\n",
    "from sklearn.metrics import f1_score\n",
    "print(\"F1 Score: {}\".format(f1_score(y_test,y_test_pred)))\n",
    "print('\\n')\n",
    "from sklearn.metrics import matthews_corrcoef\n",
    "print(\"Matthews Correlation Coefficient: {}\".format(matthews_corrcoef(y_test, y_test_pred)))\n",
    "print('\\n')\n",
    "##Area under Curve-AUC\n",
    "auc = roc_auc_score(y_test, gbm_tuned_1.predict_proba(X_test)[:,1])\n",
    "print('AUC: %.3f' % auc)\n",
    "print('\\n')"
   ]
  },
  {
   "cell_type": "code",
   "execution_count": null,
   "metadata": {},
   "outputs": [],
   "source": []
  },
  {
   "cell_type": "code",
   "execution_count": null,
   "metadata": {},
   "outputs": [],
   "source": []
  }
 ],
 "metadata": {
  "kernelspec": {
   "display_name": "Python 3",
   "language": "python",
   "name": "python3"
  },
  "language_info": {
   "codemirror_mode": {
    "name": "ipython",
    "version": 3
   },
   "file_extension": ".py",
   "mimetype": "text/x-python",
   "name": "python",
   "nbconvert_exporter": "python",
   "pygments_lexer": "ipython3",
   "version": "3.6.5"
  }
 },
 "nbformat": 4,
 "nbformat_minor": 2
}
