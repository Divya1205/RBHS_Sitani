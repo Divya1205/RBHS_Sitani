{
 "cells": [
  {
   "cell_type": "code",
   "execution_count": 25,
   "metadata": {},
   "outputs": [],
   "source": [
    "\n",
    "#Import libraries:\n",
    "import pandas as pd\n",
    "import numpy as np\n",
    "import os\n",
    "from sklearn.ensemble import GradientBoostingClassifier  #GBM algorithm\n",
    "from sklearn import cross_validation, metrics   #Additional scklearn functions\n",
    "from sklearn.grid_search import GridSearchCV   #Perforing grid search\n",
    "\n",
    "import matplotlib.pylab as plt\n",
    "%matplotlib inline\n",
    "from matplotlib.pylab import rcParams\n",
    "rcParams['figure.figsize'] = (16, 8)\n",
    "import matlab.engine\n"
   ]
  },
  {
   "cell_type": "code",
   "execution_count": 26,
   "metadata": {},
   "outputs": [
    {
     "data": {
      "text/plain": [
       "'/Users/sitani/Desktop/CS_final_codes/workonhotspots/FinalCodesForPublication'"
      ]
     },
     "execution_count": 26,
     "metadata": {},
     "output_type": "execute_result"
    }
   ],
   "source": [
    "os.getcwd()\n",
    "os.chdir('/Users/sitani/Desktop/CS_final_codes/workonhotspots/')\n",
    "eng = matlab.engine.start_matlab()\n",
    "eng.reading_hotspot2Data_v3(nargout=0)\n",
    "os.chdir('/Users/sitani/Desktop/CS_final_codes/workonhotspots/FinalCodesForPublication/')\n",
    "os.getcwd()"
   ]
  },
  {
   "cell_type": "code",
   "execution_count": 27,
   "metadata": {},
   "outputs": [],
   "source": [
    "eng.quit()"
   ]
  },
  {
   "cell_type": "code",
   "execution_count": 28,
   "metadata": {},
   "outputs": [
    {
     "name": "stdout",
     "output_type": "stream",
     "text": [
      "(250, 58)\n",
      "(63, 58)\n",
      "(250,)\n",
      "(63,)\n"
     ]
    }
   ],
   "source": [
    "X=pd.read_csv('Atrain_whole.csv',header=None)\n",
    "y=pd.read_csv('label_whole.csv',header=None)\n",
    "\n",
    "X_train = pd.read_csv('Atrain2.csv',header=None)\n",
    "X_valid = pd.read_csv('Avalid2.csv',header=None)\n",
    "\n",
    "y_train=pd.read_csv('label_train2.csv',header=None)\n",
    "y_valid=pd.read_csv('label_valid2.csv',header=None)\n",
    "\n",
    "X_test=pd.read_csv('Atest2.csv',header=None)\n",
    "y_test=pd.read_csv('label_test2.csv',header=None)\n",
    "\n",
    "X_train=X_train.T#transpose\n",
    "X_valid=X_valid.T\n",
    "X=X.T\n",
    "X_test=X_test.T\n",
    "\n",
    "y_train=y_train.values.ravel()\n",
    "y_valid=y_valid.values.ravel()\n",
    "y=y.values.ravel()\n",
    "y_test=y_test.values.ravel()\n",
    "\n",
    "print(X_train.shape)\n",
    "print(X_valid.shape)\n",
    "print(y_train.shape)\n",
    "print(y_valid.shape)"
   ]
  },
  {
   "cell_type": "code",
   "execution_count": 29,
   "metadata": {},
   "outputs": [],
   "source": [
    "def modelfit(alg, train_data,train_labels, predictors,performCV=True, printFeatureImportance=True, cv_folds=5):\n",
    "    #Fit the algorithm on the data\n",
    "    alg.fit(train_data,train_labels)\n",
    "        \n",
    "    #Predict training set:\n",
    "    train_predictions = alg.predict(train_data)\n",
    "    train_predprob = alg.predict_proba(train_data)[:,1]\n",
    "    \n",
    "    #Perform cross-validation:\n",
    "    if performCV:\n",
    "        cv_score = cross_validation.cross_val_score(alg,train_data,train_labels,cv=cv_folds, scoring='roc_auc')\n",
    "    \n",
    "    #Print model report:\n",
    "    print (\"\\nModel Report\")\n",
    "    print (\"Accuracy : %.4g\" % metrics.accuracy_score(train_labels, train_predictions))\n",
    "    print (\"AUC Score (Train): %f\" % metrics.roc_auc_score(train_labels, train_predprob))\n",
    "    \n",
    "    if performCV:\n",
    "        print (\"CV Score : Mean - %.7g | Std - %.7g | Min - %.7g | Max - %.7g\" % (np.mean(cv_score),np.std(cv_score),np.min(cv_score),np.max(cv_score)))\n",
    "        \n",
    "    #Print Feature Importance:\n",
    "    if printFeatureImportance:\n",
    "        feat_imp = pd.Series(alg.feature_importances_,predictors).sort_values(ascending=False)\n",
    "        feat_imp.plot(kind='bar', title='Feature Importances')\n",
    "        plt.ylabel('Feature Importance Score')\n",
    "    #print (train_predictions)     "
   ]
  },
  {
   "cell_type": "code",
   "execution_count": 30,
   "metadata": {
    "scrolled": false
   },
   "outputs": [
    {
     "name": "stdout",
     "output_type": "stream",
     "text": [
      "\n",
      "Model Report\n",
      "Accuracy : 1\n",
      "AUC Score (Train): 1.000000\n",
      "CV Score : Mean - 0.7040994 | Std - 0.06791092 | Min - 0.5709877 | Max - 0.7521368\n"
     ]
    },
    {
     "data": {
      "image/png": "[encoded data removed]",
      "text/plain": [
       "<Figure size 1152x576 with 1 Axes>"
      ]
     },
     "metadata": {},
     "output_type": "display_data"
    }
   ],
   "source": [
    "#Choose all predictors except target & IDcols\n",
    "predictors = [x for x in X.columns]\n",
    "gbm0 = GradientBoostingClassifier(random_state=10)\n",
    "modelfit(gbm0,X,y,predictors )\n"
   ]
  },
  {
   "cell_type": "code",
   "execution_count": 68,
   "metadata": {},
   "outputs": [
    {
     "data": {
      "text/plain": [
       "GridSearchCV(cv=5, error_score='raise',\n",
       "       estimator=GradientBoostingClassifier(criterion='friedman_mse', init=None,\n",
       "              learning_rate=0.2, loss='deviance', max_depth=5,\n",
       "              max_features=15, max_leaf_nodes=None,\n",
       "              min_impurity_decrease=0.0, min_impurity_split=None,\n",
       "              min_samples_leaf=25, min_samples_split=2,\n",
       "              min_weight_fraction_leaf=0.0, n_estimators=100,\n",
       "              presort='auto', random_state=10, subsample=0.8, verbose=0,\n",
       "              warm_start=False),\n",
       "       fit_params={}, iid=False, n_jobs=4,\n",
       "       param_grid={'n_estimators': array([ 10,  20, ..., 980, 990])},\n",
       "       pre_dispatch='2*n_jobs', refit=True, scoring='roc_auc', verbose=0)"
      ]
     },
     "execution_count": 68,
     "metadata": {},
     "output_type": "execute_result"
    }
   ],
   "source": [
    "#Choose all predictors except target & IDcols\n",
    "predictors = [x for x in X.columns]\n",
    "param_test1 = {'n_estimators':np.arange(10,1000,10)}\n",
    "gsearch1 = GridSearchCV(estimator = GradientBoostingClassifier(learning_rate=0.2, min_samples_split=2,min_samples_leaf=25,max_depth=5,max_features='sqrt',subsample=0.8,random_state=10), \n",
    "param_grid = param_test1, scoring='roc_auc',n_jobs=4,iid=False, cv=5)\n",
    "gsearch1.fit(X,y)"
   ]
  },
  {
   "cell_type": "code",
   "execution_count": 69,
   "metadata": {},
   "outputs": [
    {
     "data": {
      "text/plain": [
       "([mean: 0.70177, std: 0.07513, params: {'n_estimators': 10},\n",
       "  mean: 0.72611, std: 0.07255, params: {'n_estimators': 20},\n",
       "  mean: 0.72384, std: 0.05834, params: {'n_estimators': 30},\n",
       "  mean: 0.72972, std: 0.06973, params: {'n_estimators': 40},\n",
       "  mean: 0.73143, std: 0.06339, params: {'n_estimators': 50},\n",
       "  mean: 0.72270, std: 0.06630, params: {'n_estimators': 60},\n",
       "  mean: 0.71992, std: 0.06749, params: {'n_estimators': 70},\n",
       "  mean: 0.72013, std: 0.05988, params: {'n_estimators': 80},\n",
       "  mean: 0.72312, std: 0.05734, params: {'n_estimators': 90},\n",
       "  mean: 0.72846, std: 0.05765, params: {'n_estimators': 100},\n",
       "  mean: 0.72416, std: 0.06083, params: {'n_estimators': 110},\n",
       "  mean: 0.72606, std: 0.06179, params: {'n_estimators': 120},\n",
       "  mean: 0.73209, std: 0.06139, params: {'n_estimators': 130},\n",
       "  mean: 0.73467, std: 0.05917, params: {'n_estimators': 140},\n",
       "  mean: 0.73579, std: 0.05640, params: {'n_estimators': 150},\n",
       "  mean: 0.73086, std: 0.05504, params: {'n_estimators': 160},\n",
       "  mean: 0.73171, std: 0.05333, params: {'n_estimators': 170},\n",
       "  mean: 0.73318, std: 0.05809, params: {'n_estimators': 180},\n",
       "  mean: 0.73128, std: 0.06016, params: {'n_estimators': 190},\n",
       "  mean: 0.72779, std: 0.06196, params: {'n_estimators': 200},\n",
       "  mean: 0.73006, std: 0.06443, params: {'n_estimators': 210},\n",
       "  mean: 0.72787, std: 0.06472, params: {'n_estimators': 220},\n",
       "  mean: 0.72403, std: 0.06345, params: {'n_estimators': 230},\n",
       "  mean: 0.72736, std: 0.06249, params: {'n_estimators': 240},\n",
       "  mean: 0.72469, std: 0.06223, params: {'n_estimators': 250},\n",
       "  mean: 0.72771, std: 0.06712, params: {'n_estimators': 260},\n",
       "  mean: 0.72492, std: 0.06669, params: {'n_estimators': 270},\n",
       "  mean: 0.72827, std: 0.06442, params: {'n_estimators': 280},\n",
       "  mean: 0.72681, std: 0.06267, params: {'n_estimators': 290},\n",
       "  mean: 0.72416, std: 0.06213, params: {'n_estimators': 300},\n",
       "  mean: 0.72055, std: 0.06355, params: {'n_estimators': 310},\n",
       "  mean: 0.72279, std: 0.06279, params: {'n_estimators': 320},\n",
       "  mean: 0.72591, std: 0.06180, params: {'n_estimators': 330},\n",
       "  mean: 0.72194, std: 0.06218, params: {'n_estimators': 340},\n",
       "  mean: 0.71962, std: 0.06180, params: {'n_estimators': 350},\n",
       "  mean: 0.71901, std: 0.06049, params: {'n_estimators': 360},\n",
       "  mean: 0.71823, std: 0.06081, params: {'n_estimators': 370},\n",
       "  mean: 0.72024, std: 0.06245, params: {'n_estimators': 380},\n",
       "  mean: 0.71962, std: 0.06228, params: {'n_estimators': 390},\n",
       "  mean: 0.71860, std: 0.06207, params: {'n_estimators': 400},\n",
       "  mean: 0.71758, std: 0.06137, params: {'n_estimators': 410},\n",
       "  mean: 0.71758, std: 0.06137, params: {'n_estimators': 420},\n",
       "  mean: 0.71778, std: 0.06099, params: {'n_estimators': 430},\n",
       "  mean: 0.71757, std: 0.06105, params: {'n_estimators': 440},\n",
       "  mean: 0.71757, std: 0.06105, params: {'n_estimators': 450},\n",
       "  mean: 0.71694, std: 0.06107, params: {'n_estimators': 460},\n",
       "  mean: 0.71735, std: 0.06080, params: {'n_estimators': 470},\n",
       "  mean: 0.71735, std: 0.06080, params: {'n_estimators': 480},\n",
       "  mean: 0.71713, std: 0.06058, params: {'n_estimators': 490},\n",
       "  mean: 0.71713, std: 0.06058, params: {'n_estimators': 500},\n",
       "  mean: 0.71713, std: 0.06058, params: {'n_estimators': 510},\n",
       "  mean: 0.71713, std: 0.06058, params: {'n_estimators': 520},\n",
       "  mean: 0.71713, std: 0.06058, params: {'n_estimators': 530},\n",
       "  mean: 0.71713, std: 0.06058, params: {'n_estimators': 540},\n",
       "  mean: 0.71713, std: 0.06058, params: {'n_estimators': 550},\n",
       "  mean: 0.71671, std: 0.06071, params: {'n_estimators': 560},\n",
       "  mean: 0.71671, std: 0.06071, params: {'n_estimators': 570},\n",
       "  mean: 0.71671, std: 0.06071, params: {'n_estimators': 580},\n",
       "  mean: 0.71713, std: 0.06117, params: {'n_estimators': 590},\n",
       "  mean: 0.71713, std: 0.06117, params: {'n_estimators': 600},\n",
       "  mean: 0.71713, std: 0.06117, params: {'n_estimators': 610},\n",
       "  mean: 0.71713, std: 0.06117, params: {'n_estimators': 620},\n",
       "  mean: 0.71713, std: 0.06117, params: {'n_estimators': 630},\n",
       "  mean: 0.71713, std: 0.06117, params: {'n_estimators': 640},\n",
       "  mean: 0.71713, std: 0.06117, params: {'n_estimators': 650},\n",
       "  mean: 0.71713, std: 0.06117, params: {'n_estimators': 660},\n",
       "  mean: 0.71713, std: 0.06117, params: {'n_estimators': 670},\n",
       "  mean: 0.71713, std: 0.06117, params: {'n_estimators': 680},\n",
       "  mean: 0.71713, std: 0.06117, params: {'n_estimators': 690},\n",
       "  mean: 0.71713, std: 0.06117, params: {'n_estimators': 700},\n",
       "  mean: 0.71713, std: 0.06117, params: {'n_estimators': 710},\n",
       "  mean: 0.71713, std: 0.06117, params: {'n_estimators': 720},\n",
       "  mean: 0.71734, std: 0.06128, params: {'n_estimators': 730},\n",
       "  mean: 0.71734, std: 0.06128, params: {'n_estimators': 740},\n",
       "  mean: 0.71734, std: 0.06128, params: {'n_estimators': 750},\n",
       "  mean: 0.71734, std: 0.06128, params: {'n_estimators': 760},\n",
       "  mean: 0.71734, std: 0.06128, params: {'n_estimators': 770},\n",
       "  mean: 0.71734, std: 0.06128, params: {'n_estimators': 780},\n",
       "  mean: 0.71734, std: 0.06128, params: {'n_estimators': 790},\n",
       "  mean: 0.71734, std: 0.06128, params: {'n_estimators': 800},\n",
       "  mean: 0.71734, std: 0.06128, params: {'n_estimators': 810},\n",
       "  mean: 0.71734, std: 0.06128, params: {'n_estimators': 820},\n",
       "  mean: 0.71734, std: 0.06128, params: {'n_estimators': 830},\n",
       "  mean: 0.71734, std: 0.06128, params: {'n_estimators': 840},\n",
       "  mean: 0.71734, std: 0.06128, params: {'n_estimators': 850},\n",
       "  mean: 0.71734, std: 0.06128, params: {'n_estimators': 860},\n",
       "  mean: 0.71734, std: 0.06128, params: {'n_estimators': 870},\n",
       "  mean: 0.71734, std: 0.06128, params: {'n_estimators': 880},\n",
       "  mean: 0.71734, std: 0.06128, params: {'n_estimators': 890},\n",
       "  mean: 0.71734, std: 0.06128, params: {'n_estimators': 900},\n",
       "  mean: 0.71734, std: 0.06128, params: {'n_estimators': 910},\n",
       "  mean: 0.71734, std: 0.06128, params: {'n_estimators': 920},\n",
       "  mean: 0.71734, std: 0.06128, params: {'n_estimators': 930},\n",
       "  mean: 0.71734, std: 0.06128, params: {'n_estimators': 940},\n",
       "  mean: 0.71734, std: 0.06128, params: {'n_estimators': 950},\n",
       "  mean: 0.71734, std: 0.06128, params: {'n_estimators': 960},\n",
       "  mean: 0.71734, std: 0.06128, params: {'n_estimators': 970},\n",
       "  mean: 0.71734, std: 0.06128, params: {'n_estimators': 980},\n",
       "  mean: 0.71734, std: 0.06128, params: {'n_estimators': 990}],\n",
       " {'n_estimators': 150},\n",
       " 0.7357945552389997)"
      ]
     },
     "execution_count": 69,
     "metadata": {},
     "output_type": "execute_result"
    }
   ],
   "source": [
    "gsearch1.grid_scores_, gsearch1.best_params_, gsearch1.best_score_"
   ]
  },
  {
   "cell_type": "code",
   "execution_count": 70,
   "metadata": {},
   "outputs": [
    {
     "data": {
      "text/plain": [
       "([mean: 0.75462, std: 0.06743, params: {'max_depth': 1},\n",
       "  mean: 0.73435, std: 0.08690, params: {'max_depth': 2},\n",
       "  mean: 0.72005, std: 0.06242, params: {'max_depth': 3},\n",
       "  mean: 0.72869, std: 0.08195, params: {'max_depth': 4},\n",
       "  mean: 0.73579, std: 0.05640, params: {'max_depth': 5},\n",
       "  mean: 0.73115, std: 0.06989, params: {'max_depth': 6},\n",
       "  mean: 0.73115, std: 0.06989, params: {'max_depth': 7},\n",
       "  mean: 0.73115, std: 0.06989, params: {'max_depth': 8},\n",
       "  mean: 0.73115, std: 0.06989, params: {'max_depth': 9},\n",
       "  mean: 0.73115, std: 0.06989, params: {'max_depth': 10},\n",
       "  mean: 0.73115, std: 0.06989, params: {'max_depth': 11},\n",
       "  mean: 0.73115, std: 0.06989, params: {'max_depth': 12},\n",
       "  mean: 0.73115, std: 0.06989, params: {'max_depth': 13},\n",
       "  mean: 0.73115, std: 0.06989, params: {'max_depth': 14},\n",
       "  mean: 0.73115, std: 0.06989, params: {'max_depth': 15},\n",
       "  mean: 0.73115, std: 0.06989, params: {'max_depth': 16},\n",
       "  mean: 0.73115, std: 0.06989, params: {'max_depth': 17},\n",
       "  mean: 0.73115, std: 0.06989, params: {'max_depth': 18},\n",
       "  mean: 0.73115, std: 0.06989, params: {'max_depth': 19},\n",
       "  mean: 0.73115, std: 0.06989, params: {'max_depth': 20},\n",
       "  mean: 0.73115, std: 0.06989, params: {'max_depth': 21},\n",
       "  mean: 0.73115, std: 0.06989, params: {'max_depth': 22},\n",
       "  mean: 0.73115, std: 0.06989, params: {'max_depth': 23},\n",
       "  mean: 0.73115, std: 0.06989, params: {'max_depth': 24},\n",
       "  mean: 0.73115, std: 0.06989, params: {'max_depth': 25},\n",
       "  mean: 0.73115, std: 0.06989, params: {'max_depth': 26},\n",
       "  mean: 0.73115, std: 0.06989, params: {'max_depth': 27},\n",
       "  mean: 0.73115, std: 0.06989, params: {'max_depth': 28},\n",
       "  mean: 0.73115, std: 0.06989, params: {'max_depth': 29},\n",
       "  mean: 0.73115, std: 0.06989, params: {'max_depth': 30},\n",
       "  mean: 0.73115, std: 0.06989, params: {'max_depth': 31},\n",
       "  mean: 0.73115, std: 0.06989, params: {'max_depth': 32},\n",
       "  mean: 0.73115, std: 0.06989, params: {'max_depth': 33},\n",
       "  mean: 0.73115, std: 0.06989, params: {'max_depth': 34},\n",
       "  mean: 0.73115, std: 0.06989, params: {'max_depth': 35},\n",
       "  mean: 0.73115, std: 0.06989, params: {'max_depth': 36},\n",
       "  mean: 0.73115, std: 0.06989, params: {'max_depth': 37},\n",
       "  mean: 0.73115, std: 0.06989, params: {'max_depth': 38},\n",
       "  mean: 0.73115, std: 0.06989, params: {'max_depth': 39},\n",
       "  mean: 0.73115, std: 0.06989, params: {'max_depth': 40},\n",
       "  mean: 0.73115, std: 0.06989, params: {'max_depth': 41},\n",
       "  mean: 0.73115, std: 0.06989, params: {'max_depth': 42},\n",
       "  mean: 0.73115, std: 0.06989, params: {'max_depth': 43},\n",
       "  mean: 0.73115, std: 0.06989, params: {'max_depth': 44},\n",
       "  mean: 0.73115, std: 0.06989, params: {'max_depth': 45},\n",
       "  mean: 0.73115, std: 0.06989, params: {'max_depth': 46},\n",
       "  mean: 0.73115, std: 0.06989, params: {'max_depth': 47},\n",
       "  mean: 0.73115, std: 0.06989, params: {'max_depth': 48},\n",
       "  mean: 0.73115, std: 0.06989, params: {'max_depth': 49},\n",
       "  mean: 0.73115, std: 0.06989, params: {'max_depth': 50},\n",
       "  mean: 0.73115, std: 0.06989, params: {'max_depth': 51},\n",
       "  mean: 0.73115, std: 0.06989, params: {'max_depth': 52},\n",
       "  mean: 0.73115, std: 0.06989, params: {'max_depth': 53},\n",
       "  mean: 0.73115, std: 0.06989, params: {'max_depth': 54},\n",
       "  mean: 0.73115, std: 0.06989, params: {'max_depth': 55},\n",
       "  mean: 0.73115, std: 0.06989, params: {'max_depth': 56},\n",
       "  mean: 0.73115, std: 0.06989, params: {'max_depth': 57},\n",
       "  mean: 0.73115, std: 0.06989, params: {'max_depth': 58},\n",
       "  mean: 0.73115, std: 0.06989, params: {'max_depth': 59},\n",
       "  mean: 0.73115, std: 0.06989, params: {'max_depth': 60},\n",
       "  mean: 0.73115, std: 0.06989, params: {'max_depth': 61},\n",
       "  mean: 0.73115, std: 0.06989, params: {'max_depth': 62},\n",
       "  mean: 0.73115, std: 0.06989, params: {'max_depth': 63},\n",
       "  mean: 0.73115, std: 0.06989, params: {'max_depth': 64},\n",
       "  mean: 0.73115, std: 0.06989, params: {'max_depth': 65},\n",
       "  mean: 0.73115, std: 0.06989, params: {'max_depth': 66},\n",
       "  mean: 0.73115, std: 0.06989, params: {'max_depth': 67},\n",
       "  mean: 0.73115, std: 0.06989, params: {'max_depth': 68},\n",
       "  mean: 0.73115, std: 0.06989, params: {'max_depth': 69},\n",
       "  mean: 0.73115, std: 0.06989, params: {'max_depth': 70},\n",
       "  mean: 0.73115, std: 0.06989, params: {'max_depth': 71},\n",
       "  mean: 0.73115, std: 0.06989, params: {'max_depth': 72},\n",
       "  mean: 0.73115, std: 0.06989, params: {'max_depth': 73},\n",
       "  mean: 0.73115, std: 0.06989, params: {'max_depth': 74},\n",
       "  mean: 0.73115, std: 0.06989, params: {'max_depth': 75},\n",
       "  mean: 0.73115, std: 0.06989, params: {'max_depth': 76},\n",
       "  mean: 0.73115, std: 0.06989, params: {'max_depth': 77},\n",
       "  mean: 0.73115, std: 0.06989, params: {'max_depth': 78},\n",
       "  mean: 0.73115, std: 0.06989, params: {'max_depth': 79},\n",
       "  mean: 0.73115, std: 0.06989, params: {'max_depth': 80},\n",
       "  mean: 0.73115, std: 0.06989, params: {'max_depth': 81},\n",
       "  mean: 0.73115, std: 0.06989, params: {'max_depth': 82},\n",
       "  mean: 0.73115, std: 0.06989, params: {'max_depth': 83},\n",
       "  mean: 0.73115, std: 0.06989, params: {'max_depth': 84},\n",
       "  mean: 0.73115, std: 0.06989, params: {'max_depth': 85},\n",
       "  mean: 0.73115, std: 0.06989, params: {'max_depth': 86},\n",
       "  mean: 0.73115, std: 0.06989, params: {'max_depth': 87},\n",
       "  mean: 0.73115, std: 0.06989, params: {'max_depth': 88},\n",
       "  mean: 0.73115, std: 0.06989, params: {'max_depth': 89},\n",
       "  mean: 0.73115, std: 0.06989, params: {'max_depth': 90},\n",
       "  mean: 0.73115, std: 0.06989, params: {'max_depth': 91},\n",
       "  mean: 0.73115, std: 0.06989, params: {'max_depth': 92},\n",
       "  mean: 0.73115, std: 0.06989, params: {'max_depth': 93},\n",
       "  mean: 0.73115, std: 0.06989, params: {'max_depth': 94},\n",
       "  mean: 0.73115, std: 0.06989, params: {'max_depth': 95},\n",
       "  mean: 0.73115, std: 0.06989, params: {'max_depth': 96},\n",
       "  mean: 0.73115, std: 0.06989, params: {'max_depth': 97},\n",
       "  mean: 0.73115, std: 0.06989, params: {'max_depth': 98},\n",
       "  mean: 0.73115, std: 0.06989, params: {'max_depth': 99}],\n",
       " {'max_depth': 1},\n",
       " 0.7546217157328268)"
      ]
     },
     "execution_count": 70,
     "metadata": {},
     "output_type": "execute_result"
    }
   ],
   "source": [
    "#param_test2 = {'max_depth':np.arange(5,16,2), 'min_samples_split':np.arange(2,11,1)}\n",
    "param_test2 = {'max_depth':np.arange(1,100,1)}\n",
    "gsearch2 = GridSearchCV(estimator = GradientBoostingClassifier(learning_rate=0.2, n_estimators=150, max_features='sqrt', subsample=0.8, min_samples_split=2,min_samples_leaf=25,random_state=10), \n",
    "param_grid = param_test2, scoring='roc_auc',n_jobs=4,iid=False, cv=5)\n",
    "gsearch2.fit(X,y)\n",
    "gsearch2.grid_scores_, gsearch2.best_params_, gsearch2.best_score_"
   ]
  },
  {
   "cell_type": "code",
   "execution_count": 71,
   "metadata": {},
   "outputs": [
    {
     "name": "stdout",
     "output_type": "stream",
     "text": [
      "\n",
      "Model Report\n",
      "Accuracy : 0.9169\n",
      "AUC Score (Train): 0.968630\n",
      "CV Score : Mean - 0.7546217 | Std - 0.06743167 | Min - 0.6399177 | Max - 0.8504274\n"
     ]
    },
    {
     "data": {
      "image/png": "[encoded data removed]",
      "text/plain": [
       "<Figure size 1152x576 with 1 Axes>"
      ]
     },
     "metadata": {},
     "output_type": "display_data"
    }
   ],
   "source": [
    "modelfit(gsearch2.best_estimator_, X,y,predictors)"
   ]
  },
  {
   "cell_type": "code",
   "execution_count": 72,
   "metadata": {},
   "outputs": [
    {
     "data": {
      "text/plain": [
       "({'min_samples_leaf': 35, 'min_samples_split': 2}, 0.7728949034504591)"
      ]
     },
     "execution_count": 72,
     "metadata": {},
     "output_type": "execute_result"
    }
   ],
   "source": [
    "param_test3 = {'min_samples_split':np.arange(2,5,1), 'min_samples_leaf':np.arange(1,60,1)}\n",
    "gsearch3 = GridSearchCV(estimator = GradientBoostingClassifier(learning_rate=0.2, n_estimators=150,max_depth=1,max_features='sqrt', subsample=0.8, random_state=10), \n",
    "param_grid = param_test3, scoring='roc_auc',n_jobs=4,iid=False, cv=5)\n",
    "gsearch3.fit(X,y)\n",
    "#gsearch3.grid_scores_, gsearch3.best_params_, gsearch3.best_score_\n",
    "gsearch3.best_params_, gsearch3.best_score_\n"
   ]
  },
  {
   "cell_type": "code",
   "execution_count": 74,
   "metadata": {},
   "outputs": [
    {
     "name": "stdout",
     "output_type": "stream",
     "text": [
      "\n",
      "Model Report\n",
      "Accuracy : 0.9169\n",
      "AUC Score (Train): 0.968630\n",
      "CV Score : Mean - 0.7546217 | Std - 0.06743167 | Min - 0.6399177 | Max - 0.8504274\n"
     ]
    },
    {
     "data": {
      "image/png": "[encoded data removed]",
      "text/plain": [
       "<Figure size 1152x576 with 1 Axes>"
      ]
     },
     "metadata": {},
     "output_type": "display_data"
    }
   ],
   "source": [
    "modelfit(gsearch2.best_estimator_, X,y,predictors)"
   ]
  },
  {
   "cell_type": "code",
   "execution_count": 75,
   "metadata": {},
   "outputs": [
    {
     "data": {
      "text/plain": [
       "({'max_features': 13}, 0.77514245014245)"
      ]
     },
     "execution_count": 75,
     "metadata": {},
     "output_type": "execute_result"
    }
   ],
   "source": [
    "param_test4 = {'max_features':np.arange(1,59,1)}\n",
    "gsearch4 = GridSearchCV(estimator = GradientBoostingClassifier(learning_rate=0.2, n_estimators=150,max_depth=1, min_samples_split=2, min_samples_leaf=35, subsample=0.8, random_state=10),\n",
    "param_grid = param_test4, scoring='roc_auc',n_jobs=4,iid=False, cv=5)\n",
    "gsearch4.fit(X,y)\n",
    "#gsearch4.grid_scores_, gsearch4.best_params_, gsearch4.best_score_\n",
    "gsearch4.best_params_, gsearch4.best_score_"
   ]
  },
  {
   "cell_type": "code",
   "execution_count": 57,
   "metadata": {},
   "outputs": [
    {
     "name": "stdout",
     "output_type": "stream",
     "text": [
      "\n",
      "Model Report\n",
      "Accuracy : 0.9233\n",
      "AUC Score (Train): 0.976859\n",
      "CV Score : Mean - 0.7468107 | Std - 0.0701918 | Min - 0.622428 | Max - 0.840812\n"
     ]
    },
    {
     "data": {
      "image/png": "[encoded data removed]",
      "text/plain": [
       "<Figure size 1152x576 with 1 Axes>"
      ]
     },
     "metadata": {},
     "output_type": "display_data"
    }
   ],
   "source": [
    "modelfit(gsearch2.best_estimator_, X,y,predictors)"
   ]
  },
  {
   "cell_type": "code",
   "execution_count": 76,
   "metadata": {},
   "outputs": [
    {
     "data": {
      "text/plain": [
       "([mean: 0.74776, std: 0.06305, params: {'subsample': 0.6},\n",
       "  mean: 0.76138, std: 0.05157, params: {'subsample': 0.7},\n",
       "  mean: 0.77183, std: 0.07381, params: {'subsample': 0.75},\n",
       "  mean: 0.77514, std: 0.07237, params: {'subsample': 0.8},\n",
       "  mean: 0.75563, std: 0.05332, params: {'subsample': 0.85},\n",
       "  mean: 0.76351, std: 0.05427, params: {'subsample': 0.9},\n",
       "  mean: 0.74312, std: 0.06910, params: {'subsample': 0.95}],\n",
       " {'subsample': 0.8},\n",
       " 0.77514245014245)"
      ]
     },
     "execution_count": 76,
     "metadata": {},
     "output_type": "execute_result"
    }
   ],
   "source": [
    "param_test5 = {'subsample':[0.6,0.7,0.75,0.8,0.85,0.9,0.95]}\n",
    "gsearch5 = GridSearchCV(estimator = GradientBoostingClassifier(learning_rate=0.2, n_estimators=150,max_depth=1, min_samples_split=2, min_samples_leaf=35, subsample=0.8,max_features=13, random_state=10),\n",
    "param_grid = param_test5, scoring='roc_auc',n_jobs=4,iid=False, cv=5)\n",
    "gsearch5.fit(X,y)\n",
    "gsearch5.grid_scores_, gsearch5.best_params_, gsearch5.best_score_"
   ]
  },
  {
   "cell_type": "code",
   "execution_count": 119,
   "metadata": {},
   "outputs": [
    {
     "name": "stdout",
     "output_type": "stream",
     "text": [
      "Accuracy: 0.713\n",
      "Sensitivity: 0.662\n",
      "Prec: 0.666\n",
      "F1: 0.659\n",
      "AUC: 0.750\n"
     ]
    }
   ],
   "source": [
    "from sklearn.ensemble import GradientBoostingClassifier\n",
    "from sklearn.model_selection import cross_val_score\n",
    "#import pdb\n",
    "#pdb.set_trace()\n",
    "#gbm_tuned_1= GradientBoostingClassifier(criterion='friedman_mse', init=None,\n",
    " #             learning_rate=0.2, n_estimators=80,max_depth=5,min_samples_split=11,min_samples_leaf=4, subsample=0.8, random_state=10, \n",
    "  #                                max_features=7,warm_start=False)\n",
    "gbm_tuned_1= GradientBoostingClassifier(criterion='friedman_mse', init=None,\n",
    "              learning_rate=0.2, n_estimators=290,max_depth=1, min_samples_split=2,min_samples_leaf=31, subsample=0.8, random_state=10, \n",
    "                                  max_features=15,warm_start=False)\n",
    "\n",
    "#gbm_tuned_1=GradientBoostingClassifier(random_state=10) gives poorer results than tuned gbm\n",
    "Acc=cross_val_score(gbm_tuned_1, X, y, scoring='accuracy',\n",
    "          cv=5)\n",
    " \n",
    "print('Accuracy: %.3f' % Acc.mean() )\n",
    "\n",
    "Sen=cross_val_score(gbm_tuned_1, X, y, scoring='recall',\n",
    "          cv=5)\n",
    "Sen.mean()  \n",
    "print('Sensitivity: %.3f' % Sen.mean() )\n",
    "Prec=cross_val_score(gbm_tuned_1, X, y, scoring='precision',\n",
    "          cv=5)\n",
    "Prec.mean()  \n",
    "print('Prec: %.3f' % Prec.mean() )\n",
    "F1=cross_val_score(gbm_tuned_1, X, y, scoring='f1',\n",
    "          cv=5)\n",
    "F1.mean()  \n",
    "print('F1: %.3f' % F1.mean() )\n",
    "AUC=cross_val_score(gbm_tuned_1, X, y, scoring='roc_auc',\n",
    "          cv=5)\n",
    "AUC.mean()  \n",
    "print('AUC: %.3f' % AUC.mean() )"
   ]
  },
  {
   "cell_type": "code",
   "execution_count": 117,
   "metadata": {},
   "outputs": [],
   "source": [
    "#'accuracy', 'adjusted_mutual_info_score', 'adjusted_rand_score',\n",
    "#'average_precision', 'completeness_score', 'explained_variance', 'f1', 'f1_macro', \n",
    "#'f1_micro', 'f1_samples', 'f1_weighted', 'fowlkes_mallows_score', 'homogeneity_score',\n",
    "#'mutual_info_score', 'neg_log_loss', 'neg_mean_absolute_error', 'neg_mean_squared_error',\n",
    "#'neg_mean_squared_log_error', 'neg_median_absolute_error', 'normalized_mutual_info_score', 'precision', \n",
    "#'precision_macro', 'precision_micro', 'precision_samples', 'precision_weighted', \n",
    "#'r2', 'recall', 'recall_macro', 'recall_micro', 'recall_samples', 'recall_weighted', 'roc_auc', 'v_measure_score'"
   ]
  },
  {
   "cell_type": "code",
   "execution_count": 118,
   "metadata": {
    "scrolled": true
   },
   "outputs": [
    {
     "name": "stdout",
     "output_type": "stream",
     "text": [
      "tp: 16.200\n",
      "\n",
      "\n",
      "tn: 26.200\n",
      "\n",
      "\n",
      "fp: 9.800\n",
      "\n",
      "\n",
      "fn: 10.400\n",
      "\n",
      "\n",
      "Specificity: 0.728\n",
      "MCC:0.338\n"
     ]
    }
   ],
   "source": [
    "from sklearn.model_selection import cross_validate\n",
    "from sklearn.metrics import confusion_matrix\n",
    "from sklearn.metrics import make_scorer\n",
    "import math\n",
    "\n",
    "def tn(y_true, y_pred): return confusion_matrix(y_true, y_pred)[0, 0]\n",
    "def fp(y_true, y_pred): return confusion_matrix(y_true, y_pred)[0, 1]\n",
    "def fn(y_true, y_pred): return confusion_matrix(y_true, y_pred)[1, 0]\n",
    "def tp(y_true, y_pred): return confusion_matrix(y_true, y_pred)[1, 1]\n",
    "\n",
    "scoring = {'tp': make_scorer(tp), 'tn': make_scorer(tn),\n",
    "           'fp': make_scorer(fp), 'fn': make_scorer(fn)}\n",
    "cv_results = cross_validate(gbm_tuned_1.fit(X, y), X, y,\n",
    "                           scoring=scoring, cv=5)\n",
    "tp=cv_results['test_tp'].mean()\n",
    "fp=cv_results['test_fp'].mean()\n",
    "tn=cv_results['test_tn'].mean()\n",
    "fn=cv_results['test_fn'].mean()\n",
    "print('tp: %.3f' % tp)\n",
    "print('\\n')\n",
    "print('tn: %.3f' % tn)\n",
    "print('\\n')\n",
    "print('fp: %.3f' % fp)\n",
    "print('\\n')\n",
    "print('fn: %.3f' % fn)\n",
    "print('\\n')\n",
    "\n",
    "specificity=tn/(tn+fp)\n",
    "print('Specificity: %.3f' %specificity)\n",
    "\n",
    "MCC= (tp*tn-fp*fn)/(math.sqrt((tp+fp)*(tp+fn)*(tn+fp)*(tn+fn)))\n",
    "print('MCC:%.3f' %MCC)"
   ]
  },
  {
   "cell_type": "code",
   "execution_count": 114,
   "metadata": {},
   "outputs": [],
   "source": [
    "from sklearn.metrics import roc_auc_score\n",
    "from sklearn.metrics import roc_curve\n",
    "\n",
    "predictors = [x for x in X.columns]\n",
    "#gbm_tuned_1 = GradientBoostingClassifier(learning_rate=0.2, n_estimators=40, max_features=55, subsample=0.7,max_depth=5,min_samples_split=12,min_samples_leaf=5, random_state=10,warm_start=False)\n",
    "gbm_tuned_1= GradientBoostingClassifier(criterion='friedman_mse', init=None,\n",
    "              learning_rate=0.25, n_estimators=1500,max_depth=1, min_samples_split=2,min_samples_leaf=31, subsample=0.9, random_state=10, \n",
    "                                  max_features=7,warm_start=False)\n",
    "\n",
    "\n",
    "\n",
    "\n",
    "gbm_tuned_1.fit(X,y)\n",
    "\n",
    "\n",
    "y_test_pred = gbm_tuned_1.predict(X_test) \n",
    "svm_roc_auc = roc_auc_score(y_test, y_test_pred)"
   ]
  },
  {
   "cell_type": "code",
   "execution_count": 115,
   "metadata": {},
   "outputs": [
    {
     "name": "stdout",
     "output_type": "stream",
     "text": [
      "Accuracy of GTB classifier: 0.71\n",
      "\n",
      "\n",
      "Confusion matrix : \n",
      "                    Class 1  Class 0\n",
      "Predicted Class 1       64       13\n",
      "Predicted Class 0       23       26\n",
      "\n",
      "\n",
      "\n",
      "\n",
      "[[64 13]\n",
      " [23 26]]\n",
      "Specificity : 0.6153846153846154\n",
      "\n",
      "\n",
      "Precision score: 0.5306122448979592\n",
      "\n",
      "\n",
      "Recall or Sensitivity: 0.6666666666666666\n",
      "\n",
      "\n",
      "F1 Score: 0.5909090909090909\n",
      "\n",
      "\n",
      "Matthews Correlation Coefficient: 0.3815024391289687\n",
      "\n",
      "\n",
      "AUC: 0.714\n",
      "\n",
      "\n"
     ]
    }
   ],
   "source": [
    "from sklearn.metrics import confusion_matrix \n",
    "print('Accuracy of GTB classifier: {:.2f}'.format(gbm_tuned_1.score(X_test, y_test)))\n",
    "print('\\n')\n",
    "confusion_df = pd.DataFrame(confusion_matrix(y_test,y_test_pred),\n",
    "             columns=[\"Predicted Class \" + str(class_name) for class_name in [1,0]],\n",
    "             index = [\"Class \" + str(class_name) for class_name in [1,0]])\n",
    "\n",
    "print('Confusion matrix : \\n',confusion_df.T)\n",
    "print('\\n')\n",
    "\n",
    "\n",
    "cm1 = confusion_matrix(y_test, y_test_pred).T\n",
    "print('\\n')\n",
    "total1=sum(sum(cm1))\n",
    "print(cm1)\n",
    "#####from confusion matrix calculate sensitivity specificity\n",
    "\n",
    "tn=confusion_matrix(y_test, y_test_pred)[0, 0]\n",
    "fp=confusion_matrix(y_test, y_test_pred)[0, 1]\n",
    "fn=confusion_matrix(y_test, y_test_pred)[1, 0]\n",
    "tp=confusion_matrix(y_test, y_test_pred)[1, 1]\n",
    "#sensitivity1=tp/(tp+fn)\n",
    "\n",
    "#print('Sensitivity :', sensitivity1 )\n",
    "#print('\\n')\n",
    "\n",
    "specificity=tn/(tn+fp)\n",
    "print('Specificity :', specificity1)\n",
    "print('\\n')\n",
    "#precision=tp/(tp+fp)\n",
    "#precision = cm1[0,0]/(cm1[0,0]+cm1[0,1])\n",
    "#print('precision :', precision)\n",
    "#print('\\n')\n",
    "from sklearn.metrics import precision_score\n",
    "print(\"Precision score: {}\".format(precision_score(y_test,y_test_pred)))\n",
    "print('\\n')\n",
    "from sklearn.metrics import recall_score\n",
    "print(\"Recall or Sensitivity: {}\".format(recall_score(y_test,y_test_pred)))\n",
    "print('\\n')\n",
    "from sklearn.metrics import f1_score\n",
    "print(\"F1 Score: {}\".format(f1_score(y_test,y_test_pred)))\n",
    "print('\\n')\n",
    "from sklearn.metrics import matthews_corrcoef\n",
    "print(\"Matthews Correlation Coefficient: {}\".format(matthews_corrcoef(y_test, y_test_pred)))\n",
    "print('\\n')\n",
    "##Area under Curve-AUC\n",
    "auc = roc_auc_score(y_test, gbm_tuned_1.predict_proba(X_test)[:,1])\n",
    "print('AUC: %.3f' % auc)\n",
    "print('\\n')"
   ]
  },
  {
   "cell_type": "code",
   "execution_count": null,
   "metadata": {},
   "outputs": [],
   "source": []
  },
  {
   "cell_type": "code",
   "execution_count": null,
   "metadata": {},
   "outputs": [],
   "source": []
  }
 ],
 "metadata": {
  "kernelspec": {
   "display_name": "Python 3",
   "language": "python",
   "name": "python3"
  },
  "language_info": {
   "codemirror_mode": {
    "name": "ipython",
    "version": 3
   },
   "file_extension": ".py",
   "mimetype": "text/x-python",
   "name": "python",
   "nbconvert_exporter": "python",
   "pygments_lexer": "ipython3",
   "version": "3.6.5"
  }
 },
 "nbformat": 4,
 "nbformat_minor": 2
}
