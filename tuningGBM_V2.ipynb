{
 "cells": [
  {
   "cell_type": "code",
   "execution_count": 1,
   "metadata": {},
   "outputs": [
    {
     "name": "stderr",
     "output_type": "stream",
     "text": [
      "/anaconda3/lib/python3.6/site-packages/sklearn/cross_validation.py:41: DeprecationWarning: This module was deprecated in version 0.18 in favor of the model_selection module into which all the refactored classes and functions are moved. Also note that the interface of the new CV iterators are different from that of this module. This module will be removed in 0.20.\n",
      "  \"This module will be removed in 0.20.\", DeprecationWarning)\n",
      "/anaconda3/lib/python3.6/site-packages/sklearn/grid_search.py:42: DeprecationWarning: This module was deprecated in version 0.18 in favor of the model_selection module into which all the refactored classes and functions are moved. This module will be removed in 0.20.\n",
      "  DeprecationWarning)\n"
     ]
    }
   ],
   "source": [
    "\n",
    "#Import libraries:\n",
    "import pandas as pd\n",
    "import numpy as np\n",
    "import os\n",
    "from sklearn.ensemble import GradientBoostingClassifier  #GBM algorithm\n",
    "from sklearn import cross_validation, metrics   #Additional scklearn functions\n",
    "from sklearn.grid_search import GridSearchCV   #Perforing grid search\n",
    "\n",
    "import matplotlib.pylab as plt\n",
    "%matplotlib inline\n",
    "from matplotlib.pylab import rcParams\n",
    "rcParams['figure.figsize'] = (16, 8)\n",
    "import matlab.engine\n"
   ]
  },
  {
   "cell_type": "code",
   "execution_count": null,
   "metadata": {},
   "outputs": [],
   "source": [
    "#ran=1;%for GBM\n",
    "#ran=35;%for KNN\n",
    "#Please manually change in Matlab code reading_hotspot2Data_v3\n",
    "os.getcwd()\n",
    "os.chdir('/Users/sitani/Desktop/CS_final_codes/workonhotspots/')\n",
    "eng = matlab.engine.start_matlab()\n",
    "eng.reading_hotspot2Data_v3(nargout=0)\n",
    "os.chdir('/Users/sitani/Desktop/CS_final_codes/workonhotspots/FinalCodesForPublication/')\n",
    "os.getcwd()"
   ]
  },
  {
   "cell_type": "code",
   "execution_count": null,
   "metadata": {},
   "outputs": [],
   "source": [
    "eng.quit()"
   ]
  },
  {
   "cell_type": "code",
   "execution_count": 2,
   "metadata": {},
   "outputs": [
    {
     "name": "stdout",
     "output_type": "stream",
     "text": [
      "(250, 58)\n",
      "(63, 58)\n",
      "(250,)\n",
      "(63,)\n"
     ]
    }
   ],
   "source": [
    "X=pd.read_csv('Atrain_whole.csv',header=None)\n",
    "y=pd.read_csv('label_whole.csv',header=None)\n",
    "\n",
    "X_train = pd.read_csv('Atrain2.csv',header=None)\n",
    "X_valid = pd.read_csv('Avalid2.csv',header=None)\n",
    "\n",
    "y_train=pd.read_csv('label_train2.csv',header=None)\n",
    "y_valid=pd.read_csv('label_valid2.csv',header=None)\n",
    "\n",
    "X_test=pd.read_csv('Atest2.csv',header=None)\n",
    "y_test=pd.read_csv('label_test2.csv',header=None)\n",
    "\n",
    "X_train=X_train.T#transpose\n",
    "X_valid=X_valid.T\n",
    "X=X.T\n",
    "X_test=X_test.T\n",
    "\n",
    "y_train=y_train.values.ravel()\n",
    "y_valid=y_valid.values.ravel()\n",
    "y=y.values.ravel()\n",
    "y_test=y_test.values.ravel()\n",
    "\n",
    "print(X_train.shape)\n",
    "print(X_valid.shape)\n",
    "print(y_train.shape)\n",
    "print(y_valid.shape)"
   ]
  },
  {
   "cell_type": "code",
   "execution_count": 3,
   "metadata": {},
   "outputs": [
    {
     "name": "stderr",
     "output_type": "stream",
     "text": [
      "/anaconda3/lib/python3.6/site-packages/sklearn/preprocessing/label.py:151: DeprecationWarning: The truth value of an empty array is ambiguous. Returning False, but in future this will result in an error. Use `array.size > 0` to check that an array is not empty.\n",
      "  if diff:\n",
      "/anaconda3/lib/python3.6/site-packages/sklearn/preprocessing/label.py:151: DeprecationWarning: The truth value of an empty array is ambiguous. Returning False, but in future this will result in an error. Use `array.size > 0` to check that an array is not empty.\n",
      "  if diff:\n"
     ]
    },
    {
     "name": "stdout",
     "output_type": "stream",
     "text": [
      "Accuracy: 73.81%\n",
      "Thresh=0.000, n=58, Accuracy: 73.81%\n"
     ]
    },
    {
     "name": "stderr",
     "output_type": "stream",
     "text": [
      "/anaconda3/lib/python3.6/site-packages/sklearn/preprocessing/label.py:151: DeprecationWarning: The truth value of an empty array is ambiguous. Returning False, but in future this will result in an error. Use `array.size > 0` to check that an array is not empty.\n",
      "  if diff:\n",
      "/anaconda3/lib/python3.6/site-packages/sklearn/preprocessing/label.py:151: DeprecationWarning: The truth value of an empty array is ambiguous. Returning False, but in future this will result in an error. Use `array.size > 0` to check that an array is not empty.\n",
      "  if diff:\n"
     ]
    },
    {
     "name": "stdout",
     "output_type": "stream",
     "text": [
      "Thresh=0.000, n=58, Accuracy: 73.81%\n",
      "Thresh=0.000, n=58, Accuracy: 73.81%\n"
     ]
    },
    {
     "name": "stderr",
     "output_type": "stream",
     "text": [
      "/anaconda3/lib/python3.6/site-packages/sklearn/preprocessing/label.py:151: DeprecationWarning: The truth value of an empty array is ambiguous. Returning False, but in future this will result in an error. Use `array.size > 0` to check that an array is not empty.\n",
      "  if diff:\n",
      "/anaconda3/lib/python3.6/site-packages/sklearn/preprocessing/label.py:151: DeprecationWarning: The truth value of an empty array is ambiguous. Returning False, but in future this will result in an error. Use `array.size > 0` to check that an array is not empty.\n",
      "  if diff:\n"
     ]
    },
    {
     "name": "stdout",
     "output_type": "stream",
     "text": [
      "Thresh=0.004, n=55, Accuracy: 73.81%\n",
      "Thresh=0.006, n=54, Accuracy: 72.22%\n"
     ]
    },
    {
     "name": "stderr",
     "output_type": "stream",
     "text": [
      "/anaconda3/lib/python3.6/site-packages/sklearn/preprocessing/label.py:151: DeprecationWarning: The truth value of an empty array is ambiguous. Returning False, but in future this will result in an error. Use `array.size > 0` to check that an array is not empty.\n",
      "  if diff:\n",
      "/anaconda3/lib/python3.6/site-packages/sklearn/preprocessing/label.py:151: DeprecationWarning: The truth value of an empty array is ambiguous. Returning False, but in future this will result in an error. Use `array.size > 0` to check that an array is not empty.\n",
      "  if diff:\n"
     ]
    },
    {
     "name": "stdout",
     "output_type": "stream",
     "text": [
      "Thresh=0.007, n=53, Accuracy: 74.60%\n",
      "Thresh=0.008, n=52, Accuracy: 76.98%\n"
     ]
    },
    {
     "name": "stderr",
     "output_type": "stream",
     "text": [
      "/anaconda3/lib/python3.6/site-packages/sklearn/preprocessing/label.py:151: DeprecationWarning: The truth value of an empty array is ambiguous. Returning False, but in future this will result in an error. Use `array.size > 0` to check that an array is not empty.\n",
      "  if diff:\n",
      "/anaconda3/lib/python3.6/site-packages/sklearn/preprocessing/label.py:151: DeprecationWarning: The truth value of an empty array is ambiguous. Returning False, but in future this will result in an error. Use `array.size > 0` to check that an array is not empty.\n",
      "  if diff:\n",
      "/anaconda3/lib/python3.6/site-packages/sklearn/preprocessing/label.py:151: DeprecationWarning: The truth value of an empty array is ambiguous. Returning False, but in future this will result in an error. Use `array.size > 0` to check that an array is not empty.\n",
      "  if diff:\n"
     ]
    },
    {
     "name": "stdout",
     "output_type": "stream",
     "text": [
      "Thresh=0.008, n=51, Accuracy: 70.63%\n",
      "Thresh=0.009, n=50, Accuracy: 75.40%\n"
     ]
    },
    {
     "name": "stderr",
     "output_type": "stream",
     "text": [
      "/anaconda3/lib/python3.6/site-packages/sklearn/preprocessing/label.py:151: DeprecationWarning: The truth value of an empty array is ambiguous. Returning False, but in future this will result in an error. Use `array.size > 0` to check that an array is not empty.\n",
      "  if diff:\n",
      "/anaconda3/lib/python3.6/site-packages/sklearn/preprocessing/label.py:151: DeprecationWarning: The truth value of an empty array is ambiguous. Returning False, but in future this will result in an error. Use `array.size > 0` to check that an array is not empty.\n",
      "  if diff:\n"
     ]
    },
    {
     "name": "stdout",
     "output_type": "stream",
     "text": [
      "Thresh=0.009, n=49, Accuracy: 70.63%\n",
      "Thresh=0.009, n=48, Accuracy: 70.63%\n",
      "Thresh=0.010, n=47, Accuracy: 72.22%\n",
      "Thresh=0.010, n=46, Accuracy: 71.43%\n",
      "Thresh=0.010, n=45, Accuracy: 73.02%\n"
     ]
    },
    {
     "name": "stderr",
     "output_type": "stream",
     "text": [
      "/anaconda3/lib/python3.6/site-packages/sklearn/preprocessing/label.py:151: DeprecationWarning: The truth value of an empty array is ambiguous. Returning False, but in future this will result in an error. Use `array.size > 0` to check that an array is not empty.\n",
      "  if diff:\n",
      "/anaconda3/lib/python3.6/site-packages/sklearn/preprocessing/label.py:151: DeprecationWarning: The truth value of an empty array is ambiguous. Returning False, but in future this will result in an error. Use `array.size > 0` to check that an array is not empty.\n",
      "  if diff:\n",
      "/anaconda3/lib/python3.6/site-packages/sklearn/preprocessing/label.py:151: DeprecationWarning: The truth value of an empty array is ambiguous. Returning False, but in future this will result in an error. Use `array.size > 0` to check that an array is not empty.\n",
      "  if diff:\n"
     ]
    },
    {
     "name": "stdout",
     "output_type": "stream",
     "text": [
      "Thresh=0.011, n=44, Accuracy: 72.22%\n",
      "Thresh=0.011, n=43, Accuracy: 73.02%\n",
      "Thresh=0.012, n=42, Accuracy: 75.40%\n"
     ]
    },
    {
     "name": "stderr",
     "output_type": "stream",
     "text": [
      "/anaconda3/lib/python3.6/site-packages/sklearn/preprocessing/label.py:151: DeprecationWarning: The truth value of an empty array is ambiguous. Returning False, but in future this will result in an error. Use `array.size > 0` to check that an array is not empty.\n",
      "  if diff:\n",
      "/anaconda3/lib/python3.6/site-packages/sklearn/preprocessing/label.py:151: DeprecationWarning: The truth value of an empty array is ambiguous. Returning False, but in future this will result in an error. Use `array.size > 0` to check that an array is not empty.\n",
      "  if diff:\n",
      "/anaconda3/lib/python3.6/site-packages/sklearn/preprocessing/label.py:151: DeprecationWarning: The truth value of an empty array is ambiguous. Returning False, but in future this will result in an error. Use `array.size > 0` to check that an array is not empty.\n",
      "  if diff:\n"
     ]
    },
    {
     "name": "stdout",
     "output_type": "stream",
     "text": [
      "Thresh=0.013, n=41, Accuracy: 72.22%\n",
      "Thresh=0.013, n=40, Accuracy: 75.40%\n",
      "Thresh=0.013, n=39, Accuracy: 75.40%\n"
     ]
    },
    {
     "name": "stderr",
     "output_type": "stream",
     "text": [
      "/anaconda3/lib/python3.6/site-packages/sklearn/preprocessing/label.py:151: DeprecationWarning: The truth value of an empty array is ambiguous. Returning False, but in future this will result in an error. Use `array.size > 0` to check that an array is not empty.\n",
      "  if diff:\n",
      "/anaconda3/lib/python3.6/site-packages/sklearn/preprocessing/label.py:151: DeprecationWarning: The truth value of an empty array is ambiguous. Returning False, but in future this will result in an error. Use `array.size > 0` to check that an array is not empty.\n",
      "  if diff:\n",
      "/anaconda3/lib/python3.6/site-packages/sklearn/preprocessing/label.py:151: DeprecationWarning: The truth value of an empty array is ambiguous. Returning False, but in future this will result in an error. Use `array.size > 0` to check that an array is not empty.\n",
      "  if diff:\n"
     ]
    },
    {
     "name": "stdout",
     "output_type": "stream",
     "text": [
      "Thresh=0.014, n=38, Accuracy: 72.22%\n",
      "Thresh=0.014, n=37, Accuracy: 71.43%\n",
      "Thresh=0.014, n=36, Accuracy: 72.22%\n"
     ]
    },
    {
     "name": "stderr",
     "output_type": "stream",
     "text": [
      "/anaconda3/lib/python3.6/site-packages/sklearn/preprocessing/label.py:151: DeprecationWarning: The truth value of an empty array is ambiguous. Returning False, but in future this will result in an error. Use `array.size > 0` to check that an array is not empty.\n",
      "  if diff:\n",
      "/anaconda3/lib/python3.6/site-packages/sklearn/preprocessing/label.py:151: DeprecationWarning: The truth value of an empty array is ambiguous. Returning False, but in future this will result in an error. Use `array.size > 0` to check that an array is not empty.\n",
      "  if diff:\n",
      "/anaconda3/lib/python3.6/site-packages/sklearn/preprocessing/label.py:151: DeprecationWarning: The truth value of an empty array is ambiguous. Returning False, but in future this will result in an error. Use `array.size > 0` to check that an array is not empty.\n",
      "  if diff:\n"
     ]
    },
    {
     "name": "stdout",
     "output_type": "stream",
     "text": [
      "Thresh=0.014, n=35, Accuracy: 76.19%\n",
      "Thresh=0.015, n=34, Accuracy: 71.43%\n",
      "Thresh=0.016, n=33, Accuracy: 71.43%\n"
     ]
    },
    {
     "name": "stderr",
     "output_type": "stream",
     "text": [
      "/anaconda3/lib/python3.6/site-packages/sklearn/preprocessing/label.py:151: DeprecationWarning: The truth value of an empty array is ambiguous. Returning False, but in future this will result in an error. Use `array.size > 0` to check that an array is not empty.\n",
      "  if diff:\n",
      "/anaconda3/lib/python3.6/site-packages/sklearn/preprocessing/label.py:151: DeprecationWarning: The truth value of an empty array is ambiguous. Returning False, but in future this will result in an error. Use `array.size > 0` to check that an array is not empty.\n",
      "  if diff:\n",
      "/anaconda3/lib/python3.6/site-packages/sklearn/preprocessing/label.py:151: DeprecationWarning: The truth value of an empty array is ambiguous. Returning False, but in future this will result in an error. Use `array.size > 0` to check that an array is not empty.\n",
      "  if diff:\n"
     ]
    },
    {
     "name": "stdout",
     "output_type": "stream",
     "text": [
      "Thresh=0.016, n=32, Accuracy: 72.22%\n",
      "Thresh=0.016, n=31, Accuracy: 75.40%\n",
      "Thresh=0.016, n=30, Accuracy: 70.63%\n"
     ]
    },
    {
     "name": "stderr",
     "output_type": "stream",
     "text": [
      "/anaconda3/lib/python3.6/site-packages/sklearn/preprocessing/label.py:151: DeprecationWarning: The truth value of an empty array is ambiguous. Returning False, but in future this will result in an error. Use `array.size > 0` to check that an array is not empty.\n",
      "  if diff:\n",
      "/anaconda3/lib/python3.6/site-packages/sklearn/preprocessing/label.py:151: DeprecationWarning: The truth value of an empty array is ambiguous. Returning False, but in future this will result in an error. Use `array.size > 0` to check that an array is not empty.\n",
      "  if diff:\n",
      "/anaconda3/lib/python3.6/site-packages/sklearn/preprocessing/label.py:151: DeprecationWarning: The truth value of an empty array is ambiguous. Returning False, but in future this will result in an error. Use `array.size > 0` to check that an array is not empty.\n",
      "  if diff:\n"
     ]
    },
    {
     "name": "stdout",
     "output_type": "stream",
     "text": [
      "Thresh=0.016, n=29, Accuracy: 73.02%\n",
      "Thresh=0.016, n=28, Accuracy: 71.43%\n",
      "Thresh=0.017, n=27, Accuracy: 72.22%\n",
      "Thresh=0.017, n=26, Accuracy: 72.22%\n"
     ]
    },
    {
     "name": "stderr",
     "output_type": "stream",
     "text": [
      "/anaconda3/lib/python3.6/site-packages/sklearn/preprocessing/label.py:151: DeprecationWarning: The truth value of an empty array is ambiguous. Returning False, but in future this will result in an error. Use `array.size > 0` to check that an array is not empty.\n",
      "  if diff:\n",
      "/anaconda3/lib/python3.6/site-packages/sklearn/preprocessing/label.py:151: DeprecationWarning: The truth value of an empty array is ambiguous. Returning False, but in future this will result in an error. Use `array.size > 0` to check that an array is not empty.\n",
      "  if diff:\n",
      "/anaconda3/lib/python3.6/site-packages/sklearn/preprocessing/label.py:151: DeprecationWarning: The truth value of an empty array is ambiguous. Returning False, but in future this will result in an error. Use `array.size > 0` to check that an array is not empty.\n",
      "  if diff:\n",
      "/anaconda3/lib/python3.6/site-packages/sklearn/preprocessing/label.py:151: DeprecationWarning: The truth value of an empty array is ambiguous. Returning False, but in future this will result in an error. Use `array.size > 0` to check that an array is not empty.\n",
      "  if diff:\n"
     ]
    },
    {
     "name": "stdout",
     "output_type": "stream",
     "text": [
      "Thresh=0.017, n=25, Accuracy: 71.43%\n",
      "Thresh=0.018, n=24, Accuracy: 73.02%\n",
      "Thresh=0.018, n=23, Accuracy: 66.67%\n"
     ]
    },
    {
     "name": "stderr",
     "output_type": "stream",
     "text": [
      "/anaconda3/lib/python3.6/site-packages/sklearn/preprocessing/label.py:151: DeprecationWarning: The truth value of an empty array is ambiguous. Returning False, but in future this will result in an error. Use `array.size > 0` to check that an array is not empty.\n",
      "  if diff:\n",
      "/anaconda3/lib/python3.6/site-packages/sklearn/preprocessing/label.py:151: DeprecationWarning: The truth value of an empty array is ambiguous. Returning False, but in future this will result in an error. Use `array.size > 0` to check that an array is not empty.\n",
      "  if diff:\n",
      "/anaconda3/lib/python3.6/site-packages/sklearn/preprocessing/label.py:151: DeprecationWarning: The truth value of an empty array is ambiguous. Returning False, but in future this will result in an error. Use `array.size > 0` to check that an array is not empty.\n",
      "  if diff:\n",
      "/anaconda3/lib/python3.6/site-packages/sklearn/preprocessing/label.py:151: DeprecationWarning: The truth value of an empty array is ambiguous. Returning False, but in future this will result in an error. Use `array.size > 0` to check that an array is not empty.\n",
      "  if diff:\n"
     ]
    },
    {
     "name": "stdout",
     "output_type": "stream",
     "text": [
      "Thresh=0.018, n=22, Accuracy: 71.43%\n",
      "Thresh=0.018, n=21, Accuracy: 70.63%\n",
      "Thresh=0.019, n=20, Accuracy: 70.63%\n",
      "Thresh=0.019, n=19, Accuracy: 66.67%\n"
     ]
    },
    {
     "name": "stderr",
     "output_type": "stream",
     "text": [
      "/anaconda3/lib/python3.6/site-packages/sklearn/preprocessing/label.py:151: DeprecationWarning: The truth value of an empty array is ambiguous. Returning False, but in future this will result in an error. Use `array.size > 0` to check that an array is not empty.\n",
      "  if diff:\n",
      "/anaconda3/lib/python3.6/site-packages/sklearn/preprocessing/label.py:151: DeprecationWarning: The truth value of an empty array is ambiguous. Returning False, but in future this will result in an error. Use `array.size > 0` to check that an array is not empty.\n",
      "  if diff:\n",
      "/anaconda3/lib/python3.6/site-packages/sklearn/preprocessing/label.py:151: DeprecationWarning: The truth value of an empty array is ambiguous. Returning False, but in future this will result in an error. Use `array.size > 0` to check that an array is not empty.\n",
      "  if diff:\n",
      "/anaconda3/lib/python3.6/site-packages/sklearn/preprocessing/label.py:151: DeprecationWarning: The truth value of an empty array is ambiguous. Returning False, but in future this will result in an error. Use `array.size > 0` to check that an array is not empty.\n",
      "  if diff:\n",
      "/anaconda3/lib/python3.6/site-packages/sklearn/preprocessing/label.py:151: DeprecationWarning: The truth value of an empty array is ambiguous. Returning False, but in future this will result in an error. Use `array.size > 0` to check that an array is not empty.\n",
      "  if diff:\n"
     ]
    },
    {
     "name": "stdout",
     "output_type": "stream",
     "text": [
      "Thresh=0.020, n=18, Accuracy: 68.25%\n",
      "Thresh=0.021, n=17, Accuracy: 65.87%\n",
      "Thresh=0.022, n=16, Accuracy: 67.46%\n",
      "Thresh=0.022, n=15, Accuracy: 66.67%\n",
      "Thresh=0.023, n=14, Accuracy: 67.46%\n"
     ]
    },
    {
     "name": "stderr",
     "output_type": "stream",
     "text": [
      "/anaconda3/lib/python3.6/site-packages/sklearn/preprocessing/label.py:151: DeprecationWarning: The truth value of an empty array is ambiguous. Returning False, but in future this will result in an error. Use `array.size > 0` to check that an array is not empty.\n",
      "  if diff:\n",
      "/anaconda3/lib/python3.6/site-packages/sklearn/preprocessing/label.py:151: DeprecationWarning: The truth value of an empty array is ambiguous. Returning False, but in future this will result in an error. Use `array.size > 0` to check that an array is not empty.\n",
      "  if diff:\n",
      "/anaconda3/lib/python3.6/site-packages/sklearn/preprocessing/label.py:151: DeprecationWarning: The truth value of an empty array is ambiguous. Returning False, but in future this will result in an error. Use `array.size > 0` to check that an array is not empty.\n",
      "  if diff:\n",
      "/anaconda3/lib/python3.6/site-packages/sklearn/preprocessing/label.py:151: DeprecationWarning: The truth value of an empty array is ambiguous. Returning False, but in future this will result in an error. Use `array.size > 0` to check that an array is not empty.\n",
      "  if diff:\n",
      "/anaconda3/lib/python3.6/site-packages/sklearn/preprocessing/label.py:151: DeprecationWarning: The truth value of an empty array is ambiguous. Returning False, but in future this will result in an error. Use `array.size > 0` to check that an array is not empty.\n",
      "  if diff:\n",
      "/anaconda3/lib/python3.6/site-packages/sklearn/preprocessing/label.py:151: DeprecationWarning: The truth value of an empty array is ambiguous. Returning False, but in future this will result in an error. Use `array.size > 0` to check that an array is not empty.\n",
      "  if diff:\n"
     ]
    },
    {
     "name": "stdout",
     "output_type": "stream",
     "text": [
      "Thresh=0.023, n=13, Accuracy: 68.25%\n",
      "Thresh=0.023, n=12, Accuracy: 72.22%\n",
      "Thresh=0.025, n=11, Accuracy: 71.43%\n",
      "Thresh=0.026, n=10, Accuracy: 68.25%\n",
      "Thresh=0.026, n=9, Accuracy: 63.49%\n",
      "Thresh=0.027, n=8, Accuracy: 63.49%\n",
      "Thresh=0.028, n=7, Accuracy: 62.70%\n"
     ]
    },
    {
     "name": "stderr",
     "output_type": "stream",
     "text": [
      "/anaconda3/lib/python3.6/site-packages/sklearn/preprocessing/label.py:151: DeprecationWarning: The truth value of an empty array is ambiguous. Returning False, but in future this will result in an error. Use `array.size > 0` to check that an array is not empty.\n",
      "  if diff:\n",
      "/anaconda3/lib/python3.6/site-packages/sklearn/preprocessing/label.py:151: DeprecationWarning: The truth value of an empty array is ambiguous. Returning False, but in future this will result in an error. Use `array.size > 0` to check that an array is not empty.\n",
      "  if diff:\n",
      "/anaconda3/lib/python3.6/site-packages/sklearn/preprocessing/label.py:151: DeprecationWarning: The truth value of an empty array is ambiguous. Returning False, but in future this will result in an error. Use `array.size > 0` to check that an array is not empty.\n",
      "  if diff:\n",
      "/anaconda3/lib/python3.6/site-packages/sklearn/preprocessing/label.py:151: DeprecationWarning: The truth value of an empty array is ambiguous. Returning False, but in future this will result in an error. Use `array.size > 0` to check that an array is not empty.\n",
      "  if diff:\n",
      "/anaconda3/lib/python3.6/site-packages/sklearn/preprocessing/label.py:151: DeprecationWarning: The truth value of an empty array is ambiguous. Returning False, but in future this will result in an error. Use `array.size > 0` to check that an array is not empty.\n",
      "  if diff:\n",
      "/anaconda3/lib/python3.6/site-packages/sklearn/preprocessing/label.py:151: DeprecationWarning: The truth value of an empty array is ambiguous. Returning False, but in future this will result in an error. Use `array.size > 0` to check that an array is not empty.\n",
      "  if diff:\n",
      "/anaconda3/lib/python3.6/site-packages/sklearn/preprocessing/label.py:151: DeprecationWarning: The truth value of an empty array is ambiguous. Returning False, but in future this will result in an error. Use `array.size > 0` to check that an array is not empty.\n",
      "  if diff:\n",
      "/anaconda3/lib/python3.6/site-packages/sklearn/preprocessing/label.py:151: DeprecationWarning: The truth value of an empty array is ambiguous. Returning False, but in future this will result in an error. Use `array.size > 0` to check that an array is not empty.\n",
      "  if diff:\n",
      "/anaconda3/lib/python3.6/site-packages/sklearn/preprocessing/label.py:151: DeprecationWarning: The truth value of an empty array is ambiguous. Returning False, but in future this will result in an error. Use `array.size > 0` to check that an array is not empty.\n",
      "  if diff:\n"
     ]
    },
    {
     "name": "stdout",
     "output_type": "stream",
     "text": [
      "Thresh=0.029, n=6, Accuracy: 63.49%\n",
      "Thresh=0.029, n=5, Accuracy: 65.87%\n",
      "Thresh=0.029, n=4, Accuracy: 64.29%\n",
      "Thresh=0.035, n=3, Accuracy: 62.70%\n",
      "Thresh=0.042, n=2, Accuracy: 70.63%\n",
      "Thresh=0.060, n=1, Accuracy: 69.84%\n"
     ]
    },
    {
     "data": {
      "image/png": "[encoded data removed]",
      "text/plain": [
       "<Figure size 432x288 with 1 Axes>"
      ]
     },
     "metadata": {},
     "output_type": "display_data"
    },
    {
     "data": {
      "text/plain": [
       "0.7698412698412699"
      ]
     },
     "execution_count": 3,
     "metadata": {},
     "output_type": "execute_result"
    }
   ],
   "source": [
    "# use feature importance for feature selection\n",
    "from numpy import loadtxt\n",
    "from numpy import sort\n",
    "from xgboost import XGBClassifier\n",
    "from sklearn.model_selection import train_test_split\n",
    "from sklearn.metrics import accuracy_score\n",
    "from sklearn.metrics import recall_score\n",
    "from sklearn.feature_selection import SelectFromModel\n",
    "import matplotlib.pyplot as plt\n",
    "\n",
    "model = XGBClassifier()\n",
    "model.fit(X, y)\n",
    "# make predictions for test data and evaluate\n",
    "y_pred = model.predict(X_test)\n",
    "predictions = [round(value) for value in y_pred]\n",
    "accuracy = accuracy_score(y_test, predictions)\n",
    "print(\"Accuracy: %.2f%%\" % (accuracy * 100.0))\n",
    "# Fit model using each importance as a threshold\n",
    "thresholds = sort(model.feature_importances_)\n",
    "Accuracy_arr=np.array([])\n",
    "Recall_arr=np.array([])\n",
    "for thresh in thresholds:\n",
    "    # select features using threshold\n",
    "    selection = SelectFromModel(model, threshold=thresh, prefit=True) \n",
    "    select_X = selection.transform(X) \n",
    "    # train model\n",
    "    selection_model = XGBClassifier()\n",
    "    selection_model.fit(select_X, y)\n",
    "    # eval model\n",
    "    select_X_test = selection.transform(X_test)\n",
    "    y_pred = selection_model.predict(select_X_test)\n",
    "    predictions = [round(value) for value in y_pred]\n",
    "    accuracy = accuracy_score(y_test, predictions)\n",
    "    recall=recall_score(y_test, predictions)\n",
    "    Recall_arr=np.append(Recall_arr,recall)\n",
    "    Accuracy_arr=np.append(Accuracy_arr, accuracy)\n",
    "    print(\"Thresh=%.3f, n=%d, Accuracy: %.2f%%\" % (thresh, select_X.shape[1], accuracy*100.0))\n",
    "plt.plot(thresholds,Accuracy_arr) \n",
    "plt.plot(thresholds,Recall_arr)\n",
    "plt.show()\n",
    "max(Accuracy_arr)\n"
   ]
  },
  {
   "cell_type": "code",
   "execution_count": 4,
   "metadata": {},
   "outputs": [
    {
     "name": "stdout",
     "output_type": "stream",
     "text": [
      "(array([6]),)\n",
      "(array([ 5,  6,  8, 27]),)\n"
     ]
    }
   ],
   "source": [
    "accuracy_max=np.where(Accuracy_arr == Accuracy_arr.max())\n",
    "print(accuracy_max)\n",
    "recall_max=recall_max=np.where(Recall_arr==Recall_arr.max())\n",
    "print(recall_max)\n",
    "ind=6\n",
    "threshold_best=thresholds[ind]\n",
    "#print(np.where(Recall_arr==Recall_arr.max())\n",
    "      \n",
    "#threshold_max=thresholds[ind]\n",
    "#print( threshold_max)"
   ]
  },
  {
   "cell_type": "code",
   "execution_count": 13,
   "metadata": {},
   "outputs": [
    {
     "name": "stdout",
     "output_type": "stream",
     "text": [
      "0.7380952380952381\n",
      "0.6666666666666666\n"
     ]
    },
    {
     "name": "stderr",
     "output_type": "stream",
     "text": [
      "/anaconda3/lib/python3.6/site-packages/sklearn/preprocessing/label.py:151: DeprecationWarning: The truth value of an empty array is ambiguous. Returning False, but in future this will result in an error. Use `array.size > 0` to check that an array is not empty.\n",
      "  if diff:\n",
      "/anaconda3/lib/python3.6/site-packages/sklearn/preprocessing/label.py:151: DeprecationWarning: The truth value of an empty array is ambiguous. Returning False, but in future this will result in an error. Use `array.size > 0` to check that an array is not empty.\n",
      "  if diff:\n"
     ]
    }
   ],
   "source": [
    "model = XGBClassifier()\n",
    "model.fit(X, y)\n",
    "# make predictions for test data and evaluate\n",
    "y_pred = model.predict(X_test)\n",
    "predictions = [round(value) for value in y_pred]\n",
    "accuracy = accuracy_score(y_test, predictions)\n",
    "\n",
    "\n",
    "# select features using threshold\n",
    "selection = SelectFromModel(model, threshold=threshold_best, prefit=True) \n",
    "X = selection.transform(X) \n",
    "# train model\n",
    "selection_model = XGBClassifier()\n",
    "selection_model.fit(X, y)\n",
    "# eval model\n",
    "X_test = selection.transform(X_test)\n",
    "y_pred = selection_model.predict(X_test)\n",
    "predictions = [round(value) for value in y_pred]\n",
    "accuracy = accuracy_score(y_test, predictions)\n",
    "recall=recall_score(y_test, predictions)\n",
    "print(accuracy)\n",
    "print(recall)\n",
    "X=pd.DataFrame(X)\n",
    "X_test=pd.DataFrame(X_test)"
   ]
  },
  {
   "cell_type": "code",
   "execution_count": 14,
   "metadata": {},
   "outputs": [],
   "source": [
    "def modelfit(alg, train_data,train_labels, predictors,performCV=True, printFeatureImportance=True, cv_folds=5):\n",
    "    #Fit the algorithm on the data\n",
    "    alg.fit(train_data,train_labels)\n",
    "        \n",
    "    #Predict training set:\n",
    "    train_predictions = alg.predict(train_data)\n",
    "    train_predprob = alg.predict_proba(train_data)[:,1]\n",
    "    \n",
    "    #Perform cross-validation:\n",
    "    if performCV:\n",
    "        cv_score = cross_validation.cross_val_score(alg,train_data,train_labels,cv=cv_folds, scoring='neg_mean_squared_error')\n",
    "    \n",
    "    #Print model report:\n",
    "    print (\"\\nModel Report\")\n",
    "    print (\"Accuracy : %.4g\" % metrics.accuracy_score(train_labels, train_predictions))\n",
    "    print (\"AUC Score (Train): %f\" % metrics.roc_auc_score(train_labels, train_predprob))\n",
    "    \n",
    "    if performCV:\n",
    "        print (\"CV Score : Mean - %.7g | Std - %.7g | Min - %.7g | Max - %.7g\" % (np.mean(cv_score),np.std(cv_score),np.min(cv_score),np.max(cv_score)))\n",
    "        \n",
    "    #Print Feature Importance:\n",
    "    if printFeatureImportance:\n",
    "        feat_imp = pd.Series(alg.feature_importances_,predictors).sort_values(ascending=False)\n",
    "        feat_imp.plot(kind='bar', title='Feature Importances')\n",
    "        plt.ylabel('Feature Importance Score')\n",
    "    #print (train_predictions)     "
   ]
  },
  {
   "cell_type": "code",
   "execution_count": 15,
   "metadata": {
    "scrolled": false
   },
   "outputs": [
    {
     "name": "stdout",
     "output_type": "stream",
     "text": [
      "\n",
      "Model Report\n",
      "Accuracy : 1\n",
      "AUC Score (Train): 1.000000\n",
      "CV Score : Mean - -0.3386073 | Std - 0.04822457 | Min - -0.4126984 | Max - -0.2698413\n"
     ]
    },
    {
     "data": {
      "image/png": "[encoded data removed]",
      "text/plain": [
       "<Figure size 432x288 with 1 Axes>"
      ]
     },
     "metadata": {},
     "output_type": "display_data"
    }
   ],
   "source": [
    "#Choose all predictors except target & IDcols\n",
    "predictors = [x for x in X.columns]\n",
    "gbm0 = GradientBoostingClassifier(random_state=10)\n",
    "modelfit(gbm0,X,y,predictors )\n"
   ]
  },
  {
   "cell_type": "code",
   "execution_count": 16,
   "metadata": {},
   "outputs": [
    {
     "data": {
      "text/plain": [
       "GridSearchCV(cv=5, error_score='raise',\n",
       "       estimator=GradientBoostingClassifier(criterion='friedman_mse', init=None,\n",
       "              learning_rate=0.2, loss='deviance', max_depth=5,\n",
       "              max_features='sqrt', max_leaf_nodes=None,\n",
       "              min_impurity_decrease=0.0, min_impurity_split=None,\n",
       "              min_samples_leaf=25, min_samples_split=2,\n",
       "              min_weight_fraction_leaf=0.0, n_estimators=100,\n",
       "              presort='auto', random_state=10, subsample=0.8, verbose=0,\n",
       "              warm_start=False),\n",
       "       fit_params={}, iid=False, n_jobs=4,\n",
       "       param_grid={'n_estimators': array([ 10,  20, ..., 980, 990])},\n",
       "       pre_dispatch='2*n_jobs', refit=True,\n",
       "       scoring='neg_mean_squared_error', verbose=0)"
      ]
     },
     "execution_count": 16,
     "metadata": {},
     "output_type": "execute_result"
    }
   ],
   "source": [
    "#Choose all predictors except target & IDcols\n",
    "predictors = [x for x in X.columns]\n",
    "param_test1 = {'n_estimators':np.arange(10,1000,10)}\n",
    "gsearch1 = GridSearchCV(estimator = GradientBoostingClassifier(learning_rate=0.2, min_samples_split=2,min_samples_leaf=25,max_depth=5,max_features='sqrt',subsample=0.8,random_state=10), \n",
    "param_grid = param_test1, scoring='neg_mean_squared_error',n_jobs=4,iid=False, cv=5)\n",
    "gsearch1.fit(X,y)"
   ]
  },
  {
   "cell_type": "code",
   "execution_count": 17,
   "metadata": {},
   "outputs": [
    {
     "data": {
      "text/plain": [
       "([mean: -0.34808, std: 0.04176, params: {'n_estimators': 10},\n",
       "  mean: -0.32581, std: 0.01455, params: {'n_estimators': 20},\n",
       "  mean: -0.32586, std: 0.04066, params: {'n_estimators': 30},\n",
       "  mean: -0.34496, std: 0.04491, params: {'n_estimators': 40},\n",
       "  mean: -0.33543, std: 0.03611, params: {'n_estimators': 50},\n",
       "  mean: -0.32893, std: 0.04104, params: {'n_estimators': 60},\n",
       "  mean: -0.32560, std: 0.05414, params: {'n_estimators': 70},\n",
       "  mean: -0.32248, std: 0.05808, params: {'n_estimators': 80},\n",
       "  mean: -0.33528, std: 0.05690, params: {'n_estimators': 90},\n",
       "  mean: -0.32248, std: 0.06452, params: {'n_estimators': 100},\n",
       "  mean: -0.32258, std: 0.05202, params: {'n_estimators': 110},\n",
       "  mean: -0.31608, std: 0.05035, params: {'n_estimators': 120},\n",
       "  mean: -0.30655, std: 0.04969, params: {'n_estimators': 130},\n",
       "  mean: -0.31295, std: 0.04573, params: {'n_estimators': 140},\n",
       "  mean: -0.30005, std: 0.05409, params: {'n_estimators': 150},\n",
       "  mean: -0.30630, std: 0.06302, params: {'n_estimators': 160},\n",
       "  mean: -0.30005, std: 0.05118, params: {'n_estimators': 170},\n",
       "  mean: -0.30635, std: 0.06628, params: {'n_estimators': 180},\n",
       "  mean: -0.30968, std: 0.05346, params: {'n_estimators': 190},\n",
       "  mean: -0.30958, std: 0.05932, params: {'n_estimators': 200},\n",
       "  mean: -0.29365, std: 0.04835, params: {'n_estimators': 210},\n",
       "  mean: -0.31598, std: 0.05998, params: {'n_estimators': 220},\n",
       "  mean: -0.30323, std: 0.06467, params: {'n_estimators': 230},\n",
       "  mean: -0.30323, std: 0.05722, params: {'n_estimators': 240},\n",
       "  mean: -0.30005, std: 0.05118, params: {'n_estimators': 250},\n",
       "  mean: -0.29688, std: 0.05245, params: {'n_estimators': 260},\n",
       "  mean: -0.29688, std: 0.05879, params: {'n_estimators': 270},\n",
       "  mean: -0.29048, std: 0.05507, params: {'n_estimators': 280},\n",
       "  mean: -0.28735, std: 0.05499, params: {'n_estimators': 290},\n",
       "  mean: -0.28730, std: 0.04897, params: {'n_estimators': 300},\n",
       "  mean: -0.30338, std: 0.05791, params: {'n_estimators': 310},\n",
       "  mean: -0.30661, std: 0.05570, params: {'n_estimators': 320},\n",
       "  mean: -0.30650, std: 0.05335, params: {'n_estimators': 330},\n",
       "  mean: -0.29053, std: 0.04634, params: {'n_estimators': 340},\n",
       "  mean: -0.29048, std: 0.05693, params: {'n_estimators': 350},\n",
       "  mean: -0.29995, std: 0.06320, params: {'n_estimators': 360},\n",
       "  mean: -0.30000, std: 0.06177, params: {'n_estimators': 370},\n",
       "  mean: -0.30640, std: 0.05751, params: {'n_estimators': 380},\n",
       "  mean: -0.29360, std: 0.05769, params: {'n_estimators': 390},\n",
       "  mean: -0.29375, std: 0.03978, params: {'n_estimators': 400},\n",
       "  mean: -0.30010, std: 0.05042, params: {'n_estimators': 410},\n",
       "  mean: -0.30650, std: 0.04418, params: {'n_estimators': 420},\n",
       "  mean: -0.30010, std: 0.04286, params: {'n_estimators': 430},\n",
       "  mean: -0.30010, std: 0.04941, params: {'n_estimators': 440},\n",
       "  mean: -0.30328, std: 0.04889, params: {'n_estimators': 450},\n",
       "  mean: -0.30010, std: 0.04941, params: {'n_estimators': 460},\n",
       "  mean: -0.29693, std: 0.05073, params: {'n_estimators': 470},\n",
       "  mean: -0.29375, std: 0.04449, params: {'n_estimators': 480},\n",
       "  mean: -0.30328, std: 0.04889, params: {'n_estimators': 490},\n",
       "  mean: -0.30328, std: 0.04889, params: {'n_estimators': 500},\n",
       "  mean: -0.30010, std: 0.04941, params: {'n_estimators': 510},\n",
       "  mean: -0.30010, std: 0.04941, params: {'n_estimators': 520},\n",
       "  mean: -0.30010, std: 0.04941, params: {'n_estimators': 530},\n",
       "  mean: -0.30010, std: 0.04941, params: {'n_estimators': 540},\n",
       "  mean: -0.30010, std: 0.04941, params: {'n_estimators': 550},\n",
       "  mean: -0.30010, std: 0.04941, params: {'n_estimators': 560},\n",
       "  mean: -0.30010, std: 0.04941, params: {'n_estimators': 570},\n",
       "  mean: -0.30010, std: 0.04941, params: {'n_estimators': 580},\n",
       "  mean: -0.30010, std: 0.04941, params: {'n_estimators': 590},\n",
       "  mean: -0.30010, std: 0.04941, params: {'n_estimators': 600},\n",
       "  mean: -0.30010, std: 0.04941, params: {'n_estimators': 610},\n",
       "  mean: -0.30010, std: 0.04941, params: {'n_estimators': 620},\n",
       "  mean: -0.30010, std: 0.04941, params: {'n_estimators': 630},\n",
       "  mean: -0.30010, std: 0.04941, params: {'n_estimators': 640},\n",
       "  mean: -0.30010, std: 0.04941, params: {'n_estimators': 650},\n",
       "  mean: -0.30010, std: 0.04941, params: {'n_estimators': 660},\n",
       "  mean: -0.30010, std: 0.04941, params: {'n_estimators': 670},\n",
       "  mean: -0.30010, std: 0.04941, params: {'n_estimators': 680},\n",
       "  mean: -0.30010, std: 0.04941, params: {'n_estimators': 690},\n",
       "  mean: -0.30010, std: 0.04941, params: {'n_estimators': 700},\n",
       "  mean: -0.30010, std: 0.04941, params: {'n_estimators': 710},\n",
       "  mean: -0.30010, std: 0.04941, params: {'n_estimators': 720},\n",
       "  mean: -0.30010, std: 0.04941, params: {'n_estimators': 730},\n",
       "  mean: -0.30010, std: 0.04941, params: {'n_estimators': 740},\n",
       "  mean: -0.30328, std: 0.04889, params: {'n_estimators': 750},\n",
       "  mean: -0.30328, std: 0.04889, params: {'n_estimators': 760},\n",
       "  mean: -0.30328, std: 0.04889, params: {'n_estimators': 770},\n",
       "  mean: -0.30328, std: 0.04889, params: {'n_estimators': 780},\n",
       "  mean: -0.30328, std: 0.04889, params: {'n_estimators': 790},\n",
       "  mean: -0.30328, std: 0.04889, params: {'n_estimators': 800},\n",
       "  mean: -0.30328, std: 0.04889, params: {'n_estimators': 810},\n",
       "  mean: -0.30328, std: 0.04889, params: {'n_estimators': 820},\n",
       "  mean: -0.30328, std: 0.04889, params: {'n_estimators': 830},\n",
       "  mean: -0.30328, std: 0.04889, params: {'n_estimators': 840},\n",
       "  mean: -0.30328, std: 0.04889, params: {'n_estimators': 850},\n",
       "  mean: -0.30328, std: 0.04889, params: {'n_estimators': 860},\n",
       "  mean: -0.30328, std: 0.04889, params: {'n_estimators': 870},\n",
       "  mean: -0.30328, std: 0.04889, params: {'n_estimators': 880},\n",
       "  mean: -0.30328, std: 0.04889, params: {'n_estimators': 890},\n",
       "  mean: -0.30328, std: 0.04889, params: {'n_estimators': 900},\n",
       "  mean: -0.30328, std: 0.04889, params: {'n_estimators': 910},\n",
       "  mean: -0.30328, std: 0.04889, params: {'n_estimators': 920},\n",
       "  mean: -0.30010, std: 0.04941, params: {'n_estimators': 930},\n",
       "  mean: -0.30010, std: 0.04941, params: {'n_estimators': 940},\n",
       "  mean: -0.30010, std: 0.04941, params: {'n_estimators': 950},\n",
       "  mean: -0.30010, std: 0.04941, params: {'n_estimators': 960},\n",
       "  mean: -0.30010, std: 0.04941, params: {'n_estimators': 970},\n",
       "  mean: -0.30010, std: 0.04941, params: {'n_estimators': 980},\n",
       "  mean: -0.30010, std: 0.04941, params: {'n_estimators': 990}],\n",
       " {'n_estimators': 300},\n",
       " -0.2873015873015873)"
      ]
     },
     "execution_count": 17,
     "metadata": {},
     "output_type": "execute_result"
    }
   ],
   "source": [
    "gsearch1.grid_scores_, gsearch1.best_params_, gsearch1.best_score_"
   ]
  },
  {
   "cell_type": "code",
   "execution_count": 18,
   "metadata": {
    "scrolled": true
   },
   "outputs": [
    {
     "data": {
      "text/plain": [
       "([mean: -0.29032, std: 0.06394, params: {'max_depth': 1},\n",
       "  mean: -0.29688, std: 0.06223, params: {'max_depth': 2},\n",
       "  mean: -0.31290, std: 0.05927, params: {'max_depth': 3},\n",
       "  mean: -0.29677, std: 0.05206, params: {'max_depth': 4},\n",
       "  mean: -0.28730, std: 0.04897, params: {'max_depth': 5},\n",
       "  mean: -0.31280, std: 0.06107, params: {'max_depth': 6},\n",
       "  mean: -0.31280, std: 0.06107, params: {'max_depth': 7},\n",
       "  mean: -0.31280, std: 0.06107, params: {'max_depth': 8},\n",
       "  mean: -0.31280, std: 0.06107, params: {'max_depth': 9},\n",
       "  mean: -0.31280, std: 0.06107, params: {'max_depth': 10},\n",
       "  mean: -0.31280, std: 0.06107, params: {'max_depth': 11},\n",
       "  mean: -0.31280, std: 0.06107, params: {'max_depth': 12},\n",
       "  mean: -0.31280, std: 0.06107, params: {'max_depth': 13},\n",
       "  mean: -0.31280, std: 0.06107, params: {'max_depth': 14},\n",
       "  mean: -0.31280, std: 0.06107, params: {'max_depth': 15},\n",
       "  mean: -0.31280, std: 0.06107, params: {'max_depth': 16},\n",
       "  mean: -0.31280, std: 0.06107, params: {'max_depth': 17},\n",
       "  mean: -0.31280, std: 0.06107, params: {'max_depth': 18},\n",
       "  mean: -0.31280, std: 0.06107, params: {'max_depth': 19},\n",
       "  mean: -0.31280, std: 0.06107, params: {'max_depth': 20},\n",
       "  mean: -0.31280, std: 0.06107, params: {'max_depth': 21},\n",
       "  mean: -0.31280, std: 0.06107, params: {'max_depth': 22},\n",
       "  mean: -0.31280, std: 0.06107, params: {'max_depth': 23},\n",
       "  mean: -0.31280, std: 0.06107, params: {'max_depth': 24},\n",
       "  mean: -0.31280, std: 0.06107, params: {'max_depth': 25},\n",
       "  mean: -0.31280, std: 0.06107, params: {'max_depth': 26},\n",
       "  mean: -0.31280, std: 0.06107, params: {'max_depth': 27},\n",
       "  mean: -0.31280, std: 0.06107, params: {'max_depth': 28},\n",
       "  mean: -0.31280, std: 0.06107, params: {'max_depth': 29},\n",
       "  mean: -0.31280, std: 0.06107, params: {'max_depth': 30},\n",
       "  mean: -0.31280, std: 0.06107, params: {'max_depth': 31},\n",
       "  mean: -0.31280, std: 0.06107, params: {'max_depth': 32},\n",
       "  mean: -0.31280, std: 0.06107, params: {'max_depth': 33},\n",
       "  mean: -0.31280, std: 0.06107, params: {'max_depth': 34},\n",
       "  mean: -0.31280, std: 0.06107, params: {'max_depth': 35},\n",
       "  mean: -0.31280, std: 0.06107, params: {'max_depth': 36},\n",
       "  mean: -0.31280, std: 0.06107, params: {'max_depth': 37},\n",
       "  mean: -0.31280, std: 0.06107, params: {'max_depth': 38},\n",
       "  mean: -0.31280, std: 0.06107, params: {'max_depth': 39},\n",
       "  mean: -0.31280, std: 0.06107, params: {'max_depth': 40},\n",
       "  mean: -0.31280, std: 0.06107, params: {'max_depth': 41},\n",
       "  mean: -0.31280, std: 0.06107, params: {'max_depth': 42},\n",
       "  mean: -0.31280, std: 0.06107, params: {'max_depth': 43},\n",
       "  mean: -0.31280, std: 0.06107, params: {'max_depth': 44},\n",
       "  mean: -0.31280, std: 0.06107, params: {'max_depth': 45},\n",
       "  mean: -0.31280, std: 0.06107, params: {'max_depth': 46},\n",
       "  mean: -0.31280, std: 0.06107, params: {'max_depth': 47},\n",
       "  mean: -0.31280, std: 0.06107, params: {'max_depth': 48},\n",
       "  mean: -0.31280, std: 0.06107, params: {'max_depth': 49},\n",
       "  mean: -0.31280, std: 0.06107, params: {'max_depth': 50},\n",
       "  mean: -0.31280, std: 0.06107, params: {'max_depth': 51},\n",
       "  mean: -0.31280, std: 0.06107, params: {'max_depth': 52},\n",
       "  mean: -0.31280, std: 0.06107, params: {'max_depth': 53},\n",
       "  mean: -0.31280, std: 0.06107, params: {'max_depth': 54},\n",
       "  mean: -0.31280, std: 0.06107, params: {'max_depth': 55},\n",
       "  mean: -0.31280, std: 0.06107, params: {'max_depth': 56},\n",
       "  mean: -0.31280, std: 0.06107, params: {'max_depth': 57},\n",
       "  mean: -0.31280, std: 0.06107, params: {'max_depth': 58},\n",
       "  mean: -0.31280, std: 0.06107, params: {'max_depth': 59},\n",
       "  mean: -0.31280, std: 0.06107, params: {'max_depth': 60},\n",
       "  mean: -0.31280, std: 0.06107, params: {'max_depth': 61},\n",
       "  mean: -0.31280, std: 0.06107, params: {'max_depth': 62},\n",
       "  mean: -0.31280, std: 0.06107, params: {'max_depth': 63},\n",
       "  mean: -0.31280, std: 0.06107, params: {'max_depth': 64},\n",
       "  mean: -0.31280, std: 0.06107, params: {'max_depth': 65},\n",
       "  mean: -0.31280, std: 0.06107, params: {'max_depth': 66},\n",
       "  mean: -0.31280, std: 0.06107, params: {'max_depth': 67},\n",
       "  mean: -0.31280, std: 0.06107, params: {'max_depth': 68},\n",
       "  mean: -0.31280, std: 0.06107, params: {'max_depth': 69},\n",
       "  mean: -0.31280, std: 0.06107, params: {'max_depth': 70},\n",
       "  mean: -0.31280, std: 0.06107, params: {'max_depth': 71},\n",
       "  mean: -0.31280, std: 0.06107, params: {'max_depth': 72},\n",
       "  mean: -0.31280, std: 0.06107, params: {'max_depth': 73},\n",
       "  mean: -0.31280, std: 0.06107, params: {'max_depth': 74},\n",
       "  mean: -0.31280, std: 0.06107, params: {'max_depth': 75},\n",
       "  mean: -0.31280, std: 0.06107, params: {'max_depth': 76},\n",
       "  mean: -0.31280, std: 0.06107, params: {'max_depth': 77},\n",
       "  mean: -0.31280, std: 0.06107, params: {'max_depth': 78},\n",
       "  mean: -0.31280, std: 0.06107, params: {'max_depth': 79},\n",
       "  mean: -0.31280, std: 0.06107, params: {'max_depth': 80},\n",
       "  mean: -0.31280, std: 0.06107, params: {'max_depth': 81},\n",
       "  mean: -0.31280, std: 0.06107, params: {'max_depth': 82},\n",
       "  mean: -0.31280, std: 0.06107, params: {'max_depth': 83},\n",
       "  mean: -0.31280, std: 0.06107, params: {'max_depth': 84},\n",
       "  mean: -0.31280, std: 0.06107, params: {'max_depth': 85},\n",
       "  mean: -0.31280, std: 0.06107, params: {'max_depth': 86},\n",
       "  mean: -0.31280, std: 0.06107, params: {'max_depth': 87},\n",
       "  mean: -0.31280, std: 0.06107, params: {'max_depth': 88},\n",
       "  mean: -0.31280, std: 0.06107, params: {'max_depth': 89},\n",
       "  mean: -0.31280, std: 0.06107, params: {'max_depth': 90},\n",
       "  mean: -0.31280, std: 0.06107, params: {'max_depth': 91},\n",
       "  mean: -0.31280, std: 0.06107, params: {'max_depth': 92},\n",
       "  mean: -0.31280, std: 0.06107, params: {'max_depth': 93},\n",
       "  mean: -0.31280, std: 0.06107, params: {'max_depth': 94},\n",
       "  mean: -0.31280, std: 0.06107, params: {'max_depth': 95},\n",
       "  mean: -0.31280, std: 0.06107, params: {'max_depth': 96},\n",
       "  mean: -0.31280, std: 0.06107, params: {'max_depth': 97},\n",
       "  mean: -0.31280, std: 0.06107, params: {'max_depth': 98},\n",
       "  mean: -0.31280, std: 0.06107, params: {'max_depth': 99}],\n",
       " {'max_depth': 5},\n",
       " -0.2873015873015873)"
      ]
     },
     "execution_count": 18,
     "metadata": {},
     "output_type": "execute_result"
    }
   ],
   "source": [
    "#param_test2 = {'max_depth':np.arange(5,16,2), 'min_samples_split':np.arange(2,11,1)}\n",
    "param_test2 = {'max_depth':np.arange(1,100,1)}\n",
    "gsearch2 = GridSearchCV(estimator = GradientBoostingClassifier(learning_rate=0.2, \n",
    "            n_estimators=gsearch1.best_params_['n_estimators'], max_features='sqrt', subsample=0.8, min_samples_split=2,min_samples_leaf=25,random_state=10), \n",
    "param_grid = param_test2, scoring='neg_mean_squared_error',n_jobs=4,iid=False, cv=5)\n",
    "gsearch2.fit(X,y)\n",
    "gsearch2.grid_scores_, gsearch2.best_params_, gsearch2.best_score_"
   ]
  },
  {
   "cell_type": "code",
   "execution_count": 20,
   "metadata": {
    "scrolled": false
   },
   "outputs": [
    {
     "name": "stdout",
     "output_type": "stream",
     "text": [
      "\n",
      "Model Report\n",
      "Accuracy : 1\n",
      "AUC Score (Train): 1.000000\n",
      "CV Score : Mean - -0.2873016 | Std - 0.0489709 | Min - -0.3809524 | Max - -0.2419355\n"
     ]
    },
    {
     "data": {
      "image/png": "[encoded data removed]",
      "text/plain": [
       "<Figure size 432x288 with 1 Axes>"
      ]
     },
     "metadata": {},
     "output_type": "display_data"
    }
   ],
   "source": [
    "modelfit(gsearch2.best_estimator_, X,y,predictors)"
   ]
  },
  {
   "cell_type": "code",
   "execution_count": 21,
   "metadata": {},
   "outputs": [
    {
     "data": {
      "text/plain": [
       "({'min_samples_leaf': 3, 'min_samples_split': 2}, -0.29579991996798716)"
      ]
     },
     "execution_count": 21,
     "metadata": {},
     "output_type": "execute_result"
    }
   ],
   "source": [
    "param_test3 = {'min_samples_split':np.arange(2,5,1), 'min_samples_leaf':np.arange(1,60,1)}\n",
    "gsearch3 = GridSearchCV(estimator = GradientBoostingClassifier(learning_rate=0.2, n_estimators=gsearch1.best_params_['n_estimators'],max_depth=gsearch2.best_params_['max_depth'],max_features='sqrt', subsample=0.8, random_state=10), \n",
    "param_grid = param_test3, scoring='neg_mean_squared_error',n_jobs=4,iid=False, cv=5)\n",
    "gsearch3.fit(X_train,y_train)\n",
    "#gsearch3.grid_scores_, gsearch3.best_params_, gsearch3.best_score_\n",
    "gsearch3.best_params_, gsearch3.best_score_"
   ]
  },
  {
   "cell_type": "code",
   "execution_count": 22,
   "metadata": {
    "scrolled": true
   },
   "outputs": [
    {
     "name": "stdout",
     "output_type": "stream",
     "text": [
      "\n",
      "Model Report\n",
      "Accuracy : 1\n",
      "AUC Score (Train): 1.000000\n",
      "CV Score : Mean - -0.2873016 | Std - 0.0489709 | Min - -0.3809524 | Max - -0.2419355\n"
     ]
    },
    {
     "data": {
      "image/png": "[encoded data removed]",
      "text/plain": [
       "<Figure size 432x288 with 1 Axes>"
      ]
     },
     "metadata": {},
     "output_type": "display_data"
    }
   ],
   "source": [
    "modelfit(gsearch3.best_estimator_, X,y,predictors)"
   ]
  },
  {
   "cell_type": "code",
   "execution_count": 26,
   "metadata": {},
   "outputs": [
    {
     "data": {
      "text/plain": [
       "({'max_features': 7}, -0.296979006656426)"
      ]
     },
     "execution_count": 26,
     "metadata": {},
     "output_type": "execute_result"
    }
   ],
   "source": [
    "param_test4 = {'max_features':np.arange(1,40,1)}\n",
    "gsearch4 = GridSearchCV(estimator = GradientBoostingClassifier(learning_rate=0.2, \n",
    "n_estimators=gsearch1.best_params_['n_estimators'],max_depth=gsearch2.best_params_['max_depth'], \n",
    "min_samples_split=gsearch3.best_params_['min_samples_split'], min_samples_leaf=gsearch3.best_params_['min_samples_leaf'], subsample=0.8, random_state=10),\n",
    "param_grid = param_test4, scoring='neg_mean_squared_error',n_jobs=4,iid=False, cv=5)\n",
    "gsearch4.fit(X,y)\n",
    "#gsearch4.grid_scores_, gsearch4.best_params_, gsearch4.best_score_\n",
    "gsearch4.best_params_, gsearch4.best_score_"
   ]
  },
  {
   "cell_type": "code",
   "execution_count": 27,
   "metadata": {},
   "outputs": [
    {
     "name": "stdout",
     "output_type": "stream",
     "text": [
      "\n",
      "Model Report\n",
      "Accuracy : 1\n",
      "AUC Score (Train): 1.000000\n",
      "CV Score : Mean - -0.296979 | Std - 0.0519707 | Min - -0.3968254 | Max - -0.2539683\n"
     ]
    },
    {
     "data": {
      "image/png": "[encoded data removed]",
      "text/plain": [
       "<Figure size 432x288 with 1 Axes>"
      ]
     },
     "metadata": {},
     "output_type": "display_data"
    }
   ],
   "source": [
    "modelfit(gsearch4.best_estimator_, X,y,predictors)"
   ]
  },
  {
   "cell_type": "code",
   "execution_count": 28,
   "metadata": {},
   "outputs": [
    {
     "data": {
      "text/plain": [
       "([mean: -0.30015, std: 0.04573, params: {'subsample': 0.6},\n",
       "  mean: -0.31311, std: 0.04099, params: {'subsample': 0.7},\n",
       "  mean: -0.32586, std: 0.04887, params: {'subsample': 0.75},\n",
       "  mean: -0.29698, std: 0.05197, params: {'subsample': 0.8},\n",
       "  mean: -0.32591, std: 0.06654, params: {'subsample': 0.85},\n",
       "  mean: -0.30686, std: 0.04548, params: {'subsample': 0.9},\n",
       "  mean: -0.31951, std: 0.06666, params: {'subsample': 0.95}],\n",
       " {'subsample': 0.8},\n",
       " -0.296979006656426)"
      ]
     },
     "execution_count": 28,
     "metadata": {},
     "output_type": "execute_result"
    }
   ],
   "source": [
    "param_test5 = {'subsample':[0.6,0.7,0.75,0.8,0.85,0.9,0.95]}\n",
    "gsearch5 = GridSearchCV(estimator = GradientBoostingClassifier(learning_rate=0.2, n_estimators=gsearch1.best_params_['n_estimators'],\n",
    "max_depth=gsearch2.best_params_['max_depth'], min_samples_split=gsearch3.best_params_['min_samples_split'],\n",
    "min_samples_leaf=gsearch3.best_params_['min_samples_leaf'], max_features=gsearch4.best_params_['max_features'],random_state=10),\n",
    "param_grid = param_test5, scoring='neg_mean_squared_error',n_jobs=4,iid=False, cv=5)                                              \n",
    "gsearch5.fit(X,y)\n",
    "gsearch5.grid_scores_, gsearch5.best_params_, gsearch5.best_score_"
   ]
  },
  {
   "cell_type": "code",
   "execution_count": 29,
   "metadata": {},
   "outputs": [
    {
     "name": "stdout",
     "output_type": "stream",
     "text": [
      "Accuracy: 0.703\n",
      "Sensitivity: 0.623\n",
      "Prec: 0.660\n",
      "F1: 0.636\n",
      "AUC: 0.727\n"
     ]
    }
   ],
   "source": [
    "from sklearn.ensemble import GradientBoostingClassifier\n",
    "from sklearn.model_selection import cross_val_score\n",
    "#import pdb\n",
    "#pdb.set_trace()\n",
    "#gbm_tuned_1= GradientBoostingClassifier(criterion='friedman_mse', init=None,\n",
    " #             learning_rate=0.2, n_estimators=80,max_depth=5,min_samples_split=11,min_samples_leaf=4, subsample=0.8, random_state=10, \n",
    "  #                                max_features=7,warm_start=False)\n",
    "gbm_tuned_1= GradientBoostingClassifier(criterion='friedman_mse', init=None,\n",
    "              learning_rate=0.2, n_estimators=gsearch1.best_params_['n_estimators'],max_depth=gsearch2.best_params_['max_depth'],\n",
    "            min_samples_split=gsearch3.best_params_['min_samples_split'],min_samples_leaf=gsearch3.best_params_['min_samples_leaf'],\n",
    "            subsample=gsearch5.best_params_['subsample'], random_state=10,max_features=gsearch4.best_params_['max_features'],warm_start=False)\n",
    "\n",
    "#gbm_tuned_1=GradientBoostingClassifier(random_state=10) gives poorer results than tuned gbm\n",
    "Acc=cross_val_score(gbm_tuned_1, X, y, scoring='accuracy',\n",
    "          cv=5)\n",
    " \n",
    "print('Accuracy: %.3f' % Acc.mean() )\n",
    "\n",
    "Sen=cross_val_score(gbm_tuned_1, X, y, scoring='recall',\n",
    "          cv=5)\n",
    "Sen.mean()  \n",
    "print('Sensitivity: %.3f' % Sen.mean() )\n",
    "Prec=cross_val_score(gbm_tuned_1, X, y, scoring='precision',\n",
    "          cv=5)\n",
    "Prec.mean()  \n",
    "print('Prec: %.3f' % Prec.mean() )\n",
    "F1=cross_val_score(gbm_tuned_1, X, y, scoring='f1',\n",
    "          cv=5)\n",
    "F1.mean()  \n",
    "print('F1: %.3f' % F1.mean() )\n",
    "AUC=cross_val_score(gbm_tuned_1, X, y, scoring='roc_auc',\n",
    "          cv=5)\n",
    "AUC.mean()  \n",
    "print('AUC: %.3f' % AUC.mean() )"
   ]
  },
  {
   "cell_type": "code",
   "execution_count": 30,
   "metadata": {},
   "outputs": [],
   "source": [
    "#'accuracy', 'adjusted_mutual_info_score', 'adjusted_rand_score',\n",
    "#'average_precision', 'completeness_score', 'explained_variance', 'f1', 'f1_macro', \n",
    "#'f1_micro', 'f1_samples', 'f1_weighted', 'fowlkes_mallows_score', 'homogeneity_score',\n",
    "#'mutual_info_score', 'neg_log_loss', 'neg_mean_absolute_error', 'neg_mean_squared_error',\n",
    "#'neg_mean_squared_log_error', 'neg_median_absolute_error', 'normalized_mutual_info_score', 'precision', \n",
    "#'precision_macro', 'precision_micro', 'precision_samples', 'precision_weighted', \n",
    "#'r2', 'recall', 'recall_macro', 'recall_micro', 'recall_samples', 'recall_weighted', 'roc_auc', 'v_measure_score'"
   ]
  },
  {
   "cell_type": "code",
   "execution_count": 31,
   "metadata": {
    "scrolled": true
   },
   "outputs": [
    {
     "name": "stdout",
     "output_type": "stream",
     "text": [
      "tp: 16.600\n",
      "\n",
      "\n",
      "tn: 27.400\n",
      "\n",
      "\n",
      "fp: 8.600\n",
      "\n",
      "\n",
      "fn: 10.000\n",
      "\n",
      "\n",
      "Specificity: 0.761\n",
      "MCC:0.388\n"
     ]
    }
   ],
   "source": [
    "from sklearn.model_selection import cross_validate\n",
    "from sklearn.metrics import confusion_matrix\n",
    "from sklearn.metrics import make_scorer\n",
    "import math\n",
    "\n",
    "def tn(y_true, y_pred): return confusion_matrix(y_true, y_pred)[0, 0]\n",
    "def fp(y_true, y_pred): return confusion_matrix(y_true, y_pred)[0, 1]\n",
    "def fn(y_true, y_pred): return confusion_matrix(y_true, y_pred)[1, 0]\n",
    "def tp(y_true, y_pred): return confusion_matrix(y_true, y_pred)[1, 1]\n",
    "\n",
    "scoring = {'tp': make_scorer(tp), 'tn': make_scorer(tn),\n",
    "           'fp': make_scorer(fp), 'fn': make_scorer(fn)}\n",
    "cv_results = cross_validate(gbm_tuned_1.fit(X, y), X, y,\n",
    "                           scoring=scoring, cv=5)\n",
    "tp=cv_results['test_tp'].mean()\n",
    "fp=cv_results['test_fp'].mean()\n",
    "tn=cv_results['test_tn'].mean()\n",
    "fn=cv_results['test_fn'].mean()\n",
    "print('tp: %.3f' % tp)\n",
    "print('\\n')\n",
    "print('tn: %.3f' % tn)\n",
    "print('\\n')\n",
    "print('fp: %.3f' % fp)\n",
    "print('\\n')\n",
    "print('fn: %.3f' % fn)\n",
    "print('\\n')\n",
    "\n",
    "specificity=tn/(tn+fp)\n",
    "print('Specificity: %.3f' %specificity)\n",
    "\n",
    "MCC= (tp*tn-fp*fn)/(math.sqrt((tp+fp)*(tp+fn)*(tn+fp)*(tn+fn)))\n",
    "print('MCC:%.3f' %MCC)"
   ]
  },
  {
   "cell_type": "code",
   "execution_count": 32,
   "metadata": {},
   "outputs": [],
   "source": [
    "from sklearn.metrics import roc_auc_score\n",
    "from sklearn.metrics import roc_curve\n",
    "\n",
    "predictors = [x for x in X.columns]\n",
    "#gbm_tuned_1 = GradientBoostingClassifier(learning_rate=0.2, n_estimators=40, max_features=55, subsample=0.7,max_depth=5,min_samples_split=12,min_samples_leaf=5, random_state=10,warm_start=False)\n",
    "gbm_tuned_1= GradientBoostingClassifier(criterion='friedman_mse', init=None,\n",
    "              learning_rate=0.25, n_estimators=1500,max_depth=1, min_samples_split=2,min_samples_leaf=31, subsample=0.9, random_state=10, \n",
    "                                  max_features=7,warm_start=False)\n",
    "\n",
    "#gbm_tuned_1= GradientBoostingClassifier(criterion='friedman_mse', init=None,\n",
    " #             learning_rate=0.2, n_estimators=gsearch1.best_params_['n_estimators'],max_depth=gsearch2.best_params_['max_depth'],\n",
    "#            min_samples_split=gsearch3.best_params_['min_samples_split'],min_samples_leaf=gsearch3.best_params_['min_samples_leaf'],\n",
    " #           subsample=gsearch5.best_params_['subsample'], random_state=10,max_features=gsearch4.best_params_['max_features'],warm_start=False)\n",
    "\n",
    "\n",
    "\n",
    "gbm_tuned_1.fit(X,y)\n",
    "\n",
    "\n",
    "y_test_pred = gbm_tuned_1.predict(X_test) \n",
    "svm_roc_auc = roc_auc_score(y_test, y_test_pred)"
   ]
  },
  {
   "cell_type": "code",
   "execution_count": 33,
   "metadata": {},
   "outputs": [
    {
     "name": "stdout",
     "output_type": "stream",
     "text": [
      "Accuracy of GTB classifier: 0.74\n",
      "\n",
      "\n",
      "Confusion matrix : \n",
      "                    Class 1  Class 0\n",
      "Predicted Class 1       67       13\n",
      "Predicted Class 0       20       26\n",
      "\n",
      "\n",
      "\n",
      "\n",
      "[[67 13]\n",
      " [20 26]]\n",
      "Specificity : 0.7701149425287356\n",
      "\n",
      "\n",
      "Precision score: 0.5652173913043478\n",
      "\n",
      "\n",
      "Recall or Sensitivity: 0.6666666666666666\n",
      "\n",
      "\n",
      "F1 Score: 0.6117647058823529\n",
      "\n",
      "\n",
      "Matthews Correlation Coefficient: 0.4194038033028403\n",
      "\n",
      "\n",
      "AUC: 0.734\n",
      "\n",
      "\n"
     ]
    }
   ],
   "source": [
    "from sklearn.metrics import confusion_matrix \n",
    "print('Accuracy of GTB classifier: {:.2f}'.format(gbm_tuned_1.score(X_test, y_test)))\n",
    "print('\\n')\n",
    "confusion_df = pd.DataFrame(confusion_matrix(y_test,y_test_pred),\n",
    "             columns=[\"Predicted Class \" + str(class_name) for class_name in [1,0]],\n",
    "             index = [\"Class \" + str(class_name) for class_name in [1,0]])\n",
    "\n",
    "print('Confusion matrix : \\n',confusion_df.T)\n",
    "print('\\n')\n",
    "\n",
    "\n",
    "cm1 = confusion_matrix(y_test, y_test_pred).T\n",
    "print('\\n')\n",
    "total1=sum(sum(cm1))\n",
    "print(cm1)\n",
    "#####from confusion matrix calculate sensitivity specificity\n",
    "\n",
    "tn=confusion_matrix(y_test, y_test_pred)[0, 0]\n",
    "fp=confusion_matrix(y_test, y_test_pred)[0, 1]\n",
    "fn=confusion_matrix(y_test, y_test_pred)[1, 0]\n",
    "tp=confusion_matrix(y_test, y_test_pred)[1, 1]\n",
    "#sensitivity1=tp/(tp+fn)\n",
    "\n",
    "#print('Sensitivity :', sensitivity1 )\n",
    "#print('\\n')\n",
    "\n",
    "specificity=tn/(tn+fp)\n",
    "print('Specificity :', specificity)\n",
    "print('\\n')\n",
    "#precision=tp/(tp+fp)\n",
    "#precision = cm1[0,0]/(cm1[0,0]+cm1[0,1])\n",
    "#print('precision :', precision)\n",
    "#print('\\n')\n",
    "from sklearn.metrics import precision_score\n",
    "print(\"Precision score: {}\".format(precision_score(y_test,y_test_pred)))\n",
    "print('\\n')\n",
    "from sklearn.metrics import recall_score\n",
    "print(\"Recall or Sensitivity: {}\".format(recall_score(y_test,y_test_pred)))\n",
    "print('\\n')\n",
    "from sklearn.metrics import f1_score\n",
    "print(\"F1 Score: {}\".format(f1_score(y_test,y_test_pred)))\n",
    "print('\\n')\n",
    "from sklearn.metrics import matthews_corrcoef\n",
    "print(\"Matthews Correlation Coefficient: {}\".format(matthews_corrcoef(y_test, y_test_pred)))\n",
    "print('\\n')\n",
    "##Area under Curve-AUC\n",
    "auc = roc_auc_score(y_test, gbm_tuned_1.predict_proba(X_test)[:,1])\n",
    "print('AUC: %.3f' % auc)\n",
    "print('\\n')"
   ]
  },
  {
   "cell_type": "code",
   "execution_count": null,
   "metadata": {},
   "outputs": [],
   "source": []
  },
  {
   "cell_type": "code",
   "execution_count": null,
   "metadata": {},
   "outputs": [],
   "source": []
  }
 ],
 "metadata": {
  "kernelspec": {
   "display_name": "Python 3",
   "language": "python",
   "name": "python3"
  },
  "language_info": {
   "codemirror_mode": {
    "name": "ipython",
    "version": 3
   },
   "file_extension": ".py",
   "mimetype": "text/x-python",
   "name": "python",
   "nbconvert_exporter": "python",
   "pygments_lexer": "ipython3",
   "version": "3.6.5"
  }
 },
 "nbformat": 4,
 "nbformat_minor": 2
}
