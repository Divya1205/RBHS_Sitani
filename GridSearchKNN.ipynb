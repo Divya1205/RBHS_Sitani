{
 "cells": [
  {
   "cell_type": "code",
   "execution_count": 1,
   "metadata": {},
   "outputs": [
    {
     "name": "stderr",
     "output_type": "stream",
     "text": [
      "/anaconda3/lib/python3.6/site-packages/sklearn/cross_validation.py:41: DeprecationWarning: This module was deprecated in version 0.18 in favor of the model_selection module into which all the refactored classes and functions are moved. Also note that the interface of the new CV iterators are different from that of this module. This module will be removed in 0.20.\n",
      "  \"This module will be removed in 0.20.\", DeprecationWarning)\n"
     ]
    }
   ],
   "source": [
    "import numpy as np  \n",
    "import matplotlib.pyplot as plt  \n",
    "import pandas as pd  \n",
    "\n",
    "import os\n",
    "from sklearn.neighbors import KNeighborsClassifier\n",
    "from sklearn.cross_validation import cross_val_score\n",
    "import matplotlib.pyplot as plt\n",
    "%matplotlib inline\n",
    "import matlab.engine"
   ]
  },
  {
   "cell_type": "code",
   "execution_count": 2,
   "metadata": {},
   "outputs": [
    {
     "data": {
      "text/plain": [
       "'/Users/sitani/Desktop/CS_final_codes/workonhotspots/FinalCodesForPublication'"
      ]
     },
     "execution_count": 2,
     "metadata": {},
     "output_type": "execute_result"
    }
   ],
   "source": [
    "os.getcwd()\n",
    "os.chdir('/Users/sitani/Desktop/CS_final_codes/workonhotspots/')\n",
    "eng = matlab.engine.start_matlab()\n",
    "eng.reading_hotspot2Data(nargout=0)\n",
    "os.chdir('/Users/sitani/Desktop/CS_final_codes/workonhotspots/FinalCodesForPublication/')\n",
    "os.getcwd()"
   ]
  },
  {
   "cell_type": "code",
   "execution_count": 3,
   "metadata": {},
   "outputs": [],
   "source": [
    "eng.quit()"
   ]
  },
  {
   "cell_type": "code",
   "execution_count": 4,
   "metadata": {},
   "outputs": [
    {
     "name": "stdout",
     "output_type": "stream",
     "text": [
      "(250, 58)\n",
      "(63, 58)\n",
      "(250,)\n",
      "(63,)\n"
     ]
    }
   ],
   "source": [
    "X=pd.read_csv('Atrain_whole.csv',header=None)\n",
    "y=pd.read_csv('label_whole.csv',header=None)\n",
    "\n",
    "X_train = pd.read_csv('Atrain2.csv',header=None)\n",
    "X_valid = pd.read_csv('Avalid2.csv',header=None)\n",
    "\n",
    "y_train=pd.read_csv('label_train2.csv',header=None)\n",
    "y_valid=pd.read_csv('label_valid2.csv',header=None)\n",
    "\n",
    "X_test=pd.read_csv('Atest2.csv',header=None)\n",
    "y_test=pd.read_csv('label_test2.csv',header=None)\n",
    "\n",
    "X_train=X_train.T#transpose\n",
    "X_valid=X_valid.T\n",
    "X=X.T\n",
    "X_test=X_test.T\n",
    "\n",
    "y_train=y_train.values.ravel()\n",
    "y_valid=y_valid.values.ravel()\n",
    "y=y.values.ravel()\n",
    "y_test=y_test.values.ravel()\n",
    "\n",
    "print(X_train.shape)\n",
    "print(X_valid.shape)\n",
    "print(y_train.shape)\n",
    "print(y_valid.shape)"
   ]
  },
  {
   "cell_type": "code",
   "execution_count": 5,
   "metadata": {},
   "outputs": [
    {
     "name": "stderr",
     "output_type": "stream",
     "text": [
      "/anaconda3/lib/python3.6/site-packages/sklearn/grid_search.py:42: DeprecationWarning: This module was deprecated in version 0.18 in favor of the model_selection module into which all the refactored classes and functions are moved. This module will be removed in 0.20.\n",
      "  DeprecationWarning)\n"
     ]
    }
   ],
   "source": [
    "from sklearn.grid_search import GridSearchCV"
   ]
  },
  {
   "cell_type": "code",
   "execution_count": 6,
   "metadata": {},
   "outputs": [
    {
     "name": "stdout",
     "output_type": "stream",
     "text": [
      "[1, 2, 3, 4, 5, 6, 7, 8, 9, 10, 11, 12, 13, 14, 15, 16, 17, 18, 19, 20, 21, 22, 23, 24, 25, 26, 27, 28, 29, 30, 31, 32, 33, 34, 35, 36, 37, 38, 39]\n"
     ]
    }
   ],
   "source": [
    "# define the parameter values that should be searched\n",
    "# for python 2, k_range = range(1, 31)\n",
    "k_range = list(range(1, 40))\n",
    "print(k_range)"
   ]
  },
  {
   "cell_type": "code",
   "execution_count": 7,
   "metadata": {},
   "outputs": [
    {
     "name": "stdout",
     "output_type": "stream",
     "text": [
      "{'n_neighbors': [1, 2, 3, 4, 5, 6, 7, 8, 9, 10, 11, 12, 13, 14, 15, 16, 17, 18, 19, 20, 21, 22, 23, 24, 25, 26, 27, 28, 29, 30, 31, 32, 33, 34, 35, 36, 37, 38, 39]}\n"
     ]
    }
   ],
   "source": [
    "# create a parameter grid: map the parameter names to the values that should be searched\n",
    "# simply a python dictionary\n",
    "# key: parameter name\n",
    "# value: list of values that should be searched for that parameter\n",
    "# single key-value pair for param_grid\n",
    "param_grid = dict(n_neighbors=k_range)\n",
    "print(param_grid)"
   ]
  },
  {
   "cell_type": "code",
   "execution_count": 8,
   "metadata": {},
   "outputs": [],
   "source": [
    "# instantiate the grid\n",
    "knn = KNeighborsClassifier(n_neighbors=5)\n",
    "grid = GridSearchCV(knn, param_grid, cv=5, scoring='recall')"
   ]
  },
  {
   "cell_type": "code",
   "execution_count": 9,
   "metadata": {},
   "outputs": [
    {
     "data": {
      "text/plain": [
       "GridSearchCV(cv=5, error_score='raise',\n",
       "       estimator=KNeighborsClassifier(algorithm='auto', leaf_size=30, metric='minkowski',\n",
       "           metric_params=None, n_jobs=1, n_neighbors=5, p=2,\n",
       "           weights='uniform'),\n",
       "       fit_params={}, iid=True, n_jobs=1,\n",
       "       param_grid={'n_neighbors': [1, 2, 3, 4, 5, 6, 7, 8, 9, 10, 11, 12, 13, 14, 15, 16, 17, 18, 19, 20, 21, 22, 23, 24, 25, 26, 27, 28, 29, 30, 31, 32, 33, 34, 35, 36, 37, 38, 39]},\n",
       "       pre_dispatch='2*n_jobs', refit=True, scoring='recall', verbose=0)"
      ]
     },
     "execution_count": 9,
     "metadata": {},
     "output_type": "execute_result"
    }
   ],
   "source": [
    "# fit the grid with data\n",
    "grid.fit(X, y)\n"
   ]
  },
  {
   "cell_type": "code",
   "execution_count": 10,
   "metadata": {},
   "outputs": [
    {
     "data": {
      "text/plain": [
       "[mean: 0.62399, std: 0.05445, params: {'n_neighbors': 1},\n",
       " mean: 0.37519, std: 0.09965, params: {'n_neighbors': 2},\n",
       " mean: 0.62349, std: 0.08424, params: {'n_neighbors': 3},\n",
       " mean: 0.44327, std: 0.12838, params: {'n_neighbors': 4},\n",
       " mean: 0.60064, std: 0.13630, params: {'n_neighbors': 5},\n",
       " mean: 0.47325, std: 0.13780, params: {'n_neighbors': 6},\n",
       " mean: 0.57844, std: 0.13734, params: {'n_neighbors': 7},\n",
       " mean: 0.42820, std: 0.10954, params: {'n_neighbors': 8},\n",
       " mean: 0.54116, std: 0.12124, params: {'n_neighbors': 9},\n",
       " mean: 0.44327, std: 0.09773, params: {'n_neighbors': 10},\n",
       " mean: 0.54116, std: 0.09371, params: {'n_neighbors': 11},\n",
       " mean: 0.46613, std: 0.06388, params: {'n_neighbors': 12},\n",
       " mean: 0.54895, std: 0.06131, params: {'n_neighbors': 13},\n",
       " mean: 0.47358, std: 0.08727, params: {'n_neighbors': 14},\n",
       " mean: 0.54149, std: 0.05277, params: {'n_neighbors': 15},\n",
       " mean: 0.48882, std: 0.05356, params: {'n_neighbors': 16},\n",
       " mean: 0.54895, std: 0.03845, params: {'n_neighbors': 17},\n",
       " mean: 0.50389, std: 0.06146, params: {'n_neighbors': 18},\n",
       " mean: 0.54149, std: 0.07377, params: {'n_neighbors': 19},\n",
       " mean: 0.51913, std: 0.10044, params: {'n_neighbors': 20},\n",
       " mean: 0.54895, std: 0.08346, params: {'n_neighbors': 21},\n",
       " mean: 0.48898, std: 0.07662, params: {'n_neighbors': 22},\n",
       " mean: 0.55689, std: 0.09988, params: {'n_neighbors': 23},\n",
       " mean: 0.48915, std: 0.09466, params: {'n_neighbors': 24},\n",
       " mean: 0.54928, std: 0.07372, params: {'n_neighbors': 25},\n",
       " mean: 0.45154, std: 0.06687, params: {'n_neighbors': 26},\n",
       " mean: 0.51913, std: 0.06366, params: {'n_neighbors': 27},\n",
       " mean: 0.45154, std: 0.08836, params: {'n_neighbors': 28},\n",
       " mean: 0.49660, std: 0.08286, params: {'n_neighbors': 29},\n",
       " mean: 0.45154, std: 0.08836, params: {'n_neighbors': 30},\n",
       " mean: 0.48185, std: 0.10862, params: {'n_neighbors': 31},\n",
       " mean: 0.43663, std: 0.08494, params: {'n_neighbors': 32},\n",
       " mean: 0.48185, std: 0.09516, params: {'n_neighbors': 33},\n",
       " mean: 0.43663, std: 0.08836, params: {'n_neighbors': 34},\n",
       " mean: 0.47424, std: 0.07136, params: {'n_neighbors': 35},\n",
       " mean: 0.44393, std: 0.07550, params: {'n_neighbors': 36},\n",
       " mean: 0.45154, std: 0.07492, params: {'n_neighbors': 37},\n",
       " mean: 0.42156, std: 0.09648, params: {'n_neighbors': 38},\n",
       " mean: 0.43647, std: 0.08040, params: {'n_neighbors': 39}]"
      ]
     },
     "execution_count": 10,
     "metadata": {},
     "output_type": "execute_result"
    }
   ],
   "source": [
    "# view the complete results (list of named tuples)\n",
    "grid.grid_scores_"
   ]
  },
  {
   "cell_type": "code",
   "execution_count": 12,
   "metadata": {},
   "outputs": [
    {
     "name": "stdout",
     "output_type": "stream",
     "text": [
      "[0.6239862374047678, 0.37519456049807487, 0.6234947161464733, 0.44327025477185217, 0.6006389776357828, 0.47325305152781183, 0.5784386008028181, 0.4281969361841566, 0.5411649053821578, 0.44327025477185217, 0.5411649053821578, 0.4661259932825428, 0.5489473253051529, 0.47358073236667486, 0.5414925862210207, 0.48881789137380194, 0.5489473253051528, 0.5038912099614975, 0.5414925862210208, 0.5191283689686246, 0.5489473253051528, 0.48898173179323334, 0.5568935856475793, 0.4891455722126648, 0.5492750061440158, 0.4515441959531416, 0.5191283689686245, 0.4515441959531416, 0.4966003112967969, 0.4515441959531416, 0.4818546735479643, 0.4366347177848775, 0.4818546735479643, 0.4366347177848775, 0.47423609404440076, 0.44392561644957806, 0.4515441959531416, 0.4215613991971819, 0.43647087736544604]\n"
     ]
    }
   ],
   "source": [
    "# create a list of the mean scores only\n",
    "# list comprehension to loop through grid.grid_scores\n",
    "grid_mean_scores = [result.mean_validation_score for result in grid.grid_scores_]\n",
    "print(grid_mean_scores)"
   ]
  },
  {
   "cell_type": "code",
   "execution_count": 13,
   "metadata": {},
   "outputs": [
    {
     "data": {
      "text/plain": [
       "Text(0,0.5,'Cross-Validated Accuracy')"
      ]
     },
     "execution_count": 13,
     "metadata": {},
     "output_type": "execute_result"
    },
    {
     "data": {
      "image/png": "[encoded data removed]",
      "text/plain": [
       "<Figure size 432x288 with 1 Axes>"
      ]
     },
     "metadata": {},
     "output_type": "display_data"
    }
   ],
   "source": [
    "# plot the results\n",
    "# this is identical to the one we generated above\n",
    "plt.plot(k_range, grid_mean_scores)\n",
    "plt.xlabel('Value of K for KNN')\n",
    "plt.ylabel('Cross-Validated Accuracy')\n"
   ]
  },
  {
   "cell_type": "code",
   "execution_count": 13,
   "metadata": {},
   "outputs": [
    {
     "name": "stdout",
     "output_type": "stream",
     "text": [
      "0.6239862374047678\n",
      "{'n_neighbors': 1}\n",
      "KNeighborsClassifier(algorithm='auto', leaf_size=30, metric='minkowski',\n",
      "           metric_params=None, n_jobs=1, n_neighbors=1, p=2,\n",
      "           weights='uniform')\n"
     ]
    }
   ],
   "source": [
    "# examine the best model\n",
    "\n",
    "# Single best score achieved across all params (k)\n",
    "print(grid.best_score_)\n",
    "\n",
    "# Dictionary containing the parameters (k) used to generate that score\n",
    "print(grid.best_params_)\n",
    "\n",
    "# Actual model object fit with those best parameters\n",
    "# Shows default parameters that we did not specify\n",
    "print(grid.best_estimator_)"
   ]
  },
  {
   "cell_type": "code",
   "execution_count": 14,
   "metadata": {},
   "outputs": [],
   "source": [
    "# define the parameter values that should be searched\n",
    "k_range = list(range(1, 40))\n",
    "\n",
    "# Another parameter besides k that we might vary is the weights parameters\n",
    "# default options --> uniform (all points in the neighborhood are weighted equally)\n",
    "# another option --> distance (weights closer neighbors more heavily than further neighbors)\n",
    "\n",
    "# we create a list\n",
    "weight_options = ['uniform', 'distance']\n",
    "score=['accuracy','f1','precision','recall','roc_auc']\n"
   ]
  },
  {
   "cell_type": "code",
   "execution_count": 15,
   "metadata": {},
   "outputs": [
    {
     "name": "stdout",
     "output_type": "stream",
     "text": [
      "{'n_neighbors': [1, 2, 3, 4, 5, 6, 7, 8, 9, 10, 11, 12, 13, 14, 15, 16, 17, 18, 19, 20, 21, 22, 23, 24, 25, 26, 27, 28, 29, 30, 31, 32, 33, 34, 35, 36, 37, 38, 39], 'weights': ['uniform', 'distance']}\n"
     ]
    }
   ],
   "source": [
    "# create a parameter grid: map the parameter names to the values that should be searched\n",
    "# dictionary = dict(key=values, key=values)\n",
    "param_grid = dict(n_neighbors=k_range, weights=weight_options)\n",
    "print(param_grid)"
   ]
  },
  {
   "cell_type": "code",
   "execution_count": 20,
   "metadata": {},
   "outputs": [
    {
     "data": {
      "text/plain": [
       "GridSearchCV(cv=5, error_score='raise',\n",
       "       estimator=KNeighborsClassifier(algorithm='auto', leaf_size=30, metric='minkowski',\n",
       "           metric_params=None, n_jobs=1, n_neighbors=4, p=2,\n",
       "           weights='distance'),\n",
       "       fit_params={}, iid=True, n_jobs=1,\n",
       "       param_grid={'n_neighbors': [1, 2, 3, 4, 5, 6, 7, 8, 9, 10, 11, 12, 13, 14, 15, 16, 17, 18, 19, 20, 21, 22, 23, 24, 25, 26, 27, 28, 29, 30, 31, 32, 33, 34, 35, 36, 37, 38, 39], 'weights': ['uniform', 'distance']},\n",
       "       pre_dispatch='2*n_jobs', refit=True, scoring='recall', verbose=0)"
      ]
     },
     "execution_count": 20,
     "metadata": {},
     "output_type": "execute_result"
    }
   ],
   "source": [
    "# instantiate and fit the grid\n",
    "# exhaustive grid-search because it's trying every combination\n",
    "# 10-fold cross-validation is being performed 30 x 2 = 60 times\n",
    "\n",
    "grid = GridSearchCV(knn, param_grid, cv=5,scoring='recall')\n",
    "grid.fit(X_train, y_train)\n",
    "\n"
   ]
  },
  {
   "cell_type": "code",
   "execution_count": 21,
   "metadata": {},
   "outputs": [
    {
     "data": {
      "text/plain": [
       "([mean: 0.56301, std: 0.06931, params: {'n_neighbors': 1, 'weights': 'uniform'},\n",
       "  mean: 0.56301, std: 0.06931, params: {'n_neighbors': 1, 'weights': 'distance'},\n",
       "  mean: 0.30092, std: 0.08348, params: {'n_neighbors': 2, 'weights': 'uniform'},\n",
       "  mean: 0.56301, std: 0.06931, params: {'n_neighbors': 2, 'weights': 'distance'},\n",
       "  mean: 0.55291, std: 0.11523, params: {'n_neighbors': 3, 'weights': 'uniform'},\n",
       "  mean: 0.57243, std: 0.10663, params: {'n_neighbors': 3, 'weights': 'distance'},\n",
       "  mean: 0.40764, std: 0.08869, params: {'n_neighbors': 4, 'weights': 'uniform'},\n",
       "  mean: 0.60119, std: 0.13533, params: {'n_neighbors': 4, 'weights': 'distance'},\n",
       "  mean: 0.59167, std: 0.13686, params: {'n_neighbors': 5, 'weights': 'uniform'},\n",
       "  mean: 0.59175, std: 0.14476, params: {'n_neighbors': 5, 'weights': 'distance'},\n",
       "  mean: 0.41690, std: 0.07432, params: {'n_neighbors': 6, 'weights': 'uniform'},\n",
       "  mean: 0.62098, std: 0.11605, params: {'n_neighbors': 6, 'weights': 'distance'},\n",
       "  mean: 0.52381, std: 0.08059, params: {'n_neighbors': 7, 'weights': 'uniform'},\n",
       "  mean: 0.54350, std: 0.06713, params: {'n_neighbors': 7, 'weights': 'distance'},\n",
       "  mean: 0.39720, std: 0.16014, params: {'n_neighbors': 8, 'weights': 'uniform'},\n",
       "  mean: 0.54341, std: 0.08920, params: {'n_neighbors': 8, 'weights': 'distance'},\n",
       "  mean: 0.52390, std: 0.13090, params: {'n_neighbors': 9, 'weights': 'uniform'},\n",
       "  mean: 0.56301, std: 0.12196, params: {'n_neighbors': 9, 'weights': 'distance'},\n",
       "  mean: 0.42688, std: 0.12279, params: {'n_neighbors': 10, 'weights': 'uniform'},\n",
       "  mean: 0.56301, std: 0.09383, params: {'n_neighbors': 10, 'weights': 'distance'},\n",
       "  mean: 0.50455, std: 0.12906, params: {'n_neighbors': 11, 'weights': 'uniform'},\n",
       "  mean: 0.54358, std: 0.09982, params: {'n_neighbors': 11, 'weights': 'distance'},\n",
       "  mean: 0.42669, std: 0.11314, params: {'n_neighbors': 12, 'weights': 'uniform'},\n",
       "  mean: 0.54358, std: 0.09982, params: {'n_neighbors': 12, 'weights': 'distance'},\n",
       "  mean: 0.47560, std: 0.12531, params: {'n_neighbors': 13, 'weights': 'uniform'},\n",
       "  mean: 0.49475, std: 0.12241, params: {'n_neighbors': 13, 'weights': 'distance'},\n",
       "  mean: 0.43649, std: 0.14713, params: {'n_neighbors': 14, 'weights': 'uniform'},\n",
       "  mean: 0.49484, std: 0.13927, params: {'n_neighbors': 14, 'weights': 'distance'},\n",
       "  mean: 0.49475, std: 0.11476, params: {'n_neighbors': 15, 'weights': 'uniform'},\n",
       "  mean: 0.49475, std: 0.12241, params: {'n_neighbors': 15, 'weights': 'distance'},\n",
       "  mean: 0.45572, std: 0.12588, params: {'n_neighbors': 16, 'weights': 'uniform'},\n",
       "  mean: 0.50428, std: 0.12603, params: {'n_neighbors': 16, 'weights': 'distance'},\n",
       "  mean: 0.49467, std: 0.11770, params: {'n_neighbors': 17, 'weights': 'uniform'},\n",
       "  mean: 0.50438, std: 0.12149, params: {'n_neighbors': 17, 'weights': 'distance'},\n",
       "  mean: 0.41708, std: 0.10108, params: {'n_neighbors': 18, 'weights': 'uniform'},\n",
       "  mean: 0.51410, std: 0.11298, params: {'n_neighbors': 18, 'weights': 'distance'},\n",
       "  mean: 0.47534, std: 0.12236, params: {'n_neighbors': 19, 'weights': 'uniform'},\n",
       "  mean: 0.50438, std: 0.12149, params: {'n_neighbors': 19, 'weights': 'distance'},\n",
       "  mean: 0.41699, std: 0.10917, params: {'n_neighbors': 20, 'weights': 'uniform'},\n",
       "  mean: 0.50466, std: 0.12822, params: {'n_neighbors': 20, 'weights': 'distance'},\n",
       "  mean: 0.50449, std: 0.09769, params: {'n_neighbors': 21, 'weights': 'uniform'},\n",
       "  mean: 0.50447, std: 0.09086, params: {'n_neighbors': 21, 'weights': 'distance'},\n",
       "  mean: 0.42709, std: 0.12952, params: {'n_neighbors': 22, 'weights': 'uniform'},\n",
       "  mean: 0.48506, std: 0.09185, params: {'n_neighbors': 22, 'weights': 'distance'},\n",
       "  mean: 0.46565, std: 0.12058, params: {'n_neighbors': 23, 'weights': 'uniform'},\n",
       "  mean: 0.49467, std: 0.09409, params: {'n_neighbors': 23, 'weights': 'distance'},\n",
       "  mean: 0.41710, std: 0.12090, params: {'n_neighbors': 24, 'weights': 'uniform'},\n",
       "  mean: 0.50457, std: 0.07830, params: {'n_neighbors': 24, 'weights': 'distance'},\n",
       "  mean: 0.46573, std: 0.08298, params: {'n_neighbors': 25, 'weights': 'uniform'},\n",
       "  mean: 0.48495, std: 0.10240, params: {'n_neighbors': 25, 'weights': 'distance'},\n",
       "  mean: 0.40755, std: 0.09250, params: {'n_neighbors': 26, 'weights': 'uniform'},\n",
       "  mean: 0.49486, std: 0.10551, params: {'n_neighbors': 26, 'weights': 'distance'},\n",
       "  mean: 0.47581, std: 0.09839, params: {'n_neighbors': 27, 'weights': 'uniform'},\n",
       "  mean: 0.50447, std: 0.10653, params: {'n_neighbors': 27, 'weights': 'distance'},\n",
       "  mean: 0.40755, std: 0.09250, params: {'n_neighbors': 28, 'weights': 'uniform'},\n",
       "  mean: 0.49494, std: 0.09769, params: {'n_neighbors': 28, 'weights': 'distance'},\n",
       "  mean: 0.45647, std: 0.10240, params: {'n_neighbors': 29, 'weights': 'uniform'},\n",
       "  mean: 0.49494, std: 0.09769, params: {'n_neighbors': 29, 'weights': 'distance'},\n",
       "  mean: 0.41735, std: 0.08243, params: {'n_neighbors': 30, 'weights': 'uniform'},\n",
       "  mean: 0.48550, std: 0.09376, params: {'n_neighbors': 30, 'weights': 'distance'},\n",
       "  mean: 0.45602, std: 0.07235, params: {'n_neighbors': 31, 'weights': 'uniform'},\n",
       "  mean: 0.47534, std: 0.09472, params: {'n_neighbors': 31, 'weights': 'distance'},\n",
       "  mean: 0.38795, std: 0.12034, params: {'n_neighbors': 32, 'weights': 'uniform'},\n",
       "  mean: 0.44630, std: 0.10547, params: {'n_neighbors': 32, 'weights': 'distance'},\n",
       "  mean: 0.43678, std: 0.07083, params: {'n_neighbors': 33, 'weights': 'uniform'},\n",
       "  mean: 0.45583, std: 0.08920, params: {'n_neighbors': 33, 'weights': 'distance'},\n",
       "  mean: 0.42707, std: 0.08031, params: {'n_neighbors': 34, 'weights': 'uniform'},\n",
       "  mean: 0.45638, std: 0.07830, params: {'n_neighbors': 34, 'weights': 'distance'},\n",
       "  mean: 0.44650, std: 0.06565, params: {'n_neighbors': 35, 'weights': 'uniform'},\n",
       "  mean: 0.45602, std: 0.07235, params: {'n_neighbors': 35, 'weights': 'distance'},\n",
       "  mean: 0.37834, std: 0.07573, params: {'n_neighbors': 36, 'weights': 'uniform'},\n",
       "  mean: 0.43650, std: 0.09196, params: {'n_neighbors': 36, 'weights': 'distance'},\n",
       "  mean: 0.41746, std: 0.08117, params: {'n_neighbors': 37, 'weights': 'uniform'},\n",
       "  mean: 0.45583, std: 0.08920, params: {'n_neighbors': 37, 'weights': 'distance'},\n",
       "  mean: 0.38814, std: 0.11651, params: {'n_neighbors': 38, 'weights': 'uniform'},\n",
       "  mean: 0.43650, std: 0.09196, params: {'n_neighbors': 38, 'weights': 'distance'},\n",
       "  mean: 0.40774, std: 0.11683, params: {'n_neighbors': 39, 'weights': 'uniform'},\n",
       "  mean: 0.43659, std: 0.08797, params: {'n_neighbors': 39, 'weights': 'distance'}],\n",
       " {'n_neighbors': 6, 'weights': 'distance'},\n",
       " 0.6209809523809524)"
      ]
     },
     "execution_count": 21,
     "metadata": {},
     "output_type": "execute_result"
    }
   ],
   "source": [
    "# view the complete results\n",
    "grid.grid_scores_, grid.best_params_, grid.best_score_,\n",
    "#grid.grid_scores_(min(mean))"
   ]
  },
  {
   "cell_type": "code",
   "execution_count": 22,
   "metadata": {},
   "outputs": [
    {
     "data": {
      "text/plain": [
       "KNeighborsClassifier(algorithm='auto', leaf_size=30, metric='minkowski',\n",
       "           metric_params=None, n_jobs=1, n_neighbors=6, p=2,\n",
       "           weights='distance')"
      ]
     },
     "execution_count": 22,
     "metadata": {},
     "output_type": "execute_result"
    }
   ],
   "source": [
    "# train your model using all data and the best known parameters\n",
    "param1=grid.best_params_[\"n_neighbors\"]\n",
    "param2=grid.best_params_[\"weights\"]\n",
    "# instantiate model with best parameters\n",
    "\n",
    "knn = KNeighborsClassifier(n_neighbors=param1, weights=param2)\n",
    "\n",
    "# fit with X and y, not X_train and y_train\n",
    "# even if we use train/valid split, we should train on X and y before making predictions on new data\n",
    "# otherwise we throw away potential valuable data we can learn from\n",
    "knn.fit(X_train, y_train)\n",
    "\n",
    "# make a prediction on out-of-sample data\n",
    "#knn.predict([3, 5, 4, 2])"
   ]
  },
  {
   "cell_type": "code",
   "execution_count": 23,
   "metadata": {},
   "outputs": [
    {
     "name": "stdout",
     "output_type": "stream",
     "text": [
      "0.6209809523809524\n",
      "{'n_neighbors': 6, 'weights': 'distance'}\n"
     ]
    }
   ],
   "source": [
    "# examine the best model\n",
    "print(grid.best_score_)\n",
    "print(grid.best_params_)\n",
    "#grid.best_params_[\"n_neighbors\"]\n",
    "# Best score did not improve for this model"
   ]
  },
  {
   "cell_type": "code",
   "execution_count": 24,
   "metadata": {},
   "outputs": [],
   "source": [
    "y_pred= knn.predict(X_valid) \n",
    "    "
   ]
  },
  {
   "cell_type": "code",
   "execution_count": 25,
   "metadata": {},
   "outputs": [
    {
     "data": {
      "image/png": "[encoded data removed]",
      "text/plain": [
       "<Figure size 432x288 with 1 Axes>"
      ]
     },
     "metadata": {},
     "output_type": "display_data"
    }
   ],
   "source": [
    "%matplotlib inline\n",
    "from sklearn.metrics import roc_auc_score\n",
    "from sklearn.metrics import roc_curve\n",
    "knn_roc_auc = roc_auc_score(y_valid, y_pred)\n",
    "# predict probabilities\n",
    "\n",
    "probs = knn.predict_proba(X_valid)\n",
    "# keep probabilities for the positive outcome only\n",
    "probs = probs[:, 1]\n",
    "fpr, tpr, thresholds = roc_curve(y_valid, probs)\n",
    "plt.figure()\n",
    "plt.plot(fpr, tpr, label='KNN(area = %0.2f)' % knn_roc_auc)\n",
    "plt.plot([0, 1], [0, 1],'r--')\n",
    "plt.xlim([0.0, 1.0])\n",
    "plt.ylim([0.0, 1.05])\n",
    "plt.ylabel('True Positive Rate(Sensitivity)')\n",
    "plt.xlabel('False Positive Rate(1-Specificity)')\n",
    "plt.title('Receiver operating characteristic')\n",
    "plt.legend(loc=\"lower right\")\n",
    "plt.savefig('KNN_ROC')\n",
    "plt.show()"
   ]
  },
  {
   "cell_type": "code",
   "execution_count": 28,
   "metadata": {},
   "outputs": [
    {
     "name": "stdout",
     "output_type": "stream",
     "text": [
      "Accuracy of KNN classifier: 0.71\n",
      "\n",
      "\n",
      "Confusion matrix : \n",
      "                    Class 1  Class 0\n",
      "Predicted Class 1       24        9\n",
      "Predicted Class 0        9       21\n",
      "\n",
      "\n",
      "\n",
      "\n",
      "[[24  9]\n",
      " [ 9 21]]\n",
      "Sensitivity : 0.7272727272727273\n",
      "\n",
      "\n",
      "Specificity : 0.7\n",
      "\n",
      "\n",
      "precision : 0.7272727272727273\n",
      "\n",
      "\n",
      "F1 Score: 0.7\n",
      "\n",
      "\n",
      "Matthews Correlation Coefficient: 0.42727272727272725\n",
      "\n",
      "\n",
      "AUC: 0.779\n",
      "\n",
      "\n"
     ]
    }
   ],
   "source": [
    "print('Accuracy of KNN classifier: {:.2f}'.format(knn.score(X_valid, y_valid)))\n",
    "print('\\n')\n",
    "from sklearn.metrics import confusion_matrix\n",
    "import pandas as pd\n",
    "\n",
    "confusion_df = pd.DataFrame(confusion_matrix(y_valid,y_pred),\n",
    "             columns=[\"Predicted Class \" + str(class_name) for class_name in [1,0]],\n",
    "             index = [\"Class \" + str(class_name) for class_name in [1,0]])\n",
    "\n",
    "print('Confusion matrix : \\n',confusion_df.T)\n",
    "print('\\n')\n",
    "\n",
    "\n",
    "cm1 = confusion_matrix(y_valid, y_pred).T\n",
    "print('\\n')\n",
    "total1=sum(sum(cm1))\n",
    "print(cm1)\n",
    "#####from confusion matrix calculate sensitivity specificity\n",
    "\n",
    "\n",
    "sensitivity1 = cm1[0,0]/(cm1[0,0]+cm1[1,0])\n",
    "print('Sensitivity :', sensitivity1 )\n",
    "print('\\n')\n",
    "specificity1 = cm1[1,1]/(cm1[0,1]+cm1[1,1])\n",
    "print('Specificity :', specificity1)\n",
    "print('\\n')\n",
    "precision = cm1[0,0]/(cm1[0,0]+cm1[0,1])\n",
    "print('precision :', precision)\n",
    "print('\\n')\n",
    "#from sklearn.metrics import precision_score\n",
    "#print(\"Precision score: {}\".format(precision_score(y_valid,y_pred)))\n",
    "#print('\\n')\n",
    "from sklearn.metrics import f1_score\n",
    "print(\"F1 Score: {}\".format(f1_score(y_valid,y_pred)))\n",
    "print('\\n')\n",
    "from sklearn.metrics import matthews_corrcoef\n",
    "print(\"Matthews Correlation Coefficient: {}\".format(matthews_corrcoef(y_valid, y_pred)))\n",
    "print('\\n')\n",
    "##Area under Curve-AUC\n",
    "auc = roc_auc_score(y_valid, knn.predict_proba(X_valid)[:,1])\n",
    "print('AUC: %.3f' % auc)\n",
    "print('\\n')"
   ]
  },
  {
   "cell_type": "code",
   "execution_count": 27,
   "metadata": {},
   "outputs": [
    {
     "data": {
      "text/plain": [
       "9"
      ]
     },
     "execution_count": 27,
     "metadata": {},
     "output_type": "execute_result"
    }
   ],
   "source": []
  },
  {
   "cell_type": "code",
   "execution_count": null,
   "metadata": {},
   "outputs": [],
   "source": []
  },
  {
   "cell_type": "code",
   "execution_count": null,
   "metadata": {},
   "outputs": [],
   "source": []
  }
 ],
 "metadata": {
  "kernelspec": {
   "display_name": "Python 3",
   "language": "python",
   "name": "python3"
  },
  "language_info": {
   "codemirror_mode": {
    "name": "ipython",
    "version": 3
   },
   "file_extension": ".py",
   "mimetype": "text/x-python",
   "name": "python",
   "nbconvert_exporter": "python",
   "pygments_lexer": "ipython3",
   "version": "3.6.5"
  }
 },
 "nbformat": 4,
 "nbformat_minor": 2
}
